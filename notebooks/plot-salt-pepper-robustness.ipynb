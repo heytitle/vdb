{
 "cells": [
  {
   "cell_type": "code",
   "execution_count": 1,
   "metadata": {},
   "outputs": [],
   "source": [
    "%matplotlib inline\n",
    "import pandas as pd\n",
    "import glob\n",
    "import yaml\n",
    "import numpy as np\n",
    "\n",
    "from matplotlib import pyplot as plt"
   ]
  },
  {
   "cell_type": "code",
   "execution_count": 2,
   "metadata": {},
   "outputs": [],
   "source": [
    "def strategy_alias(strategy):\n",
    "    if strategy[:3] == \"alt\":\n",
    "        return \"algo2/k:\" + strategy.split(\"/\")[1].split(\"|\")[0].split(\":\")[1]\n",
    "    elif strategy[:3] == \"seq\":\n",
    "        return strategy.replace(\"seq\", \"algo1\")\n",
    "    else:\n",
    "        return strategy"
   ]
  },
  {
   "cell_type": "code",
   "execution_count": 3,
   "metadata": {},
   "outputs": [
    {
     "data": {
      "text/plain": [
       "({'M': 1,\n",
       "  'beta': 0.001,\n",
       "  'dataset': 'mnist',\n",
       "  'epoch': 200,\n",
       "  'lr': 0.0001,\n",
       "  'metrics': {'test': {'I_XZ': 27.33572769165039,\n",
       "    'I_YZ': 3.196556806564331,\n",
       "    'accuracy_L1': 0.9815000295639038,\n",
       "    'accuracy_L12': 0.9851998686790466,\n",
       "    'loss': 0.152706578373909},\n",
       "   'train': {'I_XZ': 26.814111709594727,\n",
       "    'I_YZ': 3.314906358718872,\n",
       "    'accuracy_L1': 0.9996497631072998,\n",
       "    'accuracy_L12': 1.0,\n",
       "    'loss': 0.03383512794971466}},\n",
       "  'model': 'vdb/e1:1024|e2:1024|z:256',\n",
       "  'strategy': 'algo1/d:10|e:1'},\n",
       " {'L': 12,\n",
       "  'batch_size': 1000,\n",
       "  'settings': [{'accuracy': 0.9845999479293823, 'p': 0},\n",
       "   {'accuracy': 0.9753000140190125, 'p': 0.1},\n",
       "   {'accuracy': 0.9429000616073608, 'p': 0.2},\n",
       "   {'accuracy': 0.7723000049591064, 'p': 0.3},\n",
       "   {'accuracy': 0.41780003905296326, 'p': 0.4},\n",
       "   {'accuracy': 0.12560001015663147, 'p': 0.5}]})"
      ]
     },
     "execution_count": 3,
     "metadata": {},
     "output_type": "execute_result"
    }
   ],
   "source": [
    "def read_salt_pepper_analysis(path):\n",
    "    with open(f\"{path}/salt-pepper-analysis.yml\", \"r\") as fh:\n",
    "        result = yaml.safe_load(fh)\n",
    "    with open(f\"{path}/summary.yml\", \"r\") as fh:\n",
    "        summary = yaml.safe_load(fh)\n",
    "        summary[\"strategy\"] = strategy_alias(summary[\"strategy\"])\n",
    "    return summary, result\n",
    "\n",
    "read_salt_pepper_analysis(\"../artifacts-server/mpg-server/experiment-mnist-256d-test-robustness/mnist-various-opts-M1/vdb-mnist--2019-12-19--02-39-59-799025\")"
   ]
  },
  {
   "cell_type": "code",
   "execution_count": 7,
   "metadata": {},
   "outputs": [],
   "source": [
    "def read_analysis_from_dir(model_dir):\n",
    "    models = list(map(lambda x: \"/\".join(x.split(\"/\")[:-1]), glob.glob(f\"{model_dir}/salt-pepper-analysis.yml\")))\n",
    "    print(f\"we have {len(models)} analyses\")\n",
    "    \n",
    "    data = []\n",
    "    for m in models:\n",
    "        summary, result = read_salt_pepper_analysis(m)\n",
    "        for r in result['settings']:\n",
    "            data.append(\n",
    "                dict(\n",
    "                    strategy=summary['strategy'],\n",
    "                    M=summary['M'],\n",
    "                    **r\n",
    "                )\n",
    "            )\n",
    "    return pd.DataFrame(data)"
   ]
  },
  {
   "cell_type": "code",
   "execution_count": 8,
   "metadata": {},
   "outputs": [],
   "source": [
    "def print_table(df, p, L, should_print=True):\n",
    "    metric = \"accuracy\"\n",
    "    df = df[(df.p == p) & (df.L == L)]\\\n",
    "        .groupby([\"strategy\", \"M\"])[metric]\\\n",
    "        .agg({metric: ['mean', 'std']})\\\n",
    "        .reset_index()\n",
    "        \n",
    "    df[\"temp\"] = df[metric][['mean', 'std']].apply(lambda x: \"%.2f±%.4f\\%%\" % (x[0]*100, x[1]*100), axis=1) \n",
    "\n",
    "    df = df.drop(columns=[metric])\\\n",
    "        .rename(columns={\"temp\": f\"{metric} ($p=%f$, L=%d)\" % (p, L)}) \\\n",
    "        .pivot(index=\"strategy\", columns=\"M\")\n",
    "    \n",
    "    if should_print:\n",
    "        print(df.to_latex(column_format=\"rcccc\", escape=False))\n",
    "    \n",
    "    return df"
   ]
  },
  {
   "cell_type": "markdown",
   "metadata": {},
   "source": [
    "# MNIST\n",
    "## VDB 256"
   ]
  },
  {
   "cell_type": "code",
   "execution_count": 9,
   "metadata": {},
   "outputs": [
    {
     "name": "stdout",
     "output_type": "stream",
     "text": [
      "we have 112 analyses\n"
     ]
    },
    {
     "data": {
      "text/plain": [
       "strategy        M   L   p  \n",
       "algo1/d:10|e:1  1   1   0.0    4\n",
       "                        0.1    4\n",
       "                        0.2    4\n",
       "                        0.3    4\n",
       "                        0.4    4\n",
       "                        0.5    4\n",
       "                    12  0.0    4\n",
       "                        0.1    4\n",
       "                        0.2    4\n",
       "                        0.3    4\n",
       "                        0.4    4\n",
       "                        0.5    4\n",
       "                6   1   0.0    4\n",
       "                        0.1    4\n",
       "                        0.2    4\n",
       "                        0.3    4\n",
       "                        0.4    4\n",
       "                        0.5    4\n",
       "                    12  0.0    4\n",
       "                        0.1    4\n",
       "                        0.2    4\n",
       "                        0.3    4\n",
       "                        0.4    4\n",
       "                        0.5    4\n",
       "                12  1   0.0    4\n",
       "                        0.1    4\n",
       "                        0.2    4\n",
       "                        0.3    4\n",
       "                        0.4    4\n",
       "                        0.5    4\n",
       "                              ..\n",
       "oneshot         6   12  0.0    4\n",
       "                        0.1    4\n",
       "                        0.2    4\n",
       "                        0.3    4\n",
       "                        0.4    4\n",
       "                        0.5    4\n",
       "                12  1   0.0    4\n",
       "                        0.1    4\n",
       "                        0.2    4\n",
       "                        0.3    4\n",
       "                        0.4    4\n",
       "                        0.5    4\n",
       "                    12  0.0    4\n",
       "                        0.1    4\n",
       "                        0.2    4\n",
       "                        0.3    4\n",
       "                        0.4    4\n",
       "                        0.5    4\n",
       "                18  1   0.0    4\n",
       "                        0.1    4\n",
       "                        0.2    4\n",
       "                        0.3    4\n",
       "                        0.4    4\n",
       "                        0.5    4\n",
       "                    12  0.0    4\n",
       "                        0.1    4\n",
       "                        0.2    4\n",
       "                        0.3    4\n",
       "                        0.4    4\n",
       "                        0.5    4\n",
       "Name: M, Length: 336, dtype: int64"
      ]
     },
     "execution_count": 9,
     "metadata": {},
     "output_type": "execute_result"
    }
   ],
   "source": [
    "df_mnist_256d = read_analysis_from_dir(\"../artifacts-server/hydra/experiment-mnist-256d-test-robustness/*/*\")\n",
    "df_mnist_256d.groupby([\"strategy\", \"M\", \"L\", \"p\"])[\"M\"].count()"
   ]
  },
  {
   "cell_type": "code",
   "execution_count": 227,
   "metadata": {},
   "outputs": [
    {
     "name": "stdout",
     "output_type": "stream",
     "text": [
      "\\begin{tabular}{rcccc}\n",
      "\\toprule\n",
      "{} & \\multicolumn{4}{l}{accuracy ($p=0.000000$, L=12)} \\\\\n",
      "{} \\\\\n",
      "M &                            1  &              6  &              12 &              18 \\\\\n",
      "strategy       &                               &                 &                 &                 \\\\\n",
      "\\midrule\n",
      "algo1/d:10|e:1 &                98.51±0.0457\\% &  98.58±0.0602\\% &  98.66±0.0967\\% &  98.61±0.0300\\% \\\\\n",
      "algo1/d:20|e:1 &                98.61±0.1352\\% &  98.57±0.0299\\% &  98.66±0.0589\\% &  98.60±0.0294\\% \\\\\n",
      "algo1/d:5|e:1  &                98.48±0.1804\\% &  98.61±0.0638\\% &  98.50±0.1846\\% &  98.66±0.0938\\% \\\\\n",
      "algo2/k:10     &                98.60±0.0939\\% &  98.61±0.0557\\% &  98.69±0.0802\\% &  98.63±0.0469\\% \\\\\n",
      "algo2/k:20     &                98.56±0.1866\\% &  98.64±0.1050\\% &  98.62±0.0976\\% &  98.65±0.0737\\% \\\\\n",
      "algo2/k:5      &                98.45±0.0550\\% &  98.44±0.3968\\% &  98.59±0.0545\\% &  98.57±0.0716\\% \\\\\n",
      "oneshot        &                98.47±0.2004\\% &  98.62±0.0705\\% &  98.64±0.0714\\% &  98.62±0.0676\\% \\\\\n",
      "\\bottomrule\n",
      "\\end{tabular}\n",
      "\n"
     ]
    },
    {
     "name": "stderr",
     "output_type": "stream",
     "text": [
      "/Users/heytitle/projects/venv-python3/lib/python3.7/site-packages/ipykernel_launcher.py:5: FutureWarning: using a dict on a Series for aggregation\n",
      "is deprecated and will be removed in a future version\n",
      "  \"\"\"\n"
     ]
    },
    {
     "data": {
      "text/html": [
       "<div>\n",
       "<style scoped>\n",
       "    .dataframe tbody tr th:only-of-type {\n",
       "        vertical-align: middle;\n",
       "    }\n",
       "\n",
       "    .dataframe tbody tr th {\n",
       "        vertical-align: top;\n",
       "    }\n",
       "\n",
       "    .dataframe thead tr th {\n",
       "        text-align: left;\n",
       "    }\n",
       "\n",
       "    .dataframe thead tr:last-of-type th {\n",
       "        text-align: right;\n",
       "    }\n",
       "</style>\n",
       "<table border=\"1\" class=\"dataframe\">\n",
       "  <thead>\n",
       "    <tr>\n",
       "      <th></th>\n",
       "      <th colspan=\"4\" halign=\"left\">accuracy ($p=0.000000$, L=12)</th>\n",
       "    </tr>\n",
       "    <tr>\n",
       "      <th></th>\n",
       "      <th colspan=\"4\" halign=\"left\"></th>\n",
       "    </tr>\n",
       "    <tr>\n",
       "      <th>M</th>\n",
       "      <th>1</th>\n",
       "      <th>6</th>\n",
       "      <th>12</th>\n",
       "      <th>18</th>\n",
       "    </tr>\n",
       "    <tr>\n",
       "      <th>strategy</th>\n",
       "      <th></th>\n",
       "      <th></th>\n",
       "      <th></th>\n",
       "      <th></th>\n",
       "    </tr>\n",
       "  </thead>\n",
       "  <tbody>\n",
       "    <tr>\n",
       "      <th>algo1/d:10|e:1</th>\n",
       "      <td>98.51±0.0457\\%</td>\n",
       "      <td>98.58±0.0602\\%</td>\n",
       "      <td>98.66±0.0967\\%</td>\n",
       "      <td>98.61±0.0300\\%</td>\n",
       "    </tr>\n",
       "    <tr>\n",
       "      <th>algo1/d:20|e:1</th>\n",
       "      <td>98.61±0.1352\\%</td>\n",
       "      <td>98.57±0.0299\\%</td>\n",
       "      <td>98.66±0.0589\\%</td>\n",
       "      <td>98.60±0.0294\\%</td>\n",
       "    </tr>\n",
       "    <tr>\n",
       "      <th>algo1/d:5|e:1</th>\n",
       "      <td>98.48±0.1804\\%</td>\n",
       "      <td>98.61±0.0638\\%</td>\n",
       "      <td>98.50±0.1846\\%</td>\n",
       "      <td>98.66±0.0938\\%</td>\n",
       "    </tr>\n",
       "    <tr>\n",
       "      <th>algo2/k:10</th>\n",
       "      <td>98.60±0.0939\\%</td>\n",
       "      <td>98.61±0.0557\\%</td>\n",
       "      <td>98.69±0.0802\\%</td>\n",
       "      <td>98.63±0.0469\\%</td>\n",
       "    </tr>\n",
       "    <tr>\n",
       "      <th>algo2/k:20</th>\n",
       "      <td>98.56±0.1866\\%</td>\n",
       "      <td>98.64±0.1050\\%</td>\n",
       "      <td>98.62±0.0976\\%</td>\n",
       "      <td>98.65±0.0737\\%</td>\n",
       "    </tr>\n",
       "    <tr>\n",
       "      <th>algo2/k:5</th>\n",
       "      <td>98.45±0.0550\\%</td>\n",
       "      <td>98.44±0.3968\\%</td>\n",
       "      <td>98.59±0.0545\\%</td>\n",
       "      <td>98.57±0.0716\\%</td>\n",
       "    </tr>\n",
       "    <tr>\n",
       "      <th>oneshot</th>\n",
       "      <td>98.47±0.2004\\%</td>\n",
       "      <td>98.62±0.0705\\%</td>\n",
       "      <td>98.64±0.0714\\%</td>\n",
       "      <td>98.62±0.0676\\%</td>\n",
       "    </tr>\n",
       "  </tbody>\n",
       "</table>\n",
       "</div>"
      ],
      "text/plain": [
       "               accuracy ($p=0.000000$, L=12)                                  \\\n",
       "                                                                               \n",
       "M                                         1               6               12   \n",
       "strategy                                                                       \n",
       "algo1/d:10|e:1                98.51±0.0457\\%  98.58±0.0602\\%  98.66±0.0967\\%   \n",
       "algo1/d:20|e:1                98.61±0.1352\\%  98.57±0.0299\\%  98.66±0.0589\\%   \n",
       "algo1/d:5|e:1                 98.48±0.1804\\%  98.61±0.0638\\%  98.50±0.1846\\%   \n",
       "algo2/k:10                    98.60±0.0939\\%  98.61±0.0557\\%  98.69±0.0802\\%   \n",
       "algo2/k:20                    98.56±0.1866\\%  98.64±0.1050\\%  98.62±0.0976\\%   \n",
       "algo2/k:5                     98.45±0.0550\\%  98.44±0.3968\\%  98.59±0.0545\\%   \n",
       "oneshot                       98.47±0.2004\\%  98.62±0.0705\\%  98.64±0.0714\\%   \n",
       "\n",
       "                                \n",
       "                                \n",
       "M                           18  \n",
       "strategy                        \n",
       "algo1/d:10|e:1  98.61±0.0300\\%  \n",
       "algo1/d:20|e:1  98.60±0.0294\\%  \n",
       "algo1/d:5|e:1   98.66±0.0938\\%  \n",
       "algo2/k:10      98.63±0.0469\\%  \n",
       "algo2/k:20      98.65±0.0737\\%  \n",
       "algo2/k:5       98.57±0.0716\\%  \n",
       "oneshot         98.62±0.0676\\%  "
      ]
     },
     "execution_count": 227,
     "metadata": {},
     "output_type": "execute_result"
    }
   ],
   "source": [
    "print_table(df_mnist_256d, 0.0, 12, should_print=True)"
   ]
  },
  {
   "cell_type": "code",
   "execution_count": 228,
   "metadata": {},
   "outputs": [
    {
     "name": "stdout",
     "output_type": "stream",
     "text": [
      "\\begin{tabular}{rcccc}\n",
      "\\toprule\n",
      "{} & \\multicolumn{4}{l}{accuracy ($p=0.100000$, L=12)} \\\\\n",
      "{} \\\\\n",
      "M &                            1  &              6  &              12 &              18 \\\\\n",
      "strategy       &                               &                 &                 &                 \\\\\n",
      "\\midrule\n",
      "algo1/d:10|e:1 &                97.66±0.1410\\% &  97.87±0.0991\\% &  97.93±0.0750\\% &  97.83±0.0971\\% \\\\\n",
      "algo1/d:20|e:1 &                97.72±0.3248\\% &  97.93±0.0770\\% &  97.94±0.0939\\% &  97.80±0.1162\\% \\\\\n",
      "algo1/d:5|e:1  &                97.53±0.2452\\% &  97.90±0.0826\\% &  97.68±0.3762\\% &  97.89±0.0635\\% \\\\\n",
      "algo2/k:10     &                97.71±0.2667\\% &  97.90±0.1282\\% &  97.88±0.1127\\% &  97.87±0.0914\\% \\\\\n",
      "algo2/k:20     &                97.63±0.2488\\% &  97.92±0.0846\\% &  97.92±0.0666\\% &  97.90±0.0556\\% \\\\\n",
      "algo2/k:5      &                97.48±0.1410\\% &  97.65±0.6291\\% &  97.84±0.0632\\% &  97.82±0.1993\\% \\\\\n",
      "oneshot        &                97.38±0.2865\\% &  97.87±0.0898\\% &  97.92±0.1247\\% &  97.86±0.1059\\% \\\\\n",
      "\\bottomrule\n",
      "\\end{tabular}\n",
      "\n"
     ]
    },
    {
     "name": "stderr",
     "output_type": "stream",
     "text": [
      "/Users/heytitle/projects/venv-python3/lib/python3.7/site-packages/ipykernel_launcher.py:5: FutureWarning: using a dict on a Series for aggregation\n",
      "is deprecated and will be removed in a future version\n",
      "  \"\"\"\n"
     ]
    },
    {
     "data": {
      "text/html": [
       "<div>\n",
       "<style scoped>\n",
       "    .dataframe tbody tr th:only-of-type {\n",
       "        vertical-align: middle;\n",
       "    }\n",
       "\n",
       "    .dataframe tbody tr th {\n",
       "        vertical-align: top;\n",
       "    }\n",
       "\n",
       "    .dataframe thead tr th {\n",
       "        text-align: left;\n",
       "    }\n",
       "\n",
       "    .dataframe thead tr:last-of-type th {\n",
       "        text-align: right;\n",
       "    }\n",
       "</style>\n",
       "<table border=\"1\" class=\"dataframe\">\n",
       "  <thead>\n",
       "    <tr>\n",
       "      <th></th>\n",
       "      <th colspan=\"4\" halign=\"left\">accuracy ($p=0.100000$, L=12)</th>\n",
       "    </tr>\n",
       "    <tr>\n",
       "      <th></th>\n",
       "      <th colspan=\"4\" halign=\"left\"></th>\n",
       "    </tr>\n",
       "    <tr>\n",
       "      <th>M</th>\n",
       "      <th>1</th>\n",
       "      <th>6</th>\n",
       "      <th>12</th>\n",
       "      <th>18</th>\n",
       "    </tr>\n",
       "    <tr>\n",
       "      <th>strategy</th>\n",
       "      <th></th>\n",
       "      <th></th>\n",
       "      <th></th>\n",
       "      <th></th>\n",
       "    </tr>\n",
       "  </thead>\n",
       "  <tbody>\n",
       "    <tr>\n",
       "      <th>algo1/d:10|e:1</th>\n",
       "      <td>97.66±0.1410\\%</td>\n",
       "      <td>97.87±0.0991\\%</td>\n",
       "      <td>97.93±0.0750\\%</td>\n",
       "      <td>97.83±0.0971\\%</td>\n",
       "    </tr>\n",
       "    <tr>\n",
       "      <th>algo1/d:20|e:1</th>\n",
       "      <td>97.72±0.3248\\%</td>\n",
       "      <td>97.93±0.0770\\%</td>\n",
       "      <td>97.94±0.0939\\%</td>\n",
       "      <td>97.80±0.1162\\%</td>\n",
       "    </tr>\n",
       "    <tr>\n",
       "      <th>algo1/d:5|e:1</th>\n",
       "      <td>97.53±0.2452\\%</td>\n",
       "      <td>97.90±0.0826\\%</td>\n",
       "      <td>97.68±0.3762\\%</td>\n",
       "      <td>97.89±0.0635\\%</td>\n",
       "    </tr>\n",
       "    <tr>\n",
       "      <th>algo2/k:10</th>\n",
       "      <td>97.71±0.2667\\%</td>\n",
       "      <td>97.90±0.1282\\%</td>\n",
       "      <td>97.88±0.1127\\%</td>\n",
       "      <td>97.87±0.0914\\%</td>\n",
       "    </tr>\n",
       "    <tr>\n",
       "      <th>algo2/k:20</th>\n",
       "      <td>97.63±0.2488\\%</td>\n",
       "      <td>97.92±0.0846\\%</td>\n",
       "      <td>97.92±0.0666\\%</td>\n",
       "      <td>97.90±0.0556\\%</td>\n",
       "    </tr>\n",
       "    <tr>\n",
       "      <th>algo2/k:5</th>\n",
       "      <td>97.48±0.1410\\%</td>\n",
       "      <td>97.65±0.6291\\%</td>\n",
       "      <td>97.84±0.0632\\%</td>\n",
       "      <td>97.82±0.1993\\%</td>\n",
       "    </tr>\n",
       "    <tr>\n",
       "      <th>oneshot</th>\n",
       "      <td>97.38±0.2865\\%</td>\n",
       "      <td>97.87±0.0898\\%</td>\n",
       "      <td>97.92±0.1247\\%</td>\n",
       "      <td>97.86±0.1059\\%</td>\n",
       "    </tr>\n",
       "  </tbody>\n",
       "</table>\n",
       "</div>"
      ],
      "text/plain": [
       "               accuracy ($p=0.100000$, L=12)                                  \\\n",
       "                                                                               \n",
       "M                                         1               6               12   \n",
       "strategy                                                                       \n",
       "algo1/d:10|e:1                97.66±0.1410\\%  97.87±0.0991\\%  97.93±0.0750\\%   \n",
       "algo1/d:20|e:1                97.72±0.3248\\%  97.93±0.0770\\%  97.94±0.0939\\%   \n",
       "algo1/d:5|e:1                 97.53±0.2452\\%  97.90±0.0826\\%  97.68±0.3762\\%   \n",
       "algo2/k:10                    97.71±0.2667\\%  97.90±0.1282\\%  97.88±0.1127\\%   \n",
       "algo2/k:20                    97.63±0.2488\\%  97.92±0.0846\\%  97.92±0.0666\\%   \n",
       "algo2/k:5                     97.48±0.1410\\%  97.65±0.6291\\%  97.84±0.0632\\%   \n",
       "oneshot                       97.38±0.2865\\%  97.87±0.0898\\%  97.92±0.1247\\%   \n",
       "\n",
       "                                \n",
       "                                \n",
       "M                           18  \n",
       "strategy                        \n",
       "algo1/d:10|e:1  97.83±0.0971\\%  \n",
       "algo1/d:20|e:1  97.80±0.1162\\%  \n",
       "algo1/d:5|e:1   97.89±0.0635\\%  \n",
       "algo2/k:10      97.87±0.0914\\%  \n",
       "algo2/k:20      97.90±0.0556\\%  \n",
       "algo2/k:5       97.82±0.1993\\%  \n",
       "oneshot         97.86±0.1059\\%  "
      ]
     },
     "execution_count": 228,
     "metadata": {},
     "output_type": "execute_result"
    }
   ],
   "source": [
    "print_table(df_mnist_256d, 0.1, 12, should_print=True)"
   ]
  },
  {
   "cell_type": "code",
   "execution_count": 229,
   "metadata": {},
   "outputs": [
    {
     "name": "stdout",
     "output_type": "stream",
     "text": [
      "\\begin{tabular}{rcccc}\n",
      "\\toprule\n",
      "{} & \\multicolumn{4}{l}{accuracy ($p=0.200000$, L=12)} \\\\\n",
      "{} \\\\\n",
      "M &                            1  &              6  &              12 &              18 \\\\\n",
      "strategy       &                               &                 &                 &                 \\\\\n",
      "\\midrule\n",
      "algo1/d:10|e:1 &                93.88±0.6636\\% &  95.60±0.1718\\% &  95.86±0.0829\\% &  95.79±0.0998\\% \\\\\n",
      "algo1/d:20|e:1 &                94.49±1.4410\\% &  95.76±0.2343\\% &  95.76±0.2345\\% &  95.80±0.1934\\% \\\\\n",
      "algo1/d:5|e:1  &                92.36±1.5312\\% &  95.72±0.2910\\% &  95.67±0.4224\\% &  95.73±0.1767\\% \\\\\n",
      "algo2/k:10     &                94.38±0.1748\\% &  95.77±0.1896\\% &  95.88±0.0387\\% &  95.69±0.1619\\% \\\\\n",
      "algo2/k:20     &                94.79±0.9512\\% &  95.70±0.3777\\% &  95.88±0.1103\\% &  95.74±0.1167\\% \\\\\n",
      "algo2/k:5      &                93.08±0.7523\\% &  95.46±0.7692\\% &  95.46±0.1826\\% &  95.39±0.3790\\% \\\\\n",
      "oneshot        &                90.31±1.5437\\% &  95.43±0.1682\\% &  95.70±0.1987\\% &  95.86±0.1932\\% \\\\\n",
      "\\bottomrule\n",
      "\\end{tabular}\n",
      "\n"
     ]
    },
    {
     "name": "stderr",
     "output_type": "stream",
     "text": [
      "/Users/heytitle/projects/venv-python3/lib/python3.7/site-packages/ipykernel_launcher.py:5: FutureWarning: using a dict on a Series for aggregation\n",
      "is deprecated and will be removed in a future version\n",
      "  \"\"\"\n"
     ]
    },
    {
     "data": {
      "text/html": [
       "<div>\n",
       "<style scoped>\n",
       "    .dataframe tbody tr th:only-of-type {\n",
       "        vertical-align: middle;\n",
       "    }\n",
       "\n",
       "    .dataframe tbody tr th {\n",
       "        vertical-align: top;\n",
       "    }\n",
       "\n",
       "    .dataframe thead tr th {\n",
       "        text-align: left;\n",
       "    }\n",
       "\n",
       "    .dataframe thead tr:last-of-type th {\n",
       "        text-align: right;\n",
       "    }\n",
       "</style>\n",
       "<table border=\"1\" class=\"dataframe\">\n",
       "  <thead>\n",
       "    <tr>\n",
       "      <th></th>\n",
       "      <th colspan=\"4\" halign=\"left\">accuracy ($p=0.200000$, L=12)</th>\n",
       "    </tr>\n",
       "    <tr>\n",
       "      <th></th>\n",
       "      <th colspan=\"4\" halign=\"left\"></th>\n",
       "    </tr>\n",
       "    <tr>\n",
       "      <th>M</th>\n",
       "      <th>1</th>\n",
       "      <th>6</th>\n",
       "      <th>12</th>\n",
       "      <th>18</th>\n",
       "    </tr>\n",
       "    <tr>\n",
       "      <th>strategy</th>\n",
       "      <th></th>\n",
       "      <th></th>\n",
       "      <th></th>\n",
       "      <th></th>\n",
       "    </tr>\n",
       "  </thead>\n",
       "  <tbody>\n",
       "    <tr>\n",
       "      <th>algo1/d:10|e:1</th>\n",
       "      <td>93.88±0.6636\\%</td>\n",
       "      <td>95.60±0.1718\\%</td>\n",
       "      <td>95.86±0.0829\\%</td>\n",
       "      <td>95.79±0.0998\\%</td>\n",
       "    </tr>\n",
       "    <tr>\n",
       "      <th>algo1/d:20|e:1</th>\n",
       "      <td>94.49±1.4410\\%</td>\n",
       "      <td>95.76±0.2343\\%</td>\n",
       "      <td>95.76±0.2345\\%</td>\n",
       "      <td>95.80±0.1934\\%</td>\n",
       "    </tr>\n",
       "    <tr>\n",
       "      <th>algo1/d:5|e:1</th>\n",
       "      <td>92.36±1.5312\\%</td>\n",
       "      <td>95.72±0.2910\\%</td>\n",
       "      <td>95.67±0.4224\\%</td>\n",
       "      <td>95.73±0.1767\\%</td>\n",
       "    </tr>\n",
       "    <tr>\n",
       "      <th>algo2/k:10</th>\n",
       "      <td>94.38±0.1748\\%</td>\n",
       "      <td>95.77±0.1896\\%</td>\n",
       "      <td>95.88±0.0387\\%</td>\n",
       "      <td>95.69±0.1619\\%</td>\n",
       "    </tr>\n",
       "    <tr>\n",
       "      <th>algo2/k:20</th>\n",
       "      <td>94.79±0.9512\\%</td>\n",
       "      <td>95.70±0.3777\\%</td>\n",
       "      <td>95.88±0.1103\\%</td>\n",
       "      <td>95.74±0.1167\\%</td>\n",
       "    </tr>\n",
       "    <tr>\n",
       "      <th>algo2/k:5</th>\n",
       "      <td>93.08±0.7523\\%</td>\n",
       "      <td>95.46±0.7692\\%</td>\n",
       "      <td>95.46±0.1826\\%</td>\n",
       "      <td>95.39±0.3790\\%</td>\n",
       "    </tr>\n",
       "    <tr>\n",
       "      <th>oneshot</th>\n",
       "      <td>90.31±1.5437\\%</td>\n",
       "      <td>95.43±0.1682\\%</td>\n",
       "      <td>95.70±0.1987\\%</td>\n",
       "      <td>95.86±0.1932\\%</td>\n",
       "    </tr>\n",
       "  </tbody>\n",
       "</table>\n",
       "</div>"
      ],
      "text/plain": [
       "               accuracy ($p=0.200000$, L=12)                                  \\\n",
       "                                                                               \n",
       "M                                         1               6               12   \n",
       "strategy                                                                       \n",
       "algo1/d:10|e:1                93.88±0.6636\\%  95.60±0.1718\\%  95.86±0.0829\\%   \n",
       "algo1/d:20|e:1                94.49±1.4410\\%  95.76±0.2343\\%  95.76±0.2345\\%   \n",
       "algo1/d:5|e:1                 92.36±1.5312\\%  95.72±0.2910\\%  95.67±0.4224\\%   \n",
       "algo2/k:10                    94.38±0.1748\\%  95.77±0.1896\\%  95.88±0.0387\\%   \n",
       "algo2/k:20                    94.79±0.9512\\%  95.70±0.3777\\%  95.88±0.1103\\%   \n",
       "algo2/k:5                     93.08±0.7523\\%  95.46±0.7692\\%  95.46±0.1826\\%   \n",
       "oneshot                       90.31±1.5437\\%  95.43±0.1682\\%  95.70±0.1987\\%   \n",
       "\n",
       "                                \n",
       "                                \n",
       "M                           18  \n",
       "strategy                        \n",
       "algo1/d:10|e:1  95.79±0.0998\\%  \n",
       "algo1/d:20|e:1  95.80±0.1934\\%  \n",
       "algo1/d:5|e:1   95.73±0.1767\\%  \n",
       "algo2/k:10      95.69±0.1619\\%  \n",
       "algo2/k:20      95.74±0.1167\\%  \n",
       "algo2/k:5       95.39±0.3790\\%  \n",
       "oneshot         95.86±0.1932\\%  "
      ]
     },
     "execution_count": 229,
     "metadata": {},
     "output_type": "execute_result"
    }
   ],
   "source": [
    "print_table(df_mnist_256d, 0.2, 12, should_print=True)"
   ]
  },
  {
   "cell_type": "code",
   "execution_count": 230,
   "metadata": {},
   "outputs": [
    {
     "name": "stdout",
     "output_type": "stream",
     "text": [
      "\\begin{tabular}{rcccc}\n",
      "\\toprule\n",
      "{} & \\multicolumn{4}{l}{accuracy ($p=0.300000$, L=12)} \\\\\n",
      "{} \\\\\n",
      "M &                            1  &              6  &              12 &              18 \\\\\n",
      "strategy       &                               &                 &                 &                 \\\\\n",
      "\\midrule\n",
      "algo1/d:10|e:1 &                75.61±3.2905\\% &  89.47±0.8681\\% &  90.46±0.5447\\% &  90.31±0.1318\\% \\\\\n",
      "algo1/d:20|e:1 &                79.09±3.7706\\% &  90.37±0.6231\\% &  90.59±0.3445\\% &  90.38±0.5258\\% \\\\\n",
      "algo1/d:5|e:1  &                70.96±2.4284\\% &  89.39±1.6737\\% &  90.07±0.6111\\% &  89.94±0.7981\\% \\\\\n",
      "algo2/k:10     &                78.70±1.7800\\% &  89.65±0.5054\\% &  90.34±0.1991\\% &  89.88±0.2223\\% \\\\\n",
      "algo2/k:20     &                80.83±3.6172\\% &  90.50±0.7927\\% &  90.35±0.3703\\% &  89.97±0.6871\\% \\\\\n",
      "algo2/k:5      &                73.70±1.3070\\% &  89.80±0.5222\\% &  89.30±0.6891\\% &  89.47±1.0747\\% \\\\\n",
      "oneshot        &                64.24±3.2182\\% &  87.98±0.9520\\% &  90.09±0.6611\\% &  90.29±0.4951\\% \\\\\n",
      "\\bottomrule\n",
      "\\end{tabular}\n",
      "\n"
     ]
    },
    {
     "name": "stderr",
     "output_type": "stream",
     "text": [
      "/Users/heytitle/projects/venv-python3/lib/python3.7/site-packages/ipykernel_launcher.py:5: FutureWarning: using a dict on a Series for aggregation\n",
      "is deprecated and will be removed in a future version\n",
      "  \"\"\"\n"
     ]
    },
    {
     "data": {
      "text/html": [
       "<div>\n",
       "<style scoped>\n",
       "    .dataframe tbody tr th:only-of-type {\n",
       "        vertical-align: middle;\n",
       "    }\n",
       "\n",
       "    .dataframe tbody tr th {\n",
       "        vertical-align: top;\n",
       "    }\n",
       "\n",
       "    .dataframe thead tr th {\n",
       "        text-align: left;\n",
       "    }\n",
       "\n",
       "    .dataframe thead tr:last-of-type th {\n",
       "        text-align: right;\n",
       "    }\n",
       "</style>\n",
       "<table border=\"1\" class=\"dataframe\">\n",
       "  <thead>\n",
       "    <tr>\n",
       "      <th></th>\n",
       "      <th colspan=\"4\" halign=\"left\">accuracy ($p=0.300000$, L=12)</th>\n",
       "    </tr>\n",
       "    <tr>\n",
       "      <th></th>\n",
       "      <th colspan=\"4\" halign=\"left\"></th>\n",
       "    </tr>\n",
       "    <tr>\n",
       "      <th>M</th>\n",
       "      <th>1</th>\n",
       "      <th>6</th>\n",
       "      <th>12</th>\n",
       "      <th>18</th>\n",
       "    </tr>\n",
       "    <tr>\n",
       "      <th>strategy</th>\n",
       "      <th></th>\n",
       "      <th></th>\n",
       "      <th></th>\n",
       "      <th></th>\n",
       "    </tr>\n",
       "  </thead>\n",
       "  <tbody>\n",
       "    <tr>\n",
       "      <th>algo1/d:10|e:1</th>\n",
       "      <td>75.61±3.2905\\%</td>\n",
       "      <td>89.47±0.8681\\%</td>\n",
       "      <td>90.46±0.5447\\%</td>\n",
       "      <td>90.31±0.1318\\%</td>\n",
       "    </tr>\n",
       "    <tr>\n",
       "      <th>algo1/d:20|e:1</th>\n",
       "      <td>79.09±3.7706\\%</td>\n",
       "      <td>90.37±0.6231\\%</td>\n",
       "      <td>90.59±0.3445\\%</td>\n",
       "      <td>90.38±0.5258\\%</td>\n",
       "    </tr>\n",
       "    <tr>\n",
       "      <th>algo1/d:5|e:1</th>\n",
       "      <td>70.96±2.4284\\%</td>\n",
       "      <td>89.39±1.6737\\%</td>\n",
       "      <td>90.07±0.6111\\%</td>\n",
       "      <td>89.94±0.7981\\%</td>\n",
       "    </tr>\n",
       "    <tr>\n",
       "      <th>algo2/k:10</th>\n",
       "      <td>78.70±1.7800\\%</td>\n",
       "      <td>89.65±0.5054\\%</td>\n",
       "      <td>90.34±0.1991\\%</td>\n",
       "      <td>89.88±0.2223\\%</td>\n",
       "    </tr>\n",
       "    <tr>\n",
       "      <th>algo2/k:20</th>\n",
       "      <td>80.83±3.6172\\%</td>\n",
       "      <td>90.50±0.7927\\%</td>\n",
       "      <td>90.35±0.3703\\%</td>\n",
       "      <td>89.97±0.6871\\%</td>\n",
       "    </tr>\n",
       "    <tr>\n",
       "      <th>algo2/k:5</th>\n",
       "      <td>73.70±1.3070\\%</td>\n",
       "      <td>89.80±0.5222\\%</td>\n",
       "      <td>89.30±0.6891\\%</td>\n",
       "      <td>89.47±1.0747\\%</td>\n",
       "    </tr>\n",
       "    <tr>\n",
       "      <th>oneshot</th>\n",
       "      <td>64.24±3.2182\\%</td>\n",
       "      <td>87.98±0.9520\\%</td>\n",
       "      <td>90.09±0.6611\\%</td>\n",
       "      <td>90.29±0.4951\\%</td>\n",
       "    </tr>\n",
       "  </tbody>\n",
       "</table>\n",
       "</div>"
      ],
      "text/plain": [
       "               accuracy ($p=0.300000$, L=12)                                  \\\n",
       "                                                                               \n",
       "M                                         1               6               12   \n",
       "strategy                                                                       \n",
       "algo1/d:10|e:1                75.61±3.2905\\%  89.47±0.8681\\%  90.46±0.5447\\%   \n",
       "algo1/d:20|e:1                79.09±3.7706\\%  90.37±0.6231\\%  90.59±0.3445\\%   \n",
       "algo1/d:5|e:1                 70.96±2.4284\\%  89.39±1.6737\\%  90.07±0.6111\\%   \n",
       "algo2/k:10                    78.70±1.7800\\%  89.65±0.5054\\%  90.34±0.1991\\%   \n",
       "algo2/k:20                    80.83±3.6172\\%  90.50±0.7927\\%  90.35±0.3703\\%   \n",
       "algo2/k:5                     73.70±1.3070\\%  89.80±0.5222\\%  89.30±0.6891\\%   \n",
       "oneshot                       64.24±3.2182\\%  87.98±0.9520\\%  90.09±0.6611\\%   \n",
       "\n",
       "                                \n",
       "                                \n",
       "M                           18  \n",
       "strategy                        \n",
       "algo1/d:10|e:1  90.31±0.1318\\%  \n",
       "algo1/d:20|e:1  90.38±0.5258\\%  \n",
       "algo1/d:5|e:1   89.94±0.7981\\%  \n",
       "algo2/k:10      89.88±0.2223\\%  \n",
       "algo2/k:20      89.97±0.6871\\%  \n",
       "algo2/k:5       89.47±1.0747\\%  \n",
       "oneshot         90.29±0.4951\\%  "
      ]
     },
     "execution_count": 230,
     "metadata": {},
     "output_type": "execute_result"
    }
   ],
   "source": [
    "print_table(df_mnist_256d, 0.3, 12, should_print=True)"
   ]
  },
  {
   "cell_type": "code",
   "execution_count": 225,
   "metadata": {},
   "outputs": [
    {
     "name": "stdout",
     "output_type": "stream",
     "text": [
      "\\begin{tabular}{rcccc}\n",
      "\\toprule\n",
      "{} & \\multicolumn{4}{l}{accuracy ($p=0.400000$, L=1)} \\\\\n",
      "{} \\\\\n",
      "M &                           1  &              6  &              12 &              18 \\\\\n",
      "strategy       &                              &                 &                 &                 \\\\\n",
      "\\midrule\n",
      "algo1/d:10|e:1 &               38.56±3.7167\\% &  70.60±2.0511\\% &  74.44±1.6474\\% &  76.28±1.2864\\% \\\\\n",
      "algo1/d:20|e:1 &               43.50±2.9746\\% &  73.13±1.9117\\% &  75.19±1.0348\\% &  75.12±1.7061\\% \\\\\n",
      "algo1/d:5|e:1  &               34.03±2.6995\\% &  68.79±5.0922\\% &  74.59±2.4429\\% &  74.29±2.2023\\% \\\\\n",
      "algo2/k:10     &               42.21±1.5783\\% &  72.11±1.4990\\% &  75.11±0.5831\\% &  73.83±1.0685\\% \\\\\n",
      "algo2/k:20     &               48.61±4.0152\\% &  75.28±2.1576\\% &  76.22±0.8710\\% &  75.65±1.3248\\% \\\\\n",
      "algo2/k:5      &               37.21±2.2783\\% &  72.50±1.3014\\% &  72.33±2.4064\\% &  74.22±2.1828\\% \\\\\n",
      "oneshot        &               27.24±2.5717\\% &  62.43±2.5090\\% &  72.07±2.2197\\% &  73.58±2.4879\\% \\\\\n",
      "\\bottomrule\n",
      "\\end{tabular}\n",
      "\n"
     ]
    },
    {
     "name": "stderr",
     "output_type": "stream",
     "text": [
      "/Users/heytitle/projects/venv-python3/lib/python3.7/site-packages/ipykernel_launcher.py:5: FutureWarning: using a dict on a Series for aggregation\n",
      "is deprecated and will be removed in a future version\n",
      "  \"\"\"\n"
     ]
    },
    {
     "data": {
      "text/html": [
       "<div>\n",
       "<style scoped>\n",
       "    .dataframe tbody tr th:only-of-type {\n",
       "        vertical-align: middle;\n",
       "    }\n",
       "\n",
       "    .dataframe tbody tr th {\n",
       "        vertical-align: top;\n",
       "    }\n",
       "\n",
       "    .dataframe thead tr th {\n",
       "        text-align: left;\n",
       "    }\n",
       "\n",
       "    .dataframe thead tr:last-of-type th {\n",
       "        text-align: right;\n",
       "    }\n",
       "</style>\n",
       "<table border=\"1\" class=\"dataframe\">\n",
       "  <thead>\n",
       "    <tr>\n",
       "      <th></th>\n",
       "      <th colspan=\"4\" halign=\"left\">accuracy ($p=0.400000$, L=1)</th>\n",
       "    </tr>\n",
       "    <tr>\n",
       "      <th></th>\n",
       "      <th colspan=\"4\" halign=\"left\"></th>\n",
       "    </tr>\n",
       "    <tr>\n",
       "      <th>M</th>\n",
       "      <th>1</th>\n",
       "      <th>6</th>\n",
       "      <th>12</th>\n",
       "      <th>18</th>\n",
       "    </tr>\n",
       "    <tr>\n",
       "      <th>strategy</th>\n",
       "      <th></th>\n",
       "      <th></th>\n",
       "      <th></th>\n",
       "      <th></th>\n",
       "    </tr>\n",
       "  </thead>\n",
       "  <tbody>\n",
       "    <tr>\n",
       "      <th>algo1/d:10|e:1</th>\n",
       "      <td>38.56±3.7167\\%</td>\n",
       "      <td>70.60±2.0511\\%</td>\n",
       "      <td>74.44±1.6474\\%</td>\n",
       "      <td>76.28±1.2864\\%</td>\n",
       "    </tr>\n",
       "    <tr>\n",
       "      <th>algo1/d:20|e:1</th>\n",
       "      <td>43.50±2.9746\\%</td>\n",
       "      <td>73.13±1.9117\\%</td>\n",
       "      <td>75.19±1.0348\\%</td>\n",
       "      <td>75.12±1.7061\\%</td>\n",
       "    </tr>\n",
       "    <tr>\n",
       "      <th>algo1/d:5|e:1</th>\n",
       "      <td>34.03±2.6995\\%</td>\n",
       "      <td>68.79±5.0922\\%</td>\n",
       "      <td>74.59±2.4429\\%</td>\n",
       "      <td>74.29±2.2023\\%</td>\n",
       "    </tr>\n",
       "    <tr>\n",
       "      <th>algo2/k:10</th>\n",
       "      <td>42.21±1.5783\\%</td>\n",
       "      <td>72.11±1.4990\\%</td>\n",
       "      <td>75.11±0.5831\\%</td>\n",
       "      <td>73.83±1.0685\\%</td>\n",
       "    </tr>\n",
       "    <tr>\n",
       "      <th>algo2/k:20</th>\n",
       "      <td>48.61±4.0152\\%</td>\n",
       "      <td>75.28±2.1576\\%</td>\n",
       "      <td>76.22±0.8710\\%</td>\n",
       "      <td>75.65±1.3248\\%</td>\n",
       "    </tr>\n",
       "    <tr>\n",
       "      <th>algo2/k:5</th>\n",
       "      <td>37.21±2.2783\\%</td>\n",
       "      <td>72.50±1.3014\\%</td>\n",
       "      <td>72.33±2.4064\\%</td>\n",
       "      <td>74.22±2.1828\\%</td>\n",
       "    </tr>\n",
       "    <tr>\n",
       "      <th>oneshot</th>\n",
       "      <td>27.24±2.5717\\%</td>\n",
       "      <td>62.43±2.5090\\%</td>\n",
       "      <td>72.07±2.2197\\%</td>\n",
       "      <td>73.58±2.4879\\%</td>\n",
       "    </tr>\n",
       "  </tbody>\n",
       "</table>\n",
       "</div>"
      ],
      "text/plain": [
       "               accuracy ($p=0.400000$, L=1)                                  \\\n",
       "                                                                              \n",
       "M                                        1               6               12   \n",
       "strategy                                                                      \n",
       "algo1/d:10|e:1               38.56±3.7167\\%  70.60±2.0511\\%  74.44±1.6474\\%   \n",
       "algo1/d:20|e:1               43.50±2.9746\\%  73.13±1.9117\\%  75.19±1.0348\\%   \n",
       "algo1/d:5|e:1                34.03±2.6995\\%  68.79±5.0922\\%  74.59±2.4429\\%   \n",
       "algo2/k:10                   42.21±1.5783\\%  72.11±1.4990\\%  75.11±0.5831\\%   \n",
       "algo2/k:20                   48.61±4.0152\\%  75.28±2.1576\\%  76.22±0.8710\\%   \n",
       "algo2/k:5                    37.21±2.2783\\%  72.50±1.3014\\%  72.33±2.4064\\%   \n",
       "oneshot                      27.24±2.5717\\%  62.43±2.5090\\%  72.07±2.2197\\%   \n",
       "\n",
       "                                \n",
       "                                \n",
       "M                           18  \n",
       "strategy                        \n",
       "algo1/d:10|e:1  76.28±1.2864\\%  \n",
       "algo1/d:20|e:1  75.12±1.7061\\%  \n",
       "algo1/d:5|e:1   74.29±2.2023\\%  \n",
       "algo2/k:10      73.83±1.0685\\%  \n",
       "algo2/k:20      75.65±1.3248\\%  \n",
       "algo2/k:5       74.22±2.1828\\%  \n",
       "oneshot         73.58±2.4879\\%  "
      ]
     },
     "execution_count": 225,
     "metadata": {},
     "output_type": "execute_result"
    }
   ],
   "source": [
    "print_table(df_mnist_256d, 0.4, 1, should_print=True)"
   ]
  },
  {
   "cell_type": "code",
   "execution_count": 231,
   "metadata": {},
   "outputs": [
    {
     "name": "stdout",
     "output_type": "stream",
     "text": [
      "\\begin{tabular}{rcccc}\n",
      "\\toprule\n",
      "{} & \\multicolumn{4}{l}{accuracy ($p=0.500000$, L=12)} \\\\\n",
      "{} \\\\\n",
      "M &                            1  &              6  &              12 &              18 \\\\\n",
      "strategy       &                               &                 &                 &                 \\\\\n",
      "\\midrule\n",
      "algo1/d:10|e:1 &                12.27±2.1190\\% &  43.93±2.2062\\% &  52.24±3.2353\\% &  55.91±3.0151\\% \\\\\n",
      "algo1/d:20|e:1 &                15.40±1.6672\\% &  48.59±3.5085\\% &  53.94±1.6983\\% &  54.85±2.7178\\% \\\\\n",
      "algo1/d:5|e:1  &                10.30±1.9303\\% &  40.63±5.9596\\% &  52.84±3.8992\\% &  52.03±3.2690\\% \\\\\n",
      "algo2/k:10     &                14.31±1.1950\\% &  47.82±2.8466\\% &  54.55±0.8558\\% &  53.40±0.9272\\% \\\\\n",
      "algo2/k:20     &                18.76±2.4607\\% &  52.53±2.2533\\% &  57.23±1.5065\\% &  56.28±2.5747\\% \\\\\n",
      "algo2/k:5      &                12.69±1.2927\\% &  47.16±3.8047\\% &  50.20±3.3883\\% &  53.70±2.9438\\% \\\\\n",
      "oneshot        &                 7.95±0.5463\\% &  30.63±2.6428\\% &  45.02±4.5364\\% &  48.30±3.3765\\% \\\\\n",
      "\\bottomrule\n",
      "\\end{tabular}\n",
      "\n"
     ]
    },
    {
     "name": "stderr",
     "output_type": "stream",
     "text": [
      "/Users/heytitle/projects/venv-python3/lib/python3.7/site-packages/ipykernel_launcher.py:5: FutureWarning: using a dict on a Series for aggregation\n",
      "is deprecated and will be removed in a future version\n",
      "  \"\"\"\n"
     ]
    },
    {
     "data": {
      "text/html": [
       "<div>\n",
       "<style scoped>\n",
       "    .dataframe tbody tr th:only-of-type {\n",
       "        vertical-align: middle;\n",
       "    }\n",
       "\n",
       "    .dataframe tbody tr th {\n",
       "        vertical-align: top;\n",
       "    }\n",
       "\n",
       "    .dataframe thead tr th {\n",
       "        text-align: left;\n",
       "    }\n",
       "\n",
       "    .dataframe thead tr:last-of-type th {\n",
       "        text-align: right;\n",
       "    }\n",
       "</style>\n",
       "<table border=\"1\" class=\"dataframe\">\n",
       "  <thead>\n",
       "    <tr>\n",
       "      <th></th>\n",
       "      <th colspan=\"4\" halign=\"left\">accuracy ($p=0.500000$, L=12)</th>\n",
       "    </tr>\n",
       "    <tr>\n",
       "      <th></th>\n",
       "      <th colspan=\"4\" halign=\"left\"></th>\n",
       "    </tr>\n",
       "    <tr>\n",
       "      <th>M</th>\n",
       "      <th>1</th>\n",
       "      <th>6</th>\n",
       "      <th>12</th>\n",
       "      <th>18</th>\n",
       "    </tr>\n",
       "    <tr>\n",
       "      <th>strategy</th>\n",
       "      <th></th>\n",
       "      <th></th>\n",
       "      <th></th>\n",
       "      <th></th>\n",
       "    </tr>\n",
       "  </thead>\n",
       "  <tbody>\n",
       "    <tr>\n",
       "      <th>algo1/d:10|e:1</th>\n",
       "      <td>12.27±2.1190\\%</td>\n",
       "      <td>43.93±2.2062\\%</td>\n",
       "      <td>52.24±3.2353\\%</td>\n",
       "      <td>55.91±3.0151\\%</td>\n",
       "    </tr>\n",
       "    <tr>\n",
       "      <th>algo1/d:20|e:1</th>\n",
       "      <td>15.40±1.6672\\%</td>\n",
       "      <td>48.59±3.5085\\%</td>\n",
       "      <td>53.94±1.6983\\%</td>\n",
       "      <td>54.85±2.7178\\%</td>\n",
       "    </tr>\n",
       "    <tr>\n",
       "      <th>algo1/d:5|e:1</th>\n",
       "      <td>10.30±1.9303\\%</td>\n",
       "      <td>40.63±5.9596\\%</td>\n",
       "      <td>52.84±3.8992\\%</td>\n",
       "      <td>52.03±3.2690\\%</td>\n",
       "    </tr>\n",
       "    <tr>\n",
       "      <th>algo2/k:10</th>\n",
       "      <td>14.31±1.1950\\%</td>\n",
       "      <td>47.82±2.8466\\%</td>\n",
       "      <td>54.55±0.8558\\%</td>\n",
       "      <td>53.40±0.9272\\%</td>\n",
       "    </tr>\n",
       "    <tr>\n",
       "      <th>algo2/k:20</th>\n",
       "      <td>18.76±2.4607\\%</td>\n",
       "      <td>52.53±2.2533\\%</td>\n",
       "      <td>57.23±1.5065\\%</td>\n",
       "      <td>56.28±2.5747\\%</td>\n",
       "    </tr>\n",
       "    <tr>\n",
       "      <th>algo2/k:5</th>\n",
       "      <td>12.69±1.2927\\%</td>\n",
       "      <td>47.16±3.8047\\%</td>\n",
       "      <td>50.20±3.3883\\%</td>\n",
       "      <td>53.70±2.9438\\%</td>\n",
       "    </tr>\n",
       "    <tr>\n",
       "      <th>oneshot</th>\n",
       "      <td>7.95±0.5463\\%</td>\n",
       "      <td>30.63±2.6428\\%</td>\n",
       "      <td>45.02±4.5364\\%</td>\n",
       "      <td>48.30±3.3765\\%</td>\n",
       "    </tr>\n",
       "  </tbody>\n",
       "</table>\n",
       "</div>"
      ],
      "text/plain": [
       "               accuracy ($p=0.500000$, L=12)                                  \\\n",
       "                                                                               \n",
       "M                                         1               6               12   \n",
       "strategy                                                                       \n",
       "algo1/d:10|e:1                12.27±2.1190\\%  43.93±2.2062\\%  52.24±3.2353\\%   \n",
       "algo1/d:20|e:1                15.40±1.6672\\%  48.59±3.5085\\%  53.94±1.6983\\%   \n",
       "algo1/d:5|e:1                 10.30±1.9303\\%  40.63±5.9596\\%  52.84±3.8992\\%   \n",
       "algo2/k:10                    14.31±1.1950\\%  47.82±2.8466\\%  54.55±0.8558\\%   \n",
       "algo2/k:20                    18.76±2.4607\\%  52.53±2.2533\\%  57.23±1.5065\\%   \n",
       "algo2/k:5                     12.69±1.2927\\%  47.16±3.8047\\%  50.20±3.3883\\%   \n",
       "oneshot                        7.95±0.5463\\%  30.63±2.6428\\%  45.02±4.5364\\%   \n",
       "\n",
       "                                \n",
       "                                \n",
       "M                           18  \n",
       "strategy                        \n",
       "algo1/d:10|e:1  55.91±3.0151\\%  \n",
       "algo1/d:20|e:1  54.85±2.7178\\%  \n",
       "algo1/d:5|e:1   52.03±3.2690\\%  \n",
       "algo2/k:10      53.40±0.9272\\%  \n",
       "algo2/k:20      56.28±2.5747\\%  \n",
       "algo2/k:5       53.70±2.9438\\%  \n",
       "oneshot         48.30±3.3765\\%  "
      ]
     },
     "execution_count": 231,
     "metadata": {},
     "output_type": "execute_result"
    }
   ],
   "source": [
    "print_table(df_mnist_256d, 0.5, 12, should_print=True)"
   ]
  },
  {
   "cell_type": "markdown",
   "metadata": {},
   "source": [
    "## Plot Robustness Curve"
   ]
  },
  {
   "cell_type": "code",
   "execution_count": 19,
   "metadata": {},
   "outputs": [],
   "source": [
    "import seaborn as sns"
   ]
  },
  {
   "cell_type": "code",
   "execution_count": 72,
   "metadata": {},
   "outputs": [
    {
     "data": {
      "image/png": "[encoded data removed]",
      "text/plain": [
       "<Figure size 360x72 with 1 Axes>"
      ]
     },
     "metadata": {
      "needs_background": "light"
     },
     "output_type": "display_data"
    }
   ],
   "source": [
    "# sns.palplot(sns.cubehelix_palette(3, start=2, rot=0, dark=0, light=.60))\n",
    "# sns.palplot(sns.cubehelix_palette(3, start=.5, rot=-.75, dark=0, light=.60))\n",
    "colors = [\"windows blue\", \"greyish\", \"red\", \"faded green\", \"dusty purple\"]\n",
    "sns.palplot(sns.xkcd_palette(colors))"
   ]
  },
  {
   "cell_type": "code",
   "execution_count": 77,
   "metadata": {},
   "outputs": [
    {
     "data": {
      "image/png": "[encoded data removed]",
      "text/plain": [
       "<Figure size 1080x288 with 3 Axes>"
      ]
     },
     "metadata": {
      "needs_background": "light"
     },
     "output_type": "display_data"
    }
   ],
   "source": [
    "# cm = plt.get_cmap('tab10')\n",
    "cm = sns.xkcd_palette(colors)\n",
    "# cm = sns.cubehelix_palette(3, start=.5, rot=-.75, dark=0, light=.60)\n",
    "\n",
    "\n",
    "def plot_robust_curve(df_main, L, strategies, M=[1, 6, 12], df_vib=None, alpha=0.3):\n",
    "    plt.figure(figsize=(15, 4))\n",
    "    total = len(strategies)\n",
    "    color_indices = dict(zip(M, range(len(M))))\n",
    "    for i, strategy in enumerate(strategies):\n",
    "        plt.subplot(1, total, i+1)\n",
    "        df =  df_main[ (df_main.strategy==strategy) & (df_main.L == L)].groupby([\"M\", \"p\"]) \\\n",
    "            .agg({\"accuracy\": ['mean', 'std']}).reset_index()\n",
    "\n",
    "\n",
    "        for m in M:\n",
    "            color = cm[color_indices[m]]\n",
    "\n",
    "            df_ = df[df.M == m]\n",
    "            mean, std = df_[\"accuracy\"][\"mean\"].values, df_[\"accuracy\"][\"std\"].values\n",
    "\n",
    "            plt.plot(df_.p, mean, label=f\"$M={m}$\", color=color)\n",
    "            plt.fill_between(df_.p, mean-std, mean+std, alpha=alpha, color=color)\n",
    "            \n",
    "        if strategy == \"oneshot\" and df_vib is not None:\n",
    "            df =  df_vib[ (df_vib.strategy==strategy) & (df_vib.L == L)].groupby([\"M\", \"p\"]) \\\n",
    "                .agg({\"accuracy\": ['mean', 'std']}).reset_index()\n",
    "            \n",
    "            for m in sorted(set(df.M.unique()).intersection(M)):\n",
    "                color = cm[color_indices[m]]\n",
    "\n",
    "\n",
    "                df_ = df[df.M == m]\n",
    "                mean, std = df_[\"accuracy\"][\"mean\"].values, df_[\"accuracy\"][\"std\"].values\n",
    "\n",
    "                plt.plot(df_.p, mean, \"--\", label=f\"$M'={m}$\", color=color)\n",
    "                plt.fill_between(df_.p, mean-std, mean+std, alpha=alpha, color=color)\n",
    "\n",
    "\n",
    "        plt.title(strategy)\n",
    "        if i == 0:\n",
    "            plt.ylabel(\"Accuracy\")\n",
    "            plt.legend(fontsize=14)\n",
    "            \n",
    "        plt.xlabel(\"$p$\")\n",
    "        plt.suptitle(f\"L={L}\")\n",
    "\n",
    "\n",
    "\n",
    "plot_robust_curve(df_mnist_256d, 1, [\"oneshot\", \"algo1/d:10|e:1\", \"algo2/k:10\"], df_vib=df_mnist_vib_256d)\n",
    "plt.savefig(\"./figures/salt-pepper/mnist-l1.pdf\")"
   ]
  },
  {
   "cell_type": "code",
   "execution_count": 78,
   "metadata": {},
   "outputs": [
    {
     "data": {
      "image/png": "[encoded data removed]",
      "text/plain": [
       "<Figure size 1080x288 with 3 Axes>"
      ]
     },
     "metadata": {
      "needs_background": "light"
     },
     "output_type": "display_data"
    }
   ],
   "source": [
    "plot_robust_curve(df_mnist_256d, 12, [\"oneshot\", \"algo1/d:10|e:1\", \"algo2/k:10\"], df_vib=df_mnist_vib_256d)\n",
    "plt.savefig(\"./figures/salt-pepper/mnist-l12.pdf\")"
   ]
  },
  {
   "cell_type": "markdown",
   "metadata": {},
   "source": [
    "## VIB 256"
   ]
  },
  {
   "cell_type": "code",
   "execution_count": 11,
   "metadata": {},
   "outputs": [
    {
     "name": "stdout",
     "output_type": "stream",
     "text": [
      "we have 12 analyses\n"
     ]
    },
    {
     "data": {
      "text/plain": [
       "strategy  M   L   p  \n",
       "oneshot   6   1   0.0    4\n",
       "                  0.1    4\n",
       "                  0.2    4\n",
       "                  0.3    4\n",
       "                  0.4    4\n",
       "                  0.5    4\n",
       "              12  0.0    4\n",
       "                  0.1    4\n",
       "                  0.2    4\n",
       "                  0.3    4\n",
       "                  0.4    4\n",
       "                  0.5    4\n",
       "          12  1   0.0    4\n",
       "                  0.1    4\n",
       "                  0.2    4\n",
       "                  0.3    4\n",
       "                  0.4    4\n",
       "                  0.5    4\n",
       "              12  0.0    4\n",
       "                  0.1    4\n",
       "                  0.2    4\n",
       "                  0.3    4\n",
       "                  0.4    4\n",
       "                  0.5    4\n",
       "          18  1   0.0    4\n",
       "                  0.1    4\n",
       "                  0.2    4\n",
       "                  0.3    4\n",
       "                  0.4    4\n",
       "                  0.5    4\n",
       "              12  0.0    4\n",
       "                  0.1    4\n",
       "                  0.2    4\n",
       "                  0.3    4\n",
       "                  0.4    4\n",
       "                  0.5    4\n",
       "Name: M, dtype: int64"
      ]
     },
     "execution_count": 11,
     "metadata": {},
     "output_type": "execute_result"
    }
   ],
   "source": [
    "df_mnist_vib_256d = read_analysis_from_dir(\"../artifacts-server/hydra/experiment-mnist-256d-test-robustness-vib/*/*\")\n",
    "df_mnist_vib_256d.groupby([\"strategy\", \"M\", \"L\", \"p\"])[\"M\"].count()"
   ]
  },
  {
   "cell_type": "code",
   "execution_count": 248,
   "metadata": {},
   "outputs": [
    {
     "name": "stdout",
     "output_type": "stream",
     "text": [
      "\\begin{tabular}{rcccc}\n",
      "\\toprule\n",
      "{} & \\multicolumn{3}{l}{accuracy ($p=0.000000$, L=12)} \\\\\n",
      "{} \\\\\n",
      "M &                            6  &              12 &              18 \\\\\n",
      "strategy &                               &                 &                 \\\\\n",
      "\\midrule\n",
      "oneshot  &                98.63±0.0702\\% &  98.68±0.0883\\% &  98.72±0.0953\\% \\\\\n",
      "\\bottomrule\n",
      "\\end{tabular}\n",
      "\n"
     ]
    },
    {
     "name": "stderr",
     "output_type": "stream",
     "text": [
      "/Users/heytitle/projects/venv-python3/lib/python3.7/site-packages/ipykernel_launcher.py:5: FutureWarning: using a dict on a Series for aggregation\n",
      "is deprecated and will be removed in a future version\n",
      "  \"\"\"\n"
     ]
    },
    {
     "data": {
      "text/html": [
       "<div>\n",
       "<style scoped>\n",
       "    .dataframe tbody tr th:only-of-type {\n",
       "        vertical-align: middle;\n",
       "    }\n",
       "\n",
       "    .dataframe tbody tr th {\n",
       "        vertical-align: top;\n",
       "    }\n",
       "\n",
       "    .dataframe thead tr th {\n",
       "        text-align: left;\n",
       "    }\n",
       "\n",
       "    .dataframe thead tr:last-of-type th {\n",
       "        text-align: right;\n",
       "    }\n",
       "</style>\n",
       "<table border=\"1\" class=\"dataframe\">\n",
       "  <thead>\n",
       "    <tr>\n",
       "      <th></th>\n",
       "      <th colspan=\"3\" halign=\"left\">accuracy ($p=0.000000$, L=12)</th>\n",
       "    </tr>\n",
       "    <tr>\n",
       "      <th></th>\n",
       "      <th colspan=\"3\" halign=\"left\"></th>\n",
       "    </tr>\n",
       "    <tr>\n",
       "      <th>M</th>\n",
       "      <th>6</th>\n",
       "      <th>12</th>\n",
       "      <th>18</th>\n",
       "    </tr>\n",
       "    <tr>\n",
       "      <th>strategy</th>\n",
       "      <th></th>\n",
       "      <th></th>\n",
       "      <th></th>\n",
       "    </tr>\n",
       "  </thead>\n",
       "  <tbody>\n",
       "    <tr>\n",
       "      <th>oneshot</th>\n",
       "      <td>98.63±0.0702\\%</td>\n",
       "      <td>98.68±0.0883\\%</td>\n",
       "      <td>98.72±0.0953\\%</td>\n",
       "    </tr>\n",
       "  </tbody>\n",
       "</table>\n",
       "</div>"
      ],
      "text/plain": [
       "         accuracy ($p=0.000000$, L=12)                                \n",
       "                                                                      \n",
       "M                                   6               12              18\n",
       "strategy                                                              \n",
       "oneshot                 98.63±0.0702\\%  98.68±0.0883\\%  98.72±0.0953\\%"
      ]
     },
     "execution_count": 248,
     "metadata": {},
     "output_type": "execute_result"
    }
   ],
   "source": [
    "print_table(df_mnist_vib_256d, 0.0, 12, should_print=True)"
   ]
  },
  {
   "cell_type": "code",
   "execution_count": 249,
   "metadata": {},
   "outputs": [
    {
     "name": "stdout",
     "output_type": "stream",
     "text": [
      "\\begin{tabular}{rcccc}\n",
      "\\toprule\n",
      "{} & \\multicolumn{3}{l}{accuracy ($p=0.100000$, L=12)} \\\\\n",
      "{} \\\\\n",
      "M &                            6  &              12 &              18 \\\\\n",
      "strategy &                               &                 &                 \\\\\n",
      "\\midrule\n",
      "oneshot  &                97.98±0.0964\\% &  97.90±0.1486\\% &  98.00±0.0726\\% \\\\\n",
      "\\bottomrule\n",
      "\\end{tabular}\n",
      "\n"
     ]
    },
    {
     "name": "stderr",
     "output_type": "stream",
     "text": [
      "/Users/heytitle/projects/venv-python3/lib/python3.7/site-packages/ipykernel_launcher.py:5: FutureWarning: using a dict on a Series for aggregation\n",
      "is deprecated and will be removed in a future version\n",
      "  \"\"\"\n"
     ]
    },
    {
     "data": {
      "text/html": [
       "<div>\n",
       "<style scoped>\n",
       "    .dataframe tbody tr th:only-of-type {\n",
       "        vertical-align: middle;\n",
       "    }\n",
       "\n",
       "    .dataframe tbody tr th {\n",
       "        vertical-align: top;\n",
       "    }\n",
       "\n",
       "    .dataframe thead tr th {\n",
       "        text-align: left;\n",
       "    }\n",
       "\n",
       "    .dataframe thead tr:last-of-type th {\n",
       "        text-align: right;\n",
       "    }\n",
       "</style>\n",
       "<table border=\"1\" class=\"dataframe\">\n",
       "  <thead>\n",
       "    <tr>\n",
       "      <th></th>\n",
       "      <th colspan=\"3\" halign=\"left\">accuracy ($p=0.100000$, L=12)</th>\n",
       "    </tr>\n",
       "    <tr>\n",
       "      <th></th>\n",
       "      <th colspan=\"3\" halign=\"left\"></th>\n",
       "    </tr>\n",
       "    <tr>\n",
       "      <th>M</th>\n",
       "      <th>6</th>\n",
       "      <th>12</th>\n",
       "      <th>18</th>\n",
       "    </tr>\n",
       "    <tr>\n",
       "      <th>strategy</th>\n",
       "      <th></th>\n",
       "      <th></th>\n",
       "      <th></th>\n",
       "    </tr>\n",
       "  </thead>\n",
       "  <tbody>\n",
       "    <tr>\n",
       "      <th>oneshot</th>\n",
       "      <td>97.98±0.0964\\%</td>\n",
       "      <td>97.90±0.1486\\%</td>\n",
       "      <td>98.00±0.0726\\%</td>\n",
       "    </tr>\n",
       "  </tbody>\n",
       "</table>\n",
       "</div>"
      ],
      "text/plain": [
       "         accuracy ($p=0.100000$, L=12)                                \n",
       "                                                                      \n",
       "M                                   6               12              18\n",
       "strategy                                                              \n",
       "oneshot                 97.98±0.0964\\%  97.90±0.1486\\%  98.00±0.0726\\%"
      ]
     },
     "execution_count": 249,
     "metadata": {},
     "output_type": "execute_result"
    }
   ],
   "source": [
    "print_table(df_mnist_vib_256d, 0.1, 12, should_print=True)"
   ]
  },
  {
   "cell_type": "code",
   "execution_count": 250,
   "metadata": {},
   "outputs": [
    {
     "name": "stdout",
     "output_type": "stream",
     "text": [
      "\\begin{tabular}{rcccc}\n",
      "\\toprule\n",
      "{} & \\multicolumn{3}{l}{accuracy ($p=0.200000$, L=12)} \\\\\n",
      "{} \\\\\n",
      "M &                            6  &              12 &              18 \\\\\n",
      "strategy &                               &                 &                 \\\\\n",
      "\\midrule\n",
      "oneshot  &                95.80±0.2287\\% &  95.94±0.2482\\% &  96.04±0.1517\\% \\\\\n",
      "\\bottomrule\n",
      "\\end{tabular}\n",
      "\n"
     ]
    },
    {
     "name": "stderr",
     "output_type": "stream",
     "text": [
      "/Users/heytitle/projects/venv-python3/lib/python3.7/site-packages/ipykernel_launcher.py:5: FutureWarning: using a dict on a Series for aggregation\n",
      "is deprecated and will be removed in a future version\n",
      "  \"\"\"\n"
     ]
    },
    {
     "data": {
      "text/html": [
       "<div>\n",
       "<style scoped>\n",
       "    .dataframe tbody tr th:only-of-type {\n",
       "        vertical-align: middle;\n",
       "    }\n",
       "\n",
       "    .dataframe tbody tr th {\n",
       "        vertical-align: top;\n",
       "    }\n",
       "\n",
       "    .dataframe thead tr th {\n",
       "        text-align: left;\n",
       "    }\n",
       "\n",
       "    .dataframe thead tr:last-of-type th {\n",
       "        text-align: right;\n",
       "    }\n",
       "</style>\n",
       "<table border=\"1\" class=\"dataframe\">\n",
       "  <thead>\n",
       "    <tr>\n",
       "      <th></th>\n",
       "      <th colspan=\"3\" halign=\"left\">accuracy ($p=0.200000$, L=12)</th>\n",
       "    </tr>\n",
       "    <tr>\n",
       "      <th></th>\n",
       "      <th colspan=\"3\" halign=\"left\"></th>\n",
       "    </tr>\n",
       "    <tr>\n",
       "      <th>M</th>\n",
       "      <th>6</th>\n",
       "      <th>12</th>\n",
       "      <th>18</th>\n",
       "    </tr>\n",
       "    <tr>\n",
       "      <th>strategy</th>\n",
       "      <th></th>\n",
       "      <th></th>\n",
       "      <th></th>\n",
       "    </tr>\n",
       "  </thead>\n",
       "  <tbody>\n",
       "    <tr>\n",
       "      <th>oneshot</th>\n",
       "      <td>95.80±0.2287\\%</td>\n",
       "      <td>95.94±0.2482\\%</td>\n",
       "      <td>96.04±0.1517\\%</td>\n",
       "    </tr>\n",
       "  </tbody>\n",
       "</table>\n",
       "</div>"
      ],
      "text/plain": [
       "         accuracy ($p=0.200000$, L=12)                                \n",
       "                                                                      \n",
       "M                                   6               12              18\n",
       "strategy                                                              \n",
       "oneshot                 95.80±0.2287\\%  95.94±0.2482\\%  96.04±0.1517\\%"
      ]
     },
     "execution_count": 250,
     "metadata": {},
     "output_type": "execute_result"
    }
   ],
   "source": [
    "print_table(df_mnist_vib_256d, 0.2, 12, should_print=True)"
   ]
  },
  {
   "cell_type": "code",
   "execution_count": 251,
   "metadata": {},
   "outputs": [
    {
     "name": "stdout",
     "output_type": "stream",
     "text": [
      "\\begin{tabular}{rcccc}\n",
      "\\toprule\n",
      "{} & \\multicolumn{3}{l}{accuracy ($p=0.300000$, L=12)} \\\\\n",
      "{} \\\\\n",
      "M &                            6  &              12 &              18 \\\\\n",
      "strategy &                               &                 &                 \\\\\n",
      "\\midrule\n",
      "oneshot  &                86.28±1.1099\\% &  89.26±0.8507\\% &  90.81±0.3708\\% \\\\\n",
      "\\bottomrule\n",
      "\\end{tabular}\n",
      "\n"
     ]
    },
    {
     "name": "stderr",
     "output_type": "stream",
     "text": [
      "/Users/heytitle/projects/venv-python3/lib/python3.7/site-packages/ipykernel_launcher.py:5: FutureWarning: using a dict on a Series for aggregation\n",
      "is deprecated and will be removed in a future version\n",
      "  \"\"\"\n"
     ]
    },
    {
     "data": {
      "text/html": [
       "<div>\n",
       "<style scoped>\n",
       "    .dataframe tbody tr th:only-of-type {\n",
       "        vertical-align: middle;\n",
       "    }\n",
       "\n",
       "    .dataframe tbody tr th {\n",
       "        vertical-align: top;\n",
       "    }\n",
       "\n",
       "    .dataframe thead tr th {\n",
       "        text-align: left;\n",
       "    }\n",
       "\n",
       "    .dataframe thead tr:last-of-type th {\n",
       "        text-align: right;\n",
       "    }\n",
       "</style>\n",
       "<table border=\"1\" class=\"dataframe\">\n",
       "  <thead>\n",
       "    <tr>\n",
       "      <th></th>\n",
       "      <th colspan=\"3\" halign=\"left\">accuracy ($p=0.300000$, L=12)</th>\n",
       "    </tr>\n",
       "    <tr>\n",
       "      <th></th>\n",
       "      <th colspan=\"3\" halign=\"left\"></th>\n",
       "    </tr>\n",
       "    <tr>\n",
       "      <th>M</th>\n",
       "      <th>6</th>\n",
       "      <th>12</th>\n",
       "      <th>18</th>\n",
       "    </tr>\n",
       "    <tr>\n",
       "      <th>strategy</th>\n",
       "      <th></th>\n",
       "      <th></th>\n",
       "      <th></th>\n",
       "    </tr>\n",
       "  </thead>\n",
       "  <tbody>\n",
       "    <tr>\n",
       "      <th>oneshot</th>\n",
       "      <td>86.28±1.1099\\%</td>\n",
       "      <td>89.26±0.8507\\%</td>\n",
       "      <td>90.81±0.3708\\%</td>\n",
       "    </tr>\n",
       "  </tbody>\n",
       "</table>\n",
       "</div>"
      ],
      "text/plain": [
       "         accuracy ($p=0.300000$, L=12)                                \n",
       "                                                                      \n",
       "M                                   6               12              18\n",
       "strategy                                                              \n",
       "oneshot                 86.28±1.1099\\%  89.26±0.8507\\%  90.81±0.3708\\%"
      ]
     },
     "execution_count": 251,
     "metadata": {},
     "output_type": "execute_result"
    }
   ],
   "source": [
    "print_table(df_mnist_vib_256d, 0.3, 12, should_print=True)"
   ]
  },
  {
   "cell_type": "code",
   "execution_count": 252,
   "metadata": {},
   "outputs": [
    {
     "name": "stdout",
     "output_type": "stream",
     "text": [
      "\\begin{tabular}{rcccc}\n",
      "\\toprule\n",
      "{} & \\multicolumn{3}{l}{accuracy ($p=0.400000$, L=12)} \\\\\n",
      "{} \\\\\n",
      "M &                            6  &              12 &              18 \\\\\n",
      "strategy &                               &                 &                 \\\\\n",
      "\\midrule\n",
      "oneshot  &                57.10±2.7686\\% &  69.33±2.5932\\% &  76.84±1.5443\\% \\\\\n",
      "\\bottomrule\n",
      "\\end{tabular}\n",
      "\n"
     ]
    },
    {
     "name": "stderr",
     "output_type": "stream",
     "text": [
      "/Users/heytitle/projects/venv-python3/lib/python3.7/site-packages/ipykernel_launcher.py:5: FutureWarning: using a dict on a Series for aggregation\n",
      "is deprecated and will be removed in a future version\n",
      "  \"\"\"\n"
     ]
    },
    {
     "data": {
      "text/html": [
       "<div>\n",
       "<style scoped>\n",
       "    .dataframe tbody tr th:only-of-type {\n",
       "        vertical-align: middle;\n",
       "    }\n",
       "\n",
       "    .dataframe tbody tr th {\n",
       "        vertical-align: top;\n",
       "    }\n",
       "\n",
       "    .dataframe thead tr th {\n",
       "        text-align: left;\n",
       "    }\n",
       "\n",
       "    .dataframe thead tr:last-of-type th {\n",
       "        text-align: right;\n",
       "    }\n",
       "</style>\n",
       "<table border=\"1\" class=\"dataframe\">\n",
       "  <thead>\n",
       "    <tr>\n",
       "      <th></th>\n",
       "      <th colspan=\"3\" halign=\"left\">accuracy ($p=0.400000$, L=12)</th>\n",
       "    </tr>\n",
       "    <tr>\n",
       "      <th></th>\n",
       "      <th colspan=\"3\" halign=\"left\"></th>\n",
       "    </tr>\n",
       "    <tr>\n",
       "      <th>M</th>\n",
       "      <th>6</th>\n",
       "      <th>12</th>\n",
       "      <th>18</th>\n",
       "    </tr>\n",
       "    <tr>\n",
       "      <th>strategy</th>\n",
       "      <th></th>\n",
       "      <th></th>\n",
       "      <th></th>\n",
       "    </tr>\n",
       "  </thead>\n",
       "  <tbody>\n",
       "    <tr>\n",
       "      <th>oneshot</th>\n",
       "      <td>57.10±2.7686\\%</td>\n",
       "      <td>69.33±2.5932\\%</td>\n",
       "      <td>76.84±1.5443\\%</td>\n",
       "    </tr>\n",
       "  </tbody>\n",
       "</table>\n",
       "</div>"
      ],
      "text/plain": [
       "         accuracy ($p=0.400000$, L=12)                                \n",
       "                                                                      \n",
       "M                                   6               12              18\n",
       "strategy                                                              \n",
       "oneshot                 57.10±2.7686\\%  69.33±2.5932\\%  76.84±1.5443\\%"
      ]
     },
     "execution_count": 252,
     "metadata": {},
     "output_type": "execute_result"
    }
   ],
   "source": [
    "print_table(df_mnist_vib_256d, 0.4, 12, should_print=True)"
   ]
  },
  {
   "cell_type": "code",
   "execution_count": 253,
   "metadata": {},
   "outputs": [
    {
     "name": "stdout",
     "output_type": "stream",
     "text": [
      "\\begin{tabular}{rcccc}\n",
      "\\toprule\n",
      "{} & \\multicolumn{3}{l}{accuracy ($p=0.500000$, L=12)} \\\\\n",
      "{} \\\\\n",
      "M &                            6  &              12 &              18 \\\\\n",
      "strategy &                               &                 &                 \\\\\n",
      "\\midrule\n",
      "oneshot  &                22.51±2.0573\\% &  36.97±3.3367\\% &  48.17±2.6505\\% \\\\\n",
      "\\bottomrule\n",
      "\\end{tabular}\n",
      "\n"
     ]
    },
    {
     "name": "stderr",
     "output_type": "stream",
     "text": [
      "/Users/heytitle/projects/venv-python3/lib/python3.7/site-packages/ipykernel_launcher.py:5: FutureWarning: using a dict on a Series for aggregation\n",
      "is deprecated and will be removed in a future version\n",
      "  \"\"\"\n"
     ]
    },
    {
     "data": {
      "text/html": [
       "<div>\n",
       "<style scoped>\n",
       "    .dataframe tbody tr th:only-of-type {\n",
       "        vertical-align: middle;\n",
       "    }\n",
       "\n",
       "    .dataframe tbody tr th {\n",
       "        vertical-align: top;\n",
       "    }\n",
       "\n",
       "    .dataframe thead tr th {\n",
       "        text-align: left;\n",
       "    }\n",
       "\n",
       "    .dataframe thead tr:last-of-type th {\n",
       "        text-align: right;\n",
       "    }\n",
       "</style>\n",
       "<table border=\"1\" class=\"dataframe\">\n",
       "  <thead>\n",
       "    <tr>\n",
       "      <th></th>\n",
       "      <th colspan=\"3\" halign=\"left\">accuracy ($p=0.500000$, L=12)</th>\n",
       "    </tr>\n",
       "    <tr>\n",
       "      <th></th>\n",
       "      <th colspan=\"3\" halign=\"left\"></th>\n",
       "    </tr>\n",
       "    <tr>\n",
       "      <th>M</th>\n",
       "      <th>6</th>\n",
       "      <th>12</th>\n",
       "      <th>18</th>\n",
       "    </tr>\n",
       "    <tr>\n",
       "      <th>strategy</th>\n",
       "      <th></th>\n",
       "      <th></th>\n",
       "      <th></th>\n",
       "    </tr>\n",
       "  </thead>\n",
       "  <tbody>\n",
       "    <tr>\n",
       "      <th>oneshot</th>\n",
       "      <td>22.51±2.0573\\%</td>\n",
       "      <td>36.97±3.3367\\%</td>\n",
       "      <td>48.17±2.6505\\%</td>\n",
       "    </tr>\n",
       "  </tbody>\n",
       "</table>\n",
       "</div>"
      ],
      "text/plain": [
       "         accuracy ($p=0.500000$, L=12)                                \n",
       "                                                                      \n",
       "M                                   6               12              18\n",
       "strategy                                                              \n",
       "oneshot                 22.51±2.0573\\%  36.97±3.3367\\%  48.17±2.6505\\%"
      ]
     },
     "execution_count": 253,
     "metadata": {},
     "output_type": "execute_result"
    }
   ],
   "source": [
    "print_table(df_mnist_vib_256d, 0.5, 12, should_print=True)"
   ]
  },
  {
   "cell_type": "markdown",
   "metadata": {},
   "source": [
    "## VDB 2D"
   ]
  },
  {
   "cell_type": "code",
   "execution_count": 272,
   "metadata": {},
   "outputs": [
    {
     "name": "stdout",
     "output_type": "stream",
     "text": [
      "we have 21 analyses\n"
     ]
    },
    {
     "data": {
      "text/plain": [
       "strategy        M   L   p  \n",
       "algo1/d:10|e:1  1   1   0.0    1\n",
       "                        0.1    1\n",
       "                        0.2    1\n",
       "                        0.3    1\n",
       "                        0.4    1\n",
       "                        0.5    1\n",
       "                    12  0.0    1\n",
       "                        0.1    1\n",
       "                        0.2    1\n",
       "                        0.3    1\n",
       "                        0.4    1\n",
       "                        0.5    1\n",
       "                6   1   0.0    1\n",
       "                        0.1    1\n",
       "                        0.2    1\n",
       "                        0.3    1\n",
       "                        0.4    1\n",
       "                        0.5    1\n",
       "                    12  0.0    1\n",
       "                        0.1    1\n",
       "                        0.2    1\n",
       "                        0.3    1\n",
       "                        0.4    1\n",
       "                        0.5    1\n",
       "                12  1   0.0    1\n",
       "                        0.1    1\n",
       "                        0.2    1\n",
       "                        0.3    1\n",
       "                        0.4    1\n",
       "                        0.5    1\n",
       "                              ..\n",
       "oneshot         1   12  0.0    1\n",
       "                        0.1    1\n",
       "                        0.2    1\n",
       "                        0.3    1\n",
       "                        0.4    1\n",
       "                        0.5    1\n",
       "                6   1   0.0    1\n",
       "                        0.1    1\n",
       "                        0.2    1\n",
       "                        0.3    1\n",
       "                        0.4    1\n",
       "                        0.5    1\n",
       "                    12  0.0    1\n",
       "                        0.1    1\n",
       "                        0.2    1\n",
       "                        0.3    1\n",
       "                        0.4    1\n",
       "                        0.5    1\n",
       "                12  1   0.0    1\n",
       "                        0.1    1\n",
       "                        0.2    1\n",
       "                        0.3    1\n",
       "                        0.4    1\n",
       "                        0.5    1\n",
       "                    12  0.0    1\n",
       "                        0.1    1\n",
       "                        0.2    1\n",
       "                        0.3    1\n",
       "                        0.4    1\n",
       "                        0.5    1\n",
       "Name: M, Length: 252, dtype: int64"
      ]
     },
     "execution_count": 272,
     "metadata": {},
     "output_type": "execute_result"
    }
   ],
   "source": [
    "df_mnist_2d = read_analysis_from_dir(\"../artifacts-server/hydra/experiment-mnist-2d-test-robustness/*/*\")\n",
    "df_mnist_2d.groupby([\"strategy\", \"M\", \"L\", \"p\"])[\"M\"].count()"
   ]
  },
  {
   "cell_type": "code",
   "execution_count": 278,
   "metadata": {},
   "outputs": [
    {
     "name": "stdout",
     "output_type": "stream",
     "text": [
      "\\begin{tabular}{rcccc}\n",
      "\\toprule\n",
      "{} & \\multicolumn{3}{l}{accuracy ($p=0.000000$, L=12)} \\\\\n",
      "{} \\\\\n",
      "M &                            1  &           6  &           12 \\\\\n",
      "strategy       &                               &              &              \\\\\n",
      "\\midrule\n",
      "algo1/d:10|e:1 &                   97.59±nan\\% &  97.46±nan\\% &  97.34±nan\\% \\\\\n",
      "algo1/d:20|e:1 &                   97.62±nan\\% &  97.28±nan\\% &  97.17±nan\\% \\\\\n",
      "algo1/d:5|e:1  &                   97.10±nan\\% &  97.12±nan\\% &  97.61±nan\\% \\\\\n",
      "algo2/k:10     &                   97.65±nan\\% &  97.41±nan\\% &  97.15±nan\\% \\\\\n",
      "algo2/k:20     &                   97.17±nan\\% &  97.48±nan\\% &  97.31±nan\\% \\\\\n",
      "algo2/k:5      &                   97.81±nan\\% &  98.05±nan\\% &  97.39±nan\\% \\\\\n",
      "oneshot        &                   97.69±nan\\% &  97.24±nan\\% &  97.56±nan\\% \\\\\n",
      "\\bottomrule\n",
      "\\end{tabular}\n",
      "\n"
     ]
    },
    {
     "name": "stderr",
     "output_type": "stream",
     "text": [
      "/Users/heytitle/projects/venv-python3/lib/python3.7/site-packages/ipykernel_launcher.py:5: FutureWarning: using a dict on a Series for aggregation\n",
      "is deprecated and will be removed in a future version\n",
      "  \"\"\"\n"
     ]
    },
    {
     "data": {
      "text/html": [
       "<div>\n",
       "<style scoped>\n",
       "    .dataframe tbody tr th:only-of-type {\n",
       "        vertical-align: middle;\n",
       "    }\n",
       "\n",
       "    .dataframe tbody tr th {\n",
       "        vertical-align: top;\n",
       "    }\n",
       "\n",
       "    .dataframe thead tr th {\n",
       "        text-align: left;\n",
       "    }\n",
       "\n",
       "    .dataframe thead tr:last-of-type th {\n",
       "        text-align: right;\n",
       "    }\n",
       "</style>\n",
       "<table border=\"1\" class=\"dataframe\">\n",
       "  <thead>\n",
       "    <tr>\n",
       "      <th></th>\n",
       "      <th colspan=\"3\" halign=\"left\">accuracy ($p=0.000000$, L=12)</th>\n",
       "    </tr>\n",
       "    <tr>\n",
       "      <th></th>\n",
       "      <th colspan=\"3\" halign=\"left\"></th>\n",
       "    </tr>\n",
       "    <tr>\n",
       "      <th>M</th>\n",
       "      <th>1</th>\n",
       "      <th>6</th>\n",
       "      <th>12</th>\n",
       "    </tr>\n",
       "    <tr>\n",
       "      <th>strategy</th>\n",
       "      <th></th>\n",
       "      <th></th>\n",
       "      <th></th>\n",
       "    </tr>\n",
       "  </thead>\n",
       "  <tbody>\n",
       "    <tr>\n",
       "      <th>algo1/d:10|e:1</th>\n",
       "      <td>97.59±nan\\%</td>\n",
       "      <td>97.46±nan\\%</td>\n",
       "      <td>97.34±nan\\%</td>\n",
       "    </tr>\n",
       "    <tr>\n",
       "      <th>algo1/d:20|e:1</th>\n",
       "      <td>97.62±nan\\%</td>\n",
       "      <td>97.28±nan\\%</td>\n",
       "      <td>97.17±nan\\%</td>\n",
       "    </tr>\n",
       "    <tr>\n",
       "      <th>algo1/d:5|e:1</th>\n",
       "      <td>97.10±nan\\%</td>\n",
       "      <td>97.12±nan\\%</td>\n",
       "      <td>97.61±nan\\%</td>\n",
       "    </tr>\n",
       "    <tr>\n",
       "      <th>algo2/k:10</th>\n",
       "      <td>97.65±nan\\%</td>\n",
       "      <td>97.41±nan\\%</td>\n",
       "      <td>97.15±nan\\%</td>\n",
       "    </tr>\n",
       "    <tr>\n",
       "      <th>algo2/k:20</th>\n",
       "      <td>97.17±nan\\%</td>\n",
       "      <td>97.48±nan\\%</td>\n",
       "      <td>97.31±nan\\%</td>\n",
       "    </tr>\n",
       "    <tr>\n",
       "      <th>algo2/k:5</th>\n",
       "      <td>97.81±nan\\%</td>\n",
       "      <td>98.05±nan\\%</td>\n",
       "      <td>97.39±nan\\%</td>\n",
       "    </tr>\n",
       "    <tr>\n",
       "      <th>oneshot</th>\n",
       "      <td>97.69±nan\\%</td>\n",
       "      <td>97.24±nan\\%</td>\n",
       "      <td>97.56±nan\\%</td>\n",
       "    </tr>\n",
       "  </tbody>\n",
       "</table>\n",
       "</div>"
      ],
      "text/plain": [
       "               accuracy ($p=0.000000$, L=12)                          \n",
       "                                                                      \n",
       "M                                         1            6            12\n",
       "strategy                                                              \n",
       "algo1/d:10|e:1                   97.59±nan\\%  97.46±nan\\%  97.34±nan\\%\n",
       "algo1/d:20|e:1                   97.62±nan\\%  97.28±nan\\%  97.17±nan\\%\n",
       "algo1/d:5|e:1                    97.10±nan\\%  97.12±nan\\%  97.61±nan\\%\n",
       "algo2/k:10                       97.65±nan\\%  97.41±nan\\%  97.15±nan\\%\n",
       "algo2/k:20                       97.17±nan\\%  97.48±nan\\%  97.31±nan\\%\n",
       "algo2/k:5                        97.81±nan\\%  98.05±nan\\%  97.39±nan\\%\n",
       "oneshot                          97.69±nan\\%  97.24±nan\\%  97.56±nan\\%"
      ]
     },
     "execution_count": 278,
     "metadata": {},
     "output_type": "execute_result"
    }
   ],
   "source": [
    "print_table(df_mnist_2d, 0.0, 12, should_print=True)"
   ]
  },
  {
   "cell_type": "code",
   "execution_count": 279,
   "metadata": {},
   "outputs": [
    {
     "name": "stdout",
     "output_type": "stream",
     "text": [
      "\\begin{tabular}{rcccc}\n",
      "\\toprule\n",
      "{} & \\multicolumn{3}{l}{accuracy ($p=0.100000$, L=12)} \\\\\n",
      "{} \\\\\n",
      "M &                            1  &           6  &           12 \\\\\n",
      "strategy       &                               &              &              \\\\\n",
      "\\midrule\n",
      "algo1/d:10|e:1 &                   95.69±nan\\% &  95.59±nan\\% &  95.47±nan\\% \\\\\n",
      "algo1/d:20|e:1 &                   95.67±nan\\% &  95.32±nan\\% &  95.33±nan\\% \\\\\n",
      "algo1/d:5|e:1  &                   95.00±nan\\% &  95.03±nan\\% &  95.95±nan\\% \\\\\n",
      "algo2/k:10     &                   95.62±nan\\% &  95.37±nan\\% &  94.89±nan\\% \\\\\n",
      "algo2/k:20     &                   95.27±nan\\% &  95.61±nan\\% &  94.72±nan\\% \\\\\n",
      "algo2/k:5      &                   95.65±nan\\% &  95.87±nan\\% &  95.28±nan\\% \\\\\n",
      "oneshot        &                   95.35±nan\\% &  94.38±nan\\% &  95.38±nan\\% \\\\\n",
      "\\bottomrule\n",
      "\\end{tabular}\n",
      "\n"
     ]
    },
    {
     "name": "stderr",
     "output_type": "stream",
     "text": [
      "/Users/heytitle/projects/venv-python3/lib/python3.7/site-packages/ipykernel_launcher.py:5: FutureWarning: using a dict on a Series for aggregation\n",
      "is deprecated and will be removed in a future version\n",
      "  \"\"\"\n"
     ]
    },
    {
     "data": {
      "text/html": [
       "<div>\n",
       "<style scoped>\n",
       "    .dataframe tbody tr th:only-of-type {\n",
       "        vertical-align: middle;\n",
       "    }\n",
       "\n",
       "    .dataframe tbody tr th {\n",
       "        vertical-align: top;\n",
       "    }\n",
       "\n",
       "    .dataframe thead tr th {\n",
       "        text-align: left;\n",
       "    }\n",
       "\n",
       "    .dataframe thead tr:last-of-type th {\n",
       "        text-align: right;\n",
       "    }\n",
       "</style>\n",
       "<table border=\"1\" class=\"dataframe\">\n",
       "  <thead>\n",
       "    <tr>\n",
       "      <th></th>\n",
       "      <th colspan=\"3\" halign=\"left\">accuracy ($p=0.100000$, L=12)</th>\n",
       "    </tr>\n",
       "    <tr>\n",
       "      <th></th>\n",
       "      <th colspan=\"3\" halign=\"left\"></th>\n",
       "    </tr>\n",
       "    <tr>\n",
       "      <th>M</th>\n",
       "      <th>1</th>\n",
       "      <th>6</th>\n",
       "      <th>12</th>\n",
       "    </tr>\n",
       "    <tr>\n",
       "      <th>strategy</th>\n",
       "      <th></th>\n",
       "      <th></th>\n",
       "      <th></th>\n",
       "    </tr>\n",
       "  </thead>\n",
       "  <tbody>\n",
       "    <tr>\n",
       "      <th>algo1/d:10|e:1</th>\n",
       "      <td>95.69±nan\\%</td>\n",
       "      <td>95.59±nan\\%</td>\n",
       "      <td>95.47±nan\\%</td>\n",
       "    </tr>\n",
       "    <tr>\n",
       "      <th>algo1/d:20|e:1</th>\n",
       "      <td>95.67±nan\\%</td>\n",
       "      <td>95.32±nan\\%</td>\n",
       "      <td>95.33±nan\\%</td>\n",
       "    </tr>\n",
       "    <tr>\n",
       "      <th>algo1/d:5|e:1</th>\n",
       "      <td>95.00±nan\\%</td>\n",
       "      <td>95.03±nan\\%</td>\n",
       "      <td>95.95±nan\\%</td>\n",
       "    </tr>\n",
       "    <tr>\n",
       "      <th>algo2/k:10</th>\n",
       "      <td>95.62±nan\\%</td>\n",
       "      <td>95.37±nan\\%</td>\n",
       "      <td>94.89±nan\\%</td>\n",
       "    </tr>\n",
       "    <tr>\n",
       "      <th>algo2/k:20</th>\n",
       "      <td>95.27±nan\\%</td>\n",
       "      <td>95.61±nan\\%</td>\n",
       "      <td>94.72±nan\\%</td>\n",
       "    </tr>\n",
       "    <tr>\n",
       "      <th>algo2/k:5</th>\n",
       "      <td>95.65±nan\\%</td>\n",
       "      <td>95.87±nan\\%</td>\n",
       "      <td>95.28±nan\\%</td>\n",
       "    </tr>\n",
       "    <tr>\n",
       "      <th>oneshot</th>\n",
       "      <td>95.35±nan\\%</td>\n",
       "      <td>94.38±nan\\%</td>\n",
       "      <td>95.38±nan\\%</td>\n",
       "    </tr>\n",
       "  </tbody>\n",
       "</table>\n",
       "</div>"
      ],
      "text/plain": [
       "               accuracy ($p=0.100000$, L=12)                          \n",
       "                                                                      \n",
       "M                                         1            6            12\n",
       "strategy                                                              \n",
       "algo1/d:10|e:1                   95.69±nan\\%  95.59±nan\\%  95.47±nan\\%\n",
       "algo1/d:20|e:1                   95.67±nan\\%  95.32±nan\\%  95.33±nan\\%\n",
       "algo1/d:5|e:1                    95.00±nan\\%  95.03±nan\\%  95.95±nan\\%\n",
       "algo2/k:10                       95.62±nan\\%  95.37±nan\\%  94.89±nan\\%\n",
       "algo2/k:20                       95.27±nan\\%  95.61±nan\\%  94.72±nan\\%\n",
       "algo2/k:5                        95.65±nan\\%  95.87±nan\\%  95.28±nan\\%\n",
       "oneshot                          95.35±nan\\%  94.38±nan\\%  95.38±nan\\%"
      ]
     },
     "execution_count": 279,
     "metadata": {},
     "output_type": "execute_result"
    }
   ],
   "source": [
    "print_table(df_mnist_2d, 0.1, 12, should_print=True)"
   ]
  },
  {
   "cell_type": "code",
   "execution_count": 280,
   "metadata": {},
   "outputs": [
    {
     "name": "stdout",
     "output_type": "stream",
     "text": [
      "\\begin{tabular}{rcccc}\n",
      "\\toprule\n",
      "{} & \\multicolumn{3}{l}{accuracy ($p=0.400000$, L=12)} \\\\\n",
      "{} \\\\\n",
      "M &                            1  &           6  &           12 \\\\\n",
      "strategy       &                               &              &              \\\\\n",
      "\\midrule\n",
      "algo1/d:10|e:1 &                   65.09±nan\\% &  69.17±nan\\% &  62.09±nan\\% \\\\\n",
      "algo1/d:20|e:1 &                   61.96±nan\\% &  68.75±nan\\% &  60.08±nan\\% \\\\\n",
      "algo1/d:5|e:1  &                   66.06±nan\\% &  62.85±nan\\% &  64.28±nan\\% \\\\\n",
      "algo2/k:10     &                   66.02±nan\\% &  60.19±nan\\% &  57.84±nan\\% \\\\\n",
      "algo2/k:20     &                   62.48±nan\\% &  65.77±nan\\% &  58.46±nan\\% \\\\\n",
      "algo2/k:5      &                   59.23±nan\\% &  56.48±nan\\% &  62.53±nan\\% \\\\\n",
      "oneshot        &                   59.75±nan\\% &  44.34±nan\\% &  56.26±nan\\% \\\\\n",
      "\\bottomrule\n",
      "\\end{tabular}\n",
      "\n"
     ]
    },
    {
     "name": "stderr",
     "output_type": "stream",
     "text": [
      "/Users/heytitle/projects/venv-python3/lib/python3.7/site-packages/ipykernel_launcher.py:5: FutureWarning: using a dict on a Series for aggregation\n",
      "is deprecated and will be removed in a future version\n",
      "  \"\"\"\n"
     ]
    },
    {
     "data": {
      "text/html": [
       "<div>\n",
       "<style scoped>\n",
       "    .dataframe tbody tr th:only-of-type {\n",
       "        vertical-align: middle;\n",
       "    }\n",
       "\n",
       "    .dataframe tbody tr th {\n",
       "        vertical-align: top;\n",
       "    }\n",
       "\n",
       "    .dataframe thead tr th {\n",
       "        text-align: left;\n",
       "    }\n",
       "\n",
       "    .dataframe thead tr:last-of-type th {\n",
       "        text-align: right;\n",
       "    }\n",
       "</style>\n",
       "<table border=\"1\" class=\"dataframe\">\n",
       "  <thead>\n",
       "    <tr>\n",
       "      <th></th>\n",
       "      <th colspan=\"3\" halign=\"left\">accuracy ($p=0.400000$, L=12)</th>\n",
       "    </tr>\n",
       "    <tr>\n",
       "      <th></th>\n",
       "      <th colspan=\"3\" halign=\"left\"></th>\n",
       "    </tr>\n",
       "    <tr>\n",
       "      <th>M</th>\n",
       "      <th>1</th>\n",
       "      <th>6</th>\n",
       "      <th>12</th>\n",
       "    </tr>\n",
       "    <tr>\n",
       "      <th>strategy</th>\n",
       "      <th></th>\n",
       "      <th></th>\n",
       "      <th></th>\n",
       "    </tr>\n",
       "  </thead>\n",
       "  <tbody>\n",
       "    <tr>\n",
       "      <th>algo1/d:10|e:1</th>\n",
       "      <td>65.09±nan\\%</td>\n",
       "      <td>69.17±nan\\%</td>\n",
       "      <td>62.09±nan\\%</td>\n",
       "    </tr>\n",
       "    <tr>\n",
       "      <th>algo1/d:20|e:1</th>\n",
       "      <td>61.96±nan\\%</td>\n",
       "      <td>68.75±nan\\%</td>\n",
       "      <td>60.08±nan\\%</td>\n",
       "    </tr>\n",
       "    <tr>\n",
       "      <th>algo1/d:5|e:1</th>\n",
       "      <td>66.06±nan\\%</td>\n",
       "      <td>62.85±nan\\%</td>\n",
       "      <td>64.28±nan\\%</td>\n",
       "    </tr>\n",
       "    <tr>\n",
       "      <th>algo2/k:10</th>\n",
       "      <td>66.02±nan\\%</td>\n",
       "      <td>60.19±nan\\%</td>\n",
       "      <td>57.84±nan\\%</td>\n",
       "    </tr>\n",
       "    <tr>\n",
       "      <th>algo2/k:20</th>\n",
       "      <td>62.48±nan\\%</td>\n",
       "      <td>65.77±nan\\%</td>\n",
       "      <td>58.46±nan\\%</td>\n",
       "    </tr>\n",
       "    <tr>\n",
       "      <th>algo2/k:5</th>\n",
       "      <td>59.23±nan\\%</td>\n",
       "      <td>56.48±nan\\%</td>\n",
       "      <td>62.53±nan\\%</td>\n",
       "    </tr>\n",
       "    <tr>\n",
       "      <th>oneshot</th>\n",
       "      <td>59.75±nan\\%</td>\n",
       "      <td>44.34±nan\\%</td>\n",
       "      <td>56.26±nan\\%</td>\n",
       "    </tr>\n",
       "  </tbody>\n",
       "</table>\n",
       "</div>"
      ],
      "text/plain": [
       "               accuracy ($p=0.400000$, L=12)                          \n",
       "                                                                      \n",
       "M                                         1            6            12\n",
       "strategy                                                              \n",
       "algo1/d:10|e:1                   65.09±nan\\%  69.17±nan\\%  62.09±nan\\%\n",
       "algo1/d:20|e:1                   61.96±nan\\%  68.75±nan\\%  60.08±nan\\%\n",
       "algo1/d:5|e:1                    66.06±nan\\%  62.85±nan\\%  64.28±nan\\%\n",
       "algo2/k:10                       66.02±nan\\%  60.19±nan\\%  57.84±nan\\%\n",
       "algo2/k:20                       62.48±nan\\%  65.77±nan\\%  58.46±nan\\%\n",
       "algo2/k:5                        59.23±nan\\%  56.48±nan\\%  62.53±nan\\%\n",
       "oneshot                          59.75±nan\\%  44.34±nan\\%  56.26±nan\\%"
      ]
     },
     "execution_count": 280,
     "metadata": {},
     "output_type": "execute_result"
    }
   ],
   "source": [
    "print_table(df_mnist_2d, 0.4, 12, should_print=True)"
   ]
  },
  {
   "cell_type": "code",
   "execution_count": 281,
   "metadata": {},
   "outputs": [
    {
     "name": "stdout",
     "output_type": "stream",
     "text": [
      "\\begin{tabular}{rcccc}\n",
      "\\toprule\n",
      "{} & \\multicolumn{3}{l}{accuracy ($p=0.500000$, L=12)} \\\\\n",
      "{} \\\\\n",
      "M &                            1  &           6  &           12 \\\\\n",
      "strategy       &                               &              &              \\\\\n",
      "\\midrule\n",
      "algo1/d:10|e:1 &                   44.62±nan\\% &  48.41±nan\\% &  42.77±nan\\% \\\\\n",
      "algo1/d:20|e:1 &                   42.92±nan\\% &  50.97±nan\\% &  43.00±nan\\% \\\\\n",
      "algo1/d:5|e:1  &                   48.64±nan\\% &  45.37±nan\\% &  46.24±nan\\% \\\\\n",
      "algo2/k:10     &                   46.72±nan\\% &  41.01±nan\\% &  38.97±nan\\% \\\\\n",
      "algo2/k:20     &                   43.87±nan\\% &  47.80±nan\\% &  35.85±nan\\% \\\\\n",
      "algo2/k:5      &                   38.09±nan\\% &  36.11±nan\\% &  42.65±nan\\% \\\\\n",
      "oneshot        &                   38.47±nan\\% &  28.36±nan\\% &  37.24±nan\\% \\\\\n",
      "\\bottomrule\n",
      "\\end{tabular}\n",
      "\n"
     ]
    },
    {
     "name": "stderr",
     "output_type": "stream",
     "text": [
      "/Users/heytitle/projects/venv-python3/lib/python3.7/site-packages/ipykernel_launcher.py:5: FutureWarning: using a dict on a Series for aggregation\n",
      "is deprecated and will be removed in a future version\n",
      "  \"\"\"\n"
     ]
    },
    {
     "data": {
      "text/html": [
       "<div>\n",
       "<style scoped>\n",
       "    .dataframe tbody tr th:only-of-type {\n",
       "        vertical-align: middle;\n",
       "    }\n",
       "\n",
       "    .dataframe tbody tr th {\n",
       "        vertical-align: top;\n",
       "    }\n",
       "\n",
       "    .dataframe thead tr th {\n",
       "        text-align: left;\n",
       "    }\n",
       "\n",
       "    .dataframe thead tr:last-of-type th {\n",
       "        text-align: right;\n",
       "    }\n",
       "</style>\n",
       "<table border=\"1\" class=\"dataframe\">\n",
       "  <thead>\n",
       "    <tr>\n",
       "      <th></th>\n",
       "      <th colspan=\"3\" halign=\"left\">accuracy ($p=0.500000$, L=12)</th>\n",
       "    </tr>\n",
       "    <tr>\n",
       "      <th></th>\n",
       "      <th colspan=\"3\" halign=\"left\"></th>\n",
       "    </tr>\n",
       "    <tr>\n",
       "      <th>M</th>\n",
       "      <th>1</th>\n",
       "      <th>6</th>\n",
       "      <th>12</th>\n",
       "    </tr>\n",
       "    <tr>\n",
       "      <th>strategy</th>\n",
       "      <th></th>\n",
       "      <th></th>\n",
       "      <th></th>\n",
       "    </tr>\n",
       "  </thead>\n",
       "  <tbody>\n",
       "    <tr>\n",
       "      <th>algo1/d:10|e:1</th>\n",
       "      <td>44.62±nan\\%</td>\n",
       "      <td>48.41±nan\\%</td>\n",
       "      <td>42.77±nan\\%</td>\n",
       "    </tr>\n",
       "    <tr>\n",
       "      <th>algo1/d:20|e:1</th>\n",
       "      <td>42.92±nan\\%</td>\n",
       "      <td>50.97±nan\\%</td>\n",
       "      <td>43.00±nan\\%</td>\n",
       "    </tr>\n",
       "    <tr>\n",
       "      <th>algo1/d:5|e:1</th>\n",
       "      <td>48.64±nan\\%</td>\n",
       "      <td>45.37±nan\\%</td>\n",
       "      <td>46.24±nan\\%</td>\n",
       "    </tr>\n",
       "    <tr>\n",
       "      <th>algo2/k:10</th>\n",
       "      <td>46.72±nan\\%</td>\n",
       "      <td>41.01±nan\\%</td>\n",
       "      <td>38.97±nan\\%</td>\n",
       "    </tr>\n",
       "    <tr>\n",
       "      <th>algo2/k:20</th>\n",
       "      <td>43.87±nan\\%</td>\n",
       "      <td>47.80±nan\\%</td>\n",
       "      <td>35.85±nan\\%</td>\n",
       "    </tr>\n",
       "    <tr>\n",
       "      <th>algo2/k:5</th>\n",
       "      <td>38.09±nan\\%</td>\n",
       "      <td>36.11±nan\\%</td>\n",
       "      <td>42.65±nan\\%</td>\n",
       "    </tr>\n",
       "    <tr>\n",
       "      <th>oneshot</th>\n",
       "      <td>38.47±nan\\%</td>\n",
       "      <td>28.36±nan\\%</td>\n",
       "      <td>37.24±nan\\%</td>\n",
       "    </tr>\n",
       "  </tbody>\n",
       "</table>\n",
       "</div>"
      ],
      "text/plain": [
       "               accuracy ($p=0.500000$, L=12)                          \n",
       "                                                                      \n",
       "M                                         1            6            12\n",
       "strategy                                                              \n",
       "algo1/d:10|e:1                   44.62±nan\\%  48.41±nan\\%  42.77±nan\\%\n",
       "algo1/d:20|e:1                   42.92±nan\\%  50.97±nan\\%  43.00±nan\\%\n",
       "algo1/d:5|e:1                    48.64±nan\\%  45.37±nan\\%  46.24±nan\\%\n",
       "algo2/k:10                       46.72±nan\\%  41.01±nan\\%  38.97±nan\\%\n",
       "algo2/k:20                       43.87±nan\\%  47.80±nan\\%  35.85±nan\\%\n",
       "algo2/k:5                        38.09±nan\\%  36.11±nan\\%  42.65±nan\\%\n",
       "oneshot                          38.47±nan\\%  28.36±nan\\%  37.24±nan\\%"
      ]
     },
     "execution_count": 281,
     "metadata": {},
     "output_type": "execute_result"
    }
   ],
   "source": [
    "print_table(df_mnist_2d, 0.5, 12, should_print=True)"
   ]
  },
  {
   "cell_type": "markdown",
   "metadata": {},
   "source": [
    "## VDB 21D"
   ]
  },
  {
   "cell_type": "code",
   "execution_count": 311,
   "metadata": {},
   "outputs": [
    {
     "name": "stdout",
     "output_type": "stream",
     "text": [
      "we have 36 analyses\n"
     ]
    },
    {
     "data": {
      "text/plain": [
       "strategy        M   L   p  \n",
       "algo1/d:10|e:1  1   1   0.0    4\n",
       "                        0.1    4\n",
       "                        0.2    4\n",
       "                        0.3    4\n",
       "                        0.4    4\n",
       "                        0.5    4\n",
       "                    12  0.0    4\n",
       "                        0.1    4\n",
       "                        0.2    4\n",
       "                        0.3    4\n",
       "                        0.4    4\n",
       "                        0.5    4\n",
       "                6   1   0.0    4\n",
       "                        0.1    4\n",
       "                        0.2    4\n",
       "                        0.3    4\n",
       "                        0.4    4\n",
       "                        0.5    4\n",
       "                    12  0.0    4\n",
       "                        0.1    4\n",
       "                        0.2    4\n",
       "                        0.3    4\n",
       "                        0.4    4\n",
       "                        0.5    4\n",
       "                12  1   0.0    4\n",
       "                        0.1    4\n",
       "                        0.2    4\n",
       "                        0.3    4\n",
       "                        0.4    4\n",
       "                        0.5    4\n",
       "                              ..\n",
       "oneshot         1   12  0.0    4\n",
       "                        0.1    4\n",
       "                        0.2    4\n",
       "                        0.3    4\n",
       "                        0.4    4\n",
       "                        0.5    4\n",
       "                6   1   0.0    4\n",
       "                        0.1    4\n",
       "                        0.2    4\n",
       "                        0.3    4\n",
       "                        0.4    4\n",
       "                        0.5    4\n",
       "                    12  0.0    4\n",
       "                        0.1    4\n",
       "                        0.2    4\n",
       "                        0.3    4\n",
       "                        0.4    4\n",
       "                        0.5    4\n",
       "                12  1   0.0    4\n",
       "                        0.1    4\n",
       "                        0.2    4\n",
       "                        0.3    4\n",
       "                        0.4    4\n",
       "                        0.5    4\n",
       "                    12  0.0    4\n",
       "                        0.1    4\n",
       "                        0.2    4\n",
       "                        0.3    4\n",
       "                        0.4    4\n",
       "                        0.5    4\n",
       "Name: M, Length: 108, dtype: int64"
      ]
     },
     "execution_count": 311,
     "metadata": {},
     "output_type": "execute_result"
    }
   ],
   "source": [
    "df_mnist_21d = read_analysis_from_dir(\"../artifacts-server/hydra/experiment-mnist-21d-test-robustness/*/*\")\n",
    "df_mnist_21d.groupby([\"strategy\", \"M\", \"L\", \"p\"])[\"M\"].count()"
   ]
  },
  {
   "cell_type": "code",
   "execution_count": 312,
   "metadata": {},
   "outputs": [
    {
     "name": "stdout",
     "output_type": "stream",
     "text": [
      "\\begin{tabular}{rcccc}\n",
      "\\toprule\n",
      "{} & \\multicolumn{3}{l}{accuracy ($p=0.000000$, L=12)} \\\\\n",
      "{} \\\\\n",
      "M &                            1  &              6  &              12 \\\\\n",
      "strategy       &                               &                 &                 \\\\\n",
      "\\midrule\n",
      "algo1/d:10|e:1 &                98.58±0.2285\\% &  98.67±0.0310\\% &  98.71±0.0975\\% \\\\\n",
      "algo2/k:10     &                98.74±0.0804\\% &  98.73±0.0222\\% &  97.86±1.7103\\% \\\\\n",
      "oneshot        &                98.62±0.0971\\% &  98.58±0.3035\\% &  98.73±0.0759\\% \\\\\n",
      "\\bottomrule\n",
      "\\end{tabular}\n",
      "\n"
     ]
    },
    {
     "name": "stderr",
     "output_type": "stream",
     "text": [
      "/Users/heytitle/projects/venv-python3/lib/python3.7/site-packages/ipykernel_launcher.py:5: FutureWarning: using a dict on a Series for aggregation\n",
      "is deprecated and will be removed in a future version\n",
      "  \"\"\"\n"
     ]
    },
    {
     "data": {
      "text/html": [
       "<div>\n",
       "<style scoped>\n",
       "    .dataframe tbody tr th:only-of-type {\n",
       "        vertical-align: middle;\n",
       "    }\n",
       "\n",
       "    .dataframe tbody tr th {\n",
       "        vertical-align: top;\n",
       "    }\n",
       "\n",
       "    .dataframe thead tr th {\n",
       "        text-align: left;\n",
       "    }\n",
       "\n",
       "    .dataframe thead tr:last-of-type th {\n",
       "        text-align: right;\n",
       "    }\n",
       "</style>\n",
       "<table border=\"1\" class=\"dataframe\">\n",
       "  <thead>\n",
       "    <tr>\n",
       "      <th></th>\n",
       "      <th colspan=\"3\" halign=\"left\">accuracy ($p=0.000000$, L=12)</th>\n",
       "    </tr>\n",
       "    <tr>\n",
       "      <th></th>\n",
       "      <th colspan=\"3\" halign=\"left\"></th>\n",
       "    </tr>\n",
       "    <tr>\n",
       "      <th>M</th>\n",
       "      <th>1</th>\n",
       "      <th>6</th>\n",
       "      <th>12</th>\n",
       "    </tr>\n",
       "    <tr>\n",
       "      <th>strategy</th>\n",
       "      <th></th>\n",
       "      <th></th>\n",
       "      <th></th>\n",
       "    </tr>\n",
       "  </thead>\n",
       "  <tbody>\n",
       "    <tr>\n",
       "      <th>algo1/d:10|e:1</th>\n",
       "      <td>98.58±0.2285\\%</td>\n",
       "      <td>98.67±0.0310\\%</td>\n",
       "      <td>98.71±0.0975\\%</td>\n",
       "    </tr>\n",
       "    <tr>\n",
       "      <th>algo2/k:10</th>\n",
       "      <td>98.74±0.0804\\%</td>\n",
       "      <td>98.73±0.0222\\%</td>\n",
       "      <td>97.86±1.7103\\%</td>\n",
       "    </tr>\n",
       "    <tr>\n",
       "      <th>oneshot</th>\n",
       "      <td>98.62±0.0971\\%</td>\n",
       "      <td>98.58±0.3035\\%</td>\n",
       "      <td>98.73±0.0759\\%</td>\n",
       "    </tr>\n",
       "  </tbody>\n",
       "</table>\n",
       "</div>"
      ],
      "text/plain": [
       "               accuracy ($p=0.000000$, L=12)                                \n",
       "                                                                            \n",
       "M                                         1               6               12\n",
       "strategy                                                                    \n",
       "algo1/d:10|e:1                98.58±0.2285\\%  98.67±0.0310\\%  98.71±0.0975\\%\n",
       "algo2/k:10                    98.74±0.0804\\%  98.73±0.0222\\%  97.86±1.7103\\%\n",
       "oneshot                       98.62±0.0971\\%  98.58±0.3035\\%  98.73±0.0759\\%"
      ]
     },
     "execution_count": 312,
     "metadata": {},
     "output_type": "execute_result"
    }
   ],
   "source": [
    "print_table(df_mnist_21d, 0.0, 12, should_print=True)"
   ]
  },
  {
   "cell_type": "code",
   "execution_count": 313,
   "metadata": {},
   "outputs": [
    {
     "name": "stdout",
     "output_type": "stream",
     "text": [
      "\\begin{tabular}{rcccc}\n",
      "\\toprule\n",
      "{} & \\multicolumn{3}{l}{accuracy ($p=0.100000$, L=12)} \\\\\n",
      "{} \\\\\n",
      "M &                            1  &              6  &              12 \\\\\n",
      "strategy       &                               &                 &                 \\\\\n",
      "\\midrule\n",
      "algo1/d:10|e:1 &                97.73±0.4824\\% &  97.92±0.1340\\% &  97.80±0.2345\\% \\\\\n",
      "algo2/k:10     &                98.06±0.0983\\% &  97.96±0.0594\\% &  96.85±2.0084\\% \\\\\n",
      "oneshot        &                97.96±0.0592\\% &  97.80±0.3426\\% &  98.05±0.0714\\% \\\\\n",
      "\\bottomrule\n",
      "\\end{tabular}\n",
      "\n"
     ]
    },
    {
     "name": "stderr",
     "output_type": "stream",
     "text": [
      "/Users/heytitle/projects/venv-python3/lib/python3.7/site-packages/ipykernel_launcher.py:5: FutureWarning: using a dict on a Series for aggregation\n",
      "is deprecated and will be removed in a future version\n",
      "  \"\"\"\n"
     ]
    },
    {
     "data": {
      "text/html": [
       "<div>\n",
       "<style scoped>\n",
       "    .dataframe tbody tr th:only-of-type {\n",
       "        vertical-align: middle;\n",
       "    }\n",
       "\n",
       "    .dataframe tbody tr th {\n",
       "        vertical-align: top;\n",
       "    }\n",
       "\n",
       "    .dataframe thead tr th {\n",
       "        text-align: left;\n",
       "    }\n",
       "\n",
       "    .dataframe thead tr:last-of-type th {\n",
       "        text-align: right;\n",
       "    }\n",
       "</style>\n",
       "<table border=\"1\" class=\"dataframe\">\n",
       "  <thead>\n",
       "    <tr>\n",
       "      <th></th>\n",
       "      <th colspan=\"3\" halign=\"left\">accuracy ($p=0.100000$, L=12)</th>\n",
       "    </tr>\n",
       "    <tr>\n",
       "      <th></th>\n",
       "      <th colspan=\"3\" halign=\"left\"></th>\n",
       "    </tr>\n",
       "    <tr>\n",
       "      <th>M</th>\n",
       "      <th>1</th>\n",
       "      <th>6</th>\n",
       "      <th>12</th>\n",
       "    </tr>\n",
       "    <tr>\n",
       "      <th>strategy</th>\n",
       "      <th></th>\n",
       "      <th></th>\n",
       "      <th></th>\n",
       "    </tr>\n",
       "  </thead>\n",
       "  <tbody>\n",
       "    <tr>\n",
       "      <th>algo1/d:10|e:1</th>\n",
       "      <td>97.73±0.4824\\%</td>\n",
       "      <td>97.92±0.1340\\%</td>\n",
       "      <td>97.80±0.2345\\%</td>\n",
       "    </tr>\n",
       "    <tr>\n",
       "      <th>algo2/k:10</th>\n",
       "      <td>98.06±0.0983\\%</td>\n",
       "      <td>97.96±0.0594\\%</td>\n",
       "      <td>96.85±2.0084\\%</td>\n",
       "    </tr>\n",
       "    <tr>\n",
       "      <th>oneshot</th>\n",
       "      <td>97.96±0.0592\\%</td>\n",
       "      <td>97.80±0.3426\\%</td>\n",
       "      <td>98.05±0.0714\\%</td>\n",
       "    </tr>\n",
       "  </tbody>\n",
       "</table>\n",
       "</div>"
      ],
      "text/plain": [
       "               accuracy ($p=0.100000$, L=12)                                \n",
       "                                                                            \n",
       "M                                         1               6               12\n",
       "strategy                                                                    \n",
       "algo1/d:10|e:1                97.73±0.4824\\%  97.92±0.1340\\%  97.80±0.2345\\%\n",
       "algo2/k:10                    98.06±0.0983\\%  97.96±0.0594\\%  96.85±2.0084\\%\n",
       "oneshot                       97.96±0.0592\\%  97.80±0.3426\\%  98.05±0.0714\\%"
      ]
     },
     "execution_count": 313,
     "metadata": {},
     "output_type": "execute_result"
    }
   ],
   "source": [
    "print_table(df_mnist_21d, 0.1, 12, should_print=True)"
   ]
  },
  {
   "cell_type": "code",
   "execution_count": 314,
   "metadata": {},
   "outputs": [
    {
     "name": "stdout",
     "output_type": "stream",
     "text": [
      "\\begin{tabular}{rcccc}\n",
      "\\toprule\n",
      "{} & \\multicolumn{3}{l}{accuracy ($p=0.400000$, L=12)} \\\\\n",
      "{} \\\\\n",
      "M &                            1  &              6  &              12 \\\\\n",
      "strategy       &                               &                 &                 \\\\\n",
      "\\midrule\n",
      "algo1/d:10|e:1 &                80.15±1.8838\\% &  75.88±1.3019\\% &  76.25±1.8423\\% \\\\\n",
      "algo2/k:10     &                80.50±0.2105\\% &  76.74±0.9867\\% &  76.64±1.9763\\% \\\\\n",
      "oneshot        &                75.99±1.8134\\% &  80.71±1.8248\\% &  78.44±0.7674\\% \\\\\n",
      "\\bottomrule\n",
      "\\end{tabular}\n",
      "\n"
     ]
    },
    {
     "name": "stderr",
     "output_type": "stream",
     "text": [
      "/Users/heytitle/projects/venv-python3/lib/python3.7/site-packages/ipykernel_launcher.py:5: FutureWarning: using a dict on a Series for aggregation\n",
      "is deprecated and will be removed in a future version\n",
      "  \"\"\"\n"
     ]
    },
    {
     "data": {
      "text/html": [
       "<div>\n",
       "<style scoped>\n",
       "    .dataframe tbody tr th:only-of-type {\n",
       "        vertical-align: middle;\n",
       "    }\n",
       "\n",
       "    .dataframe tbody tr th {\n",
       "        vertical-align: top;\n",
       "    }\n",
       "\n",
       "    .dataframe thead tr th {\n",
       "        text-align: left;\n",
       "    }\n",
       "\n",
       "    .dataframe thead tr:last-of-type th {\n",
       "        text-align: right;\n",
       "    }\n",
       "</style>\n",
       "<table border=\"1\" class=\"dataframe\">\n",
       "  <thead>\n",
       "    <tr>\n",
       "      <th></th>\n",
       "      <th colspan=\"3\" halign=\"left\">accuracy ($p=0.400000$, L=12)</th>\n",
       "    </tr>\n",
       "    <tr>\n",
       "      <th></th>\n",
       "      <th colspan=\"3\" halign=\"left\"></th>\n",
       "    </tr>\n",
       "    <tr>\n",
       "      <th>M</th>\n",
       "      <th>1</th>\n",
       "      <th>6</th>\n",
       "      <th>12</th>\n",
       "    </tr>\n",
       "    <tr>\n",
       "      <th>strategy</th>\n",
       "      <th></th>\n",
       "      <th></th>\n",
       "      <th></th>\n",
       "    </tr>\n",
       "  </thead>\n",
       "  <tbody>\n",
       "    <tr>\n",
       "      <th>algo1/d:10|e:1</th>\n",
       "      <td>80.15±1.8838\\%</td>\n",
       "      <td>75.88±1.3019\\%</td>\n",
       "      <td>76.25±1.8423\\%</td>\n",
       "    </tr>\n",
       "    <tr>\n",
       "      <th>algo2/k:10</th>\n",
       "      <td>80.50±0.2105\\%</td>\n",
       "      <td>76.74±0.9867\\%</td>\n",
       "      <td>76.64±1.9763\\%</td>\n",
       "    </tr>\n",
       "    <tr>\n",
       "      <th>oneshot</th>\n",
       "      <td>75.99±1.8134\\%</td>\n",
       "      <td>80.71±1.8248\\%</td>\n",
       "      <td>78.44±0.7674\\%</td>\n",
       "    </tr>\n",
       "  </tbody>\n",
       "</table>\n",
       "</div>"
      ],
      "text/plain": [
       "               accuracy ($p=0.400000$, L=12)                                \n",
       "                                                                            \n",
       "M                                         1               6               12\n",
       "strategy                                                                    \n",
       "algo1/d:10|e:1                80.15±1.8838\\%  75.88±1.3019\\%  76.25±1.8423\\%\n",
       "algo2/k:10                    80.50±0.2105\\%  76.74±0.9867\\%  76.64±1.9763\\%\n",
       "oneshot                       75.99±1.8134\\%  80.71±1.8248\\%  78.44±0.7674\\%"
      ]
     },
     "execution_count": 314,
     "metadata": {},
     "output_type": "execute_result"
    }
   ],
   "source": [
    "print_table(df_mnist_21d, 0.4, 12, should_print=True)"
   ]
  },
  {
   "cell_type": "code",
   "execution_count": 315,
   "metadata": {},
   "outputs": [
    {
     "name": "stdout",
     "output_type": "stream",
     "text": [
      "\\begin{tabular}{rcccc}\n",
      "\\toprule\n",
      "{} & \\multicolumn{3}{l}{accuracy ($p=0.500000$, L=12)} \\\\\n",
      "{} \\\\\n",
      "M &                            1  &              6  &              12 \\\\\n",
      "strategy       &                               &                 &                 \\\\\n",
      "\\midrule\n",
      "algo1/d:10|e:1 &                64.00±1.3131\\% &  56.76±2.1576\\% &  57.65±3.0095\\% \\\\\n",
      "algo2/k:10     &                63.51±0.6525\\% &  58.54±1.9797\\% &  58.78±5.2182\\% \\\\\n",
      "oneshot        &                51.87±1.3668\\% &  64.29±3.9257\\% &  58.71±1.7387\\% \\\\\n",
      "\\bottomrule\n",
      "\\end{tabular}\n",
      "\n"
     ]
    },
    {
     "name": "stderr",
     "output_type": "stream",
     "text": [
      "/Users/heytitle/projects/venv-python3/lib/python3.7/site-packages/ipykernel_launcher.py:5: FutureWarning: using a dict on a Series for aggregation\n",
      "is deprecated and will be removed in a future version\n",
      "  \"\"\"\n"
     ]
    },
    {
     "data": {
      "text/html": [
       "<div>\n",
       "<style scoped>\n",
       "    .dataframe tbody tr th:only-of-type {\n",
       "        vertical-align: middle;\n",
       "    }\n",
       "\n",
       "    .dataframe tbody tr th {\n",
       "        vertical-align: top;\n",
       "    }\n",
       "\n",
       "    .dataframe thead tr th {\n",
       "        text-align: left;\n",
       "    }\n",
       "\n",
       "    .dataframe thead tr:last-of-type th {\n",
       "        text-align: right;\n",
       "    }\n",
       "</style>\n",
       "<table border=\"1\" class=\"dataframe\">\n",
       "  <thead>\n",
       "    <tr>\n",
       "      <th></th>\n",
       "      <th colspan=\"3\" halign=\"left\">accuracy ($p=0.500000$, L=12)</th>\n",
       "    </tr>\n",
       "    <tr>\n",
       "      <th></th>\n",
       "      <th colspan=\"3\" halign=\"left\"></th>\n",
       "    </tr>\n",
       "    <tr>\n",
       "      <th>M</th>\n",
       "      <th>1</th>\n",
       "      <th>6</th>\n",
       "      <th>12</th>\n",
       "    </tr>\n",
       "    <tr>\n",
       "      <th>strategy</th>\n",
       "      <th></th>\n",
       "      <th></th>\n",
       "      <th></th>\n",
       "    </tr>\n",
       "  </thead>\n",
       "  <tbody>\n",
       "    <tr>\n",
       "      <th>algo1/d:10|e:1</th>\n",
       "      <td>64.00±1.3131\\%</td>\n",
       "      <td>56.76±2.1576\\%</td>\n",
       "      <td>57.65±3.0095\\%</td>\n",
       "    </tr>\n",
       "    <tr>\n",
       "      <th>algo2/k:10</th>\n",
       "      <td>63.51±0.6525\\%</td>\n",
       "      <td>58.54±1.9797\\%</td>\n",
       "      <td>58.78±5.2182\\%</td>\n",
       "    </tr>\n",
       "    <tr>\n",
       "      <th>oneshot</th>\n",
       "      <td>51.87±1.3668\\%</td>\n",
       "      <td>64.29±3.9257\\%</td>\n",
       "      <td>58.71±1.7387\\%</td>\n",
       "    </tr>\n",
       "  </tbody>\n",
       "</table>\n",
       "</div>"
      ],
      "text/plain": [
       "               accuracy ($p=0.500000$, L=12)                                \n",
       "                                                                            \n",
       "M                                         1               6               12\n",
       "strategy                                                                    \n",
       "algo1/d:10|e:1                64.00±1.3131\\%  56.76±2.1576\\%  57.65±3.0095\\%\n",
       "algo2/k:10                    63.51±0.6525\\%  58.54±1.9797\\%  58.78±5.2182\\%\n",
       "oneshot                       51.87±1.3668\\%  64.29±3.9257\\%  58.71±1.7387\\%"
      ]
     },
     "execution_count": 315,
     "metadata": {},
     "output_type": "execute_result"
    }
   ],
   "source": [
    "print_table(df_mnist_21d, 0.5, 12, should_print=True)"
   ]
  },
  {
   "cell_type": "markdown",
   "metadata": {},
   "source": [
    "## VIB 21D"
   ]
  },
  {
   "cell_type": "code",
   "execution_count": 321,
   "metadata": {},
   "outputs": [
    {
     "name": "stdout",
     "output_type": "stream",
     "text": [
      "we have 8 analyses\n"
     ]
    },
    {
     "data": {
      "text/plain": [
       "strategy  M   L   p  \n",
       "oneshot   6   1   0.0    4\n",
       "                  0.1    4\n",
       "                  0.2    4\n",
       "                  0.3    4\n",
       "                  0.4    4\n",
       "                  0.5    4\n",
       "              12  0.0    4\n",
       "                  0.1    4\n",
       "                  0.2    4\n",
       "                  0.3    4\n",
       "                  0.4    4\n",
       "                  0.5    4\n",
       "          12  1   0.0    4\n",
       "                  0.1    4\n",
       "                  0.2    4\n",
       "                  0.3    4\n",
       "                  0.4    4\n",
       "                  0.5    4\n",
       "              12  0.0    4\n",
       "                  0.1    4\n",
       "                  0.2    4\n",
       "                  0.3    4\n",
       "                  0.4    4\n",
       "                  0.5    4\n",
       "Name: M, dtype: int64"
      ]
     },
     "execution_count": 321,
     "metadata": {},
     "output_type": "execute_result"
    }
   ],
   "source": [
    "df_mnist_21d_vib = read_analysis_from_dir(\"../artifacts-server/hydra/experiment-mnist-21d-test-robustness-vib/*/*\")\n",
    "df_mnist_21d_vib.groupby([\"strategy\", \"M\", \"L\", \"p\"])[\"M\"].count()"
   ]
  },
  {
   "cell_type": "code",
   "execution_count": 322,
   "metadata": {},
   "outputs": [
    {
     "name": "stdout",
     "output_type": "stream",
     "text": [
      "\\begin{tabular}{rcccc}\n",
      "\\toprule\n",
      "{} & \\multicolumn{2}{l}{accuracy ($p=0.000000$, L=12)} \\\\\n",
      "{} \\\\\n",
      "M &                            6  &              12 \\\\\n",
      "strategy &                               &                 \\\\\n",
      "\\midrule\n",
      "oneshot  &                98.74±0.0789\\% &  98.72±0.1034\\% \\\\\n",
      "\\bottomrule\n",
      "\\end{tabular}\n",
      "\n"
     ]
    },
    {
     "name": "stderr",
     "output_type": "stream",
     "text": [
      "/Users/heytitle/projects/venv-python3/lib/python3.7/site-packages/ipykernel_launcher.py:5: FutureWarning: using a dict on a Series for aggregation\n",
      "is deprecated and will be removed in a future version\n",
      "  \"\"\"\n"
     ]
    },
    {
     "data": {
      "text/html": [
       "<div>\n",
       "<style scoped>\n",
       "    .dataframe tbody tr th:only-of-type {\n",
       "        vertical-align: middle;\n",
       "    }\n",
       "\n",
       "    .dataframe tbody tr th {\n",
       "        vertical-align: top;\n",
       "    }\n",
       "\n",
       "    .dataframe thead tr th {\n",
       "        text-align: left;\n",
       "    }\n",
       "\n",
       "    .dataframe thead tr:last-of-type th {\n",
       "        text-align: right;\n",
       "    }\n",
       "</style>\n",
       "<table border=\"1\" class=\"dataframe\">\n",
       "  <thead>\n",
       "    <tr>\n",
       "      <th></th>\n",
       "      <th colspan=\"2\" halign=\"left\">accuracy ($p=0.000000$, L=12)</th>\n",
       "    </tr>\n",
       "    <tr>\n",
       "      <th></th>\n",
       "      <th colspan=\"2\" halign=\"left\"></th>\n",
       "    </tr>\n",
       "    <tr>\n",
       "      <th>M</th>\n",
       "      <th>6</th>\n",
       "      <th>12</th>\n",
       "    </tr>\n",
       "    <tr>\n",
       "      <th>strategy</th>\n",
       "      <th></th>\n",
       "      <th></th>\n",
       "    </tr>\n",
       "  </thead>\n",
       "  <tbody>\n",
       "    <tr>\n",
       "      <th>oneshot</th>\n",
       "      <td>98.74±0.0789\\%</td>\n",
       "      <td>98.72±0.1034\\%</td>\n",
       "    </tr>\n",
       "  </tbody>\n",
       "</table>\n",
       "</div>"
      ],
      "text/plain": [
       "         accuracy ($p=0.000000$, L=12)                \n",
       "                                                      \n",
       "M                                   6               12\n",
       "strategy                                              \n",
       "oneshot                 98.74±0.0789\\%  98.72±0.1034\\%"
      ]
     },
     "execution_count": 322,
     "metadata": {},
     "output_type": "execute_result"
    }
   ],
   "source": [
    "print_table(df_mnist_21d_vib, 0.0, 12, should_print=True)"
   ]
  },
  {
   "cell_type": "code",
   "execution_count": 323,
   "metadata": {},
   "outputs": [
    {
     "name": "stdout",
     "output_type": "stream",
     "text": [
      "\\begin{tabular}{rcccc}\n",
      "\\toprule\n",
      "{} & \\multicolumn{2}{l}{accuracy ($p=0.100000$, L=12)} \\\\\n",
      "{} \\\\\n",
      "M &                            6  &              12 \\\\\n",
      "strategy &                               &                 \\\\\n",
      "\\midrule\n",
      "oneshot  &                98.08±0.0837\\% &  97.99±0.2111\\% \\\\\n",
      "\\bottomrule\n",
      "\\end{tabular}\n",
      "\n"
     ]
    },
    {
     "name": "stderr",
     "output_type": "stream",
     "text": [
      "/Users/heytitle/projects/venv-python3/lib/python3.7/site-packages/ipykernel_launcher.py:5: FutureWarning: using a dict on a Series for aggregation\n",
      "is deprecated and will be removed in a future version\n",
      "  \"\"\"\n"
     ]
    },
    {
     "data": {
      "text/html": [
       "<div>\n",
       "<style scoped>\n",
       "    .dataframe tbody tr th:only-of-type {\n",
       "        vertical-align: middle;\n",
       "    }\n",
       "\n",
       "    .dataframe tbody tr th {\n",
       "        vertical-align: top;\n",
       "    }\n",
       "\n",
       "    .dataframe thead tr th {\n",
       "        text-align: left;\n",
       "    }\n",
       "\n",
       "    .dataframe thead tr:last-of-type th {\n",
       "        text-align: right;\n",
       "    }\n",
       "</style>\n",
       "<table border=\"1\" class=\"dataframe\">\n",
       "  <thead>\n",
       "    <tr>\n",
       "      <th></th>\n",
       "      <th colspan=\"2\" halign=\"left\">accuracy ($p=0.100000$, L=12)</th>\n",
       "    </tr>\n",
       "    <tr>\n",
       "      <th></th>\n",
       "      <th colspan=\"2\" halign=\"left\"></th>\n",
       "    </tr>\n",
       "    <tr>\n",
       "      <th>M</th>\n",
       "      <th>6</th>\n",
       "      <th>12</th>\n",
       "    </tr>\n",
       "    <tr>\n",
       "      <th>strategy</th>\n",
       "      <th></th>\n",
       "      <th></th>\n",
       "    </tr>\n",
       "  </thead>\n",
       "  <tbody>\n",
       "    <tr>\n",
       "      <th>oneshot</th>\n",
       "      <td>98.08±0.0837\\%</td>\n",
       "      <td>97.99±0.2111\\%</td>\n",
       "    </tr>\n",
       "  </tbody>\n",
       "</table>\n",
       "</div>"
      ],
      "text/plain": [
       "         accuracy ($p=0.100000$, L=12)                \n",
       "                                                      \n",
       "M                                   6               12\n",
       "strategy                                              \n",
       "oneshot                 98.08±0.0837\\%  97.99±0.2111\\%"
      ]
     },
     "execution_count": 323,
     "metadata": {},
     "output_type": "execute_result"
    }
   ],
   "source": [
    "print_table(df_mnist_21d_vib, 0.1, 12, should_print=True)"
   ]
  },
  {
   "cell_type": "code",
   "execution_count": 324,
   "metadata": {},
   "outputs": [
    {
     "name": "stdout",
     "output_type": "stream",
     "text": [
      "\\begin{tabular}{rcccc}\n",
      "\\toprule\n",
      "{} & \\multicolumn{2}{l}{accuracy ($p=0.400000$, L=12)} \\\\\n",
      "{} \\\\\n",
      "M &                            6  &              12 \\\\\n",
      "strategy &                               &                 \\\\\n",
      "\\midrule\n",
      "oneshot  &                81.95±0.4542\\% &  80.75±1.2985\\% \\\\\n",
      "\\bottomrule\n",
      "\\end{tabular}\n",
      "\n"
     ]
    },
    {
     "name": "stderr",
     "output_type": "stream",
     "text": [
      "/Users/heytitle/projects/venv-python3/lib/python3.7/site-packages/ipykernel_launcher.py:5: FutureWarning: using a dict on a Series for aggregation\n",
      "is deprecated and will be removed in a future version\n",
      "  \"\"\"\n"
     ]
    },
    {
     "data": {
      "text/html": [
       "<div>\n",
       "<style scoped>\n",
       "    .dataframe tbody tr th:only-of-type {\n",
       "        vertical-align: middle;\n",
       "    }\n",
       "\n",
       "    .dataframe tbody tr th {\n",
       "        vertical-align: top;\n",
       "    }\n",
       "\n",
       "    .dataframe thead tr th {\n",
       "        text-align: left;\n",
       "    }\n",
       "\n",
       "    .dataframe thead tr:last-of-type th {\n",
       "        text-align: right;\n",
       "    }\n",
       "</style>\n",
       "<table border=\"1\" class=\"dataframe\">\n",
       "  <thead>\n",
       "    <tr>\n",
       "      <th></th>\n",
       "      <th colspan=\"2\" halign=\"left\">accuracy ($p=0.400000$, L=12)</th>\n",
       "    </tr>\n",
       "    <tr>\n",
       "      <th></th>\n",
       "      <th colspan=\"2\" halign=\"left\"></th>\n",
       "    </tr>\n",
       "    <tr>\n",
       "      <th>M</th>\n",
       "      <th>6</th>\n",
       "      <th>12</th>\n",
       "    </tr>\n",
       "    <tr>\n",
       "      <th>strategy</th>\n",
       "      <th></th>\n",
       "      <th></th>\n",
       "    </tr>\n",
       "  </thead>\n",
       "  <tbody>\n",
       "    <tr>\n",
       "      <th>oneshot</th>\n",
       "      <td>81.95±0.4542\\%</td>\n",
       "      <td>80.75±1.2985\\%</td>\n",
       "    </tr>\n",
       "  </tbody>\n",
       "</table>\n",
       "</div>"
      ],
      "text/plain": [
       "         accuracy ($p=0.400000$, L=12)                \n",
       "                                                      \n",
       "M                                   6               12\n",
       "strategy                                              \n",
       "oneshot                 81.95±0.4542\\%  80.75±1.2985\\%"
      ]
     },
     "execution_count": 324,
     "metadata": {},
     "output_type": "execute_result"
    }
   ],
   "source": [
    "print_table(df_mnist_21d_vib, 0.4, 12, should_print=True)"
   ]
  },
  {
   "cell_type": "code",
   "execution_count": 325,
   "metadata": {},
   "outputs": [
    {
     "name": "stdout",
     "output_type": "stream",
     "text": [
      "\\begin{tabular}{rcccc}\n",
      "\\toprule\n",
      "{} & \\multicolumn{2}{l}{accuracy ($p=0.500000$, L=12)} \\\\\n",
      "{} \\\\\n",
      "M &                            6  &              12 \\\\\n",
      "strategy &                               &                 \\\\\n",
      "\\midrule\n",
      "oneshot  &                65.58±1.1714\\% &  65.06±2.4417\\% \\\\\n",
      "\\bottomrule\n",
      "\\end{tabular}\n",
      "\n"
     ]
    },
    {
     "name": "stderr",
     "output_type": "stream",
     "text": [
      "/Users/heytitle/projects/venv-python3/lib/python3.7/site-packages/ipykernel_launcher.py:5: FutureWarning: using a dict on a Series for aggregation\n",
      "is deprecated and will be removed in a future version\n",
      "  \"\"\"\n"
     ]
    },
    {
     "data": {
      "text/html": [
       "<div>\n",
       "<style scoped>\n",
       "    .dataframe tbody tr th:only-of-type {\n",
       "        vertical-align: middle;\n",
       "    }\n",
       "\n",
       "    .dataframe tbody tr th {\n",
       "        vertical-align: top;\n",
       "    }\n",
       "\n",
       "    .dataframe thead tr th {\n",
       "        text-align: left;\n",
       "    }\n",
       "\n",
       "    .dataframe thead tr:last-of-type th {\n",
       "        text-align: right;\n",
       "    }\n",
       "</style>\n",
       "<table border=\"1\" class=\"dataframe\">\n",
       "  <thead>\n",
       "    <tr>\n",
       "      <th></th>\n",
       "      <th colspan=\"2\" halign=\"left\">accuracy ($p=0.500000$, L=12)</th>\n",
       "    </tr>\n",
       "    <tr>\n",
       "      <th></th>\n",
       "      <th colspan=\"2\" halign=\"left\"></th>\n",
       "    </tr>\n",
       "    <tr>\n",
       "      <th>M</th>\n",
       "      <th>6</th>\n",
       "      <th>12</th>\n",
       "    </tr>\n",
       "    <tr>\n",
       "      <th>strategy</th>\n",
       "      <th></th>\n",
       "      <th></th>\n",
       "    </tr>\n",
       "  </thead>\n",
       "  <tbody>\n",
       "    <tr>\n",
       "      <th>oneshot</th>\n",
       "      <td>65.58±1.1714\\%</td>\n",
       "      <td>65.06±2.4417\\%</td>\n",
       "    </tr>\n",
       "  </tbody>\n",
       "</table>\n",
       "</div>"
      ],
      "text/plain": [
       "         accuracy ($p=0.500000$, L=12)                \n",
       "                                                      \n",
       "M                                   6               12\n",
       "strategy                                              \n",
       "oneshot                 65.58±1.1714\\%  65.06±2.4417\\%"
      ]
     },
     "execution_count": 325,
     "metadata": {},
     "output_type": "execute_result"
    }
   ],
   "source": [
    "print_table(df_mnist_21d_vib, 0.5, 12, should_print=True)"
   ]
  },
  {
   "cell_type": "markdown",
   "metadata": {},
   "source": [
    "## VIB 2D"
   ]
  },
  {
   "cell_type": "code",
   "execution_count": 283,
   "metadata": {},
   "outputs": [
    {
     "name": "stdout",
     "output_type": "stream",
     "text": [
      "we have 2 analyses\n"
     ]
    },
    {
     "data": {
      "text/plain": [
       "strategy  M   L   p  \n",
       "oneshot   6   1   0.0    1\n",
       "                  0.1    1\n",
       "                  0.2    1\n",
       "                  0.3    1\n",
       "                  0.4    1\n",
       "                  0.5    1\n",
       "              12  0.0    1\n",
       "                  0.1    1\n",
       "                  0.2    1\n",
       "                  0.3    1\n",
       "                  0.4    1\n",
       "                  0.5    1\n",
       "          12  1   0.0    1\n",
       "                  0.1    1\n",
       "                  0.2    1\n",
       "                  0.3    1\n",
       "                  0.4    1\n",
       "                  0.5    1\n",
       "              12  0.0    1\n",
       "                  0.1    1\n",
       "                  0.2    1\n",
       "                  0.3    1\n",
       "                  0.4    1\n",
       "                  0.5    1\n",
       "Name: M, dtype: int64"
      ]
     },
     "execution_count": 283,
     "metadata": {},
     "output_type": "execute_result"
    }
   ],
   "source": [
    "df_mnist_2d_vib = read_analysis_from_dir(\"../artifacts-server/hydra/experiment-mnist-2d-test-robustness-vib/*/*\")\n",
    "df_mnist_2d_vib.groupby([\"strategy\", \"M\", \"L\", \"p\"])[\"M\"].count()"
   ]
  },
  {
   "cell_type": "code",
   "execution_count": 292,
   "metadata": {},
   "outputs": [
    {
     "name": "stdout",
     "output_type": "stream",
     "text": [
      "\\begin{tabular}{rcccc}\n",
      "\\toprule\n",
      "{} & \\multicolumn{2}{l}{accuracy ($p=0.000000$, L=12)} \\\\\n",
      "{} \\\\\n",
      "M &                            6  &           12 \\\\\n",
      "strategy &                               &              \\\\\n",
      "\\midrule\n",
      "oneshot  &                   97.74±nan\\% &  97.19±nan\\% \\\\\n",
      "\\bottomrule\n",
      "\\end{tabular}\n",
      "\n"
     ]
    },
    {
     "name": "stderr",
     "output_type": "stream",
     "text": [
      "/Users/heytitle/projects/venv-python3/lib/python3.7/site-packages/ipykernel_launcher.py:5: FutureWarning: using a dict on a Series for aggregation\n",
      "is deprecated and will be removed in a future version\n",
      "  \"\"\"\n"
     ]
    },
    {
     "data": {
      "text/html": [
       "<div>\n",
       "<style scoped>\n",
       "    .dataframe tbody tr th:only-of-type {\n",
       "        vertical-align: middle;\n",
       "    }\n",
       "\n",
       "    .dataframe tbody tr th {\n",
       "        vertical-align: top;\n",
       "    }\n",
       "\n",
       "    .dataframe thead tr th {\n",
       "        text-align: left;\n",
       "    }\n",
       "\n",
       "    .dataframe thead tr:last-of-type th {\n",
       "        text-align: right;\n",
       "    }\n",
       "</style>\n",
       "<table border=\"1\" class=\"dataframe\">\n",
       "  <thead>\n",
       "    <tr>\n",
       "      <th></th>\n",
       "      <th colspan=\"2\" halign=\"left\">accuracy ($p=0.000000$, L=12)</th>\n",
       "    </tr>\n",
       "    <tr>\n",
       "      <th></th>\n",
       "      <th colspan=\"2\" halign=\"left\"></th>\n",
       "    </tr>\n",
       "    <tr>\n",
       "      <th>M</th>\n",
       "      <th>6</th>\n",
       "      <th>12</th>\n",
       "    </tr>\n",
       "    <tr>\n",
       "      <th>strategy</th>\n",
       "      <th></th>\n",
       "      <th></th>\n",
       "    </tr>\n",
       "  </thead>\n",
       "  <tbody>\n",
       "    <tr>\n",
       "      <th>oneshot</th>\n",
       "      <td>97.74±nan\\%</td>\n",
       "      <td>97.19±nan\\%</td>\n",
       "    </tr>\n",
       "  </tbody>\n",
       "</table>\n",
       "</div>"
      ],
      "text/plain": [
       "         accuracy ($p=0.000000$, L=12)             \n",
       "                                                   \n",
       "M                                   6            12\n",
       "strategy                                           \n",
       "oneshot                    97.74±nan\\%  97.19±nan\\%"
      ]
     },
     "execution_count": 292,
     "metadata": {},
     "output_type": "execute_result"
    }
   ],
   "source": [
    "print_table(df_mnist_2d_vib, 0.0, 12, should_print=True)"
   ]
  },
  {
   "cell_type": "code",
   "execution_count": 291,
   "metadata": {},
   "outputs": [
    {
     "name": "stdout",
     "output_type": "stream",
     "text": [
      "\\begin{tabular}{rcccc}\n",
      "\\toprule\n",
      "{} & \\multicolumn{2}{l}{accuracy ($p=0.100000$, L=12)} \\\\\n",
      "{} \\\\\n",
      "M &                            6  &           12 \\\\\n",
      "strategy &                               &              \\\\\n",
      "\\midrule\n",
      "oneshot  &                   95.64±nan\\% &  94.70±nan\\% \\\\\n",
      "\\bottomrule\n",
      "\\end{tabular}\n",
      "\n"
     ]
    },
    {
     "name": "stderr",
     "output_type": "stream",
     "text": [
      "/Users/heytitle/projects/venv-python3/lib/python3.7/site-packages/ipykernel_launcher.py:5: FutureWarning: using a dict on a Series for aggregation\n",
      "is deprecated and will be removed in a future version\n",
      "  \"\"\"\n"
     ]
    },
    {
     "data": {
      "text/html": [
       "<div>\n",
       "<style scoped>\n",
       "    .dataframe tbody tr th:only-of-type {\n",
       "        vertical-align: middle;\n",
       "    }\n",
       "\n",
       "    .dataframe tbody tr th {\n",
       "        vertical-align: top;\n",
       "    }\n",
       "\n",
       "    .dataframe thead tr th {\n",
       "        text-align: left;\n",
       "    }\n",
       "\n",
       "    .dataframe thead tr:last-of-type th {\n",
       "        text-align: right;\n",
       "    }\n",
       "</style>\n",
       "<table border=\"1\" class=\"dataframe\">\n",
       "  <thead>\n",
       "    <tr>\n",
       "      <th></th>\n",
       "      <th colspan=\"2\" halign=\"left\">accuracy ($p=0.100000$, L=12)</th>\n",
       "    </tr>\n",
       "    <tr>\n",
       "      <th></th>\n",
       "      <th colspan=\"2\" halign=\"left\"></th>\n",
       "    </tr>\n",
       "    <tr>\n",
       "      <th>M</th>\n",
       "      <th>6</th>\n",
       "      <th>12</th>\n",
       "    </tr>\n",
       "    <tr>\n",
       "      <th>strategy</th>\n",
       "      <th></th>\n",
       "      <th></th>\n",
       "    </tr>\n",
       "  </thead>\n",
       "  <tbody>\n",
       "    <tr>\n",
       "      <th>oneshot</th>\n",
       "      <td>95.64±nan\\%</td>\n",
       "      <td>94.70±nan\\%</td>\n",
       "    </tr>\n",
       "  </tbody>\n",
       "</table>\n",
       "</div>"
      ],
      "text/plain": [
       "         accuracy ($p=0.100000$, L=12)             \n",
       "                                                   \n",
       "M                                   6            12\n",
       "strategy                                           \n",
       "oneshot                    95.64±nan\\%  94.70±nan\\%"
      ]
     },
     "execution_count": 291,
     "metadata": {},
     "output_type": "execute_result"
    }
   ],
   "source": [
    "print_table(df_mnist_2d_vib, 0.1, 12, should_print=True)"
   ]
  },
  {
   "cell_type": "code",
   "execution_count": 293,
   "metadata": {},
   "outputs": [
    {
     "name": "stdout",
     "output_type": "stream",
     "text": [
      "\\begin{tabular}{rcccc}\n",
      "\\toprule\n",
      "{} & \\multicolumn{2}{l}{accuracy ($p=0.400000$, L=12)} \\\\\n",
      "{} \\\\\n",
      "M &                            6  &           12 \\\\\n",
      "strategy &                               &              \\\\\n",
      "\\midrule\n",
      "oneshot  &                   53.92±nan\\% &  53.54±nan\\% \\\\\n",
      "\\bottomrule\n",
      "\\end{tabular}\n",
      "\n"
     ]
    },
    {
     "name": "stderr",
     "output_type": "stream",
     "text": [
      "/Users/heytitle/projects/venv-python3/lib/python3.7/site-packages/ipykernel_launcher.py:5: FutureWarning: using a dict on a Series for aggregation\n",
      "is deprecated and will be removed in a future version\n",
      "  \"\"\"\n"
     ]
    },
    {
     "data": {
      "text/html": [
       "<div>\n",
       "<style scoped>\n",
       "    .dataframe tbody tr th:only-of-type {\n",
       "        vertical-align: middle;\n",
       "    }\n",
       "\n",
       "    .dataframe tbody tr th {\n",
       "        vertical-align: top;\n",
       "    }\n",
       "\n",
       "    .dataframe thead tr th {\n",
       "        text-align: left;\n",
       "    }\n",
       "\n",
       "    .dataframe thead tr:last-of-type th {\n",
       "        text-align: right;\n",
       "    }\n",
       "</style>\n",
       "<table border=\"1\" class=\"dataframe\">\n",
       "  <thead>\n",
       "    <tr>\n",
       "      <th></th>\n",
       "      <th colspan=\"2\" halign=\"left\">accuracy ($p=0.400000$, L=12)</th>\n",
       "    </tr>\n",
       "    <tr>\n",
       "      <th></th>\n",
       "      <th colspan=\"2\" halign=\"left\"></th>\n",
       "    </tr>\n",
       "    <tr>\n",
       "      <th>M</th>\n",
       "      <th>6</th>\n",
       "      <th>12</th>\n",
       "    </tr>\n",
       "    <tr>\n",
       "      <th>strategy</th>\n",
       "      <th></th>\n",
       "      <th></th>\n",
       "    </tr>\n",
       "  </thead>\n",
       "  <tbody>\n",
       "    <tr>\n",
       "      <th>oneshot</th>\n",
       "      <td>53.92±nan\\%</td>\n",
       "      <td>53.54±nan\\%</td>\n",
       "    </tr>\n",
       "  </tbody>\n",
       "</table>\n",
       "</div>"
      ],
      "text/plain": [
       "         accuracy ($p=0.400000$, L=12)             \n",
       "                                                   \n",
       "M                                   6            12\n",
       "strategy                                           \n",
       "oneshot                    53.92±nan\\%  53.54±nan\\%"
      ]
     },
     "execution_count": 293,
     "metadata": {},
     "output_type": "execute_result"
    }
   ],
   "source": [
    "print_table(df_mnist_2d_vib, 0.4, 12, should_print=True)"
   ]
  },
  {
   "cell_type": "code",
   "execution_count": 294,
   "metadata": {},
   "outputs": [
    {
     "name": "stdout",
     "output_type": "stream",
     "text": [
      "\\begin{tabular}{rcccc}\n",
      "\\toprule\n",
      "{} & \\multicolumn{2}{l}{accuracy ($p=0.500000$, L=12)} \\\\\n",
      "{} \\\\\n",
      "M &                            6  &           12 \\\\\n",
      "strategy &                               &              \\\\\n",
      "\\midrule\n",
      "oneshot  &                   34.08±nan\\% &  33.30±nan\\% \\\\\n",
      "\\bottomrule\n",
      "\\end{tabular}\n",
      "\n"
     ]
    },
    {
     "name": "stderr",
     "output_type": "stream",
     "text": [
      "/Users/heytitle/projects/venv-python3/lib/python3.7/site-packages/ipykernel_launcher.py:5: FutureWarning: using a dict on a Series for aggregation\n",
      "is deprecated and will be removed in a future version\n",
      "  \"\"\"\n"
     ]
    },
    {
     "data": {
      "text/html": [
       "<div>\n",
       "<style scoped>\n",
       "    .dataframe tbody tr th:only-of-type {\n",
       "        vertical-align: middle;\n",
       "    }\n",
       "\n",
       "    .dataframe tbody tr th {\n",
       "        vertical-align: top;\n",
       "    }\n",
       "\n",
       "    .dataframe thead tr th {\n",
       "        text-align: left;\n",
       "    }\n",
       "\n",
       "    .dataframe thead tr:last-of-type th {\n",
       "        text-align: right;\n",
       "    }\n",
       "</style>\n",
       "<table border=\"1\" class=\"dataframe\">\n",
       "  <thead>\n",
       "    <tr>\n",
       "      <th></th>\n",
       "      <th colspan=\"2\" halign=\"left\">accuracy ($p=0.500000$, L=12)</th>\n",
       "    </tr>\n",
       "    <tr>\n",
       "      <th></th>\n",
       "      <th colspan=\"2\" halign=\"left\"></th>\n",
       "    </tr>\n",
       "    <tr>\n",
       "      <th>M</th>\n",
       "      <th>6</th>\n",
       "      <th>12</th>\n",
       "    </tr>\n",
       "    <tr>\n",
       "      <th>strategy</th>\n",
       "      <th></th>\n",
       "      <th></th>\n",
       "    </tr>\n",
       "  </thead>\n",
       "  <tbody>\n",
       "    <tr>\n",
       "      <th>oneshot</th>\n",
       "      <td>34.08±nan\\%</td>\n",
       "      <td>33.30±nan\\%</td>\n",
       "    </tr>\n",
       "  </tbody>\n",
       "</table>\n",
       "</div>"
      ],
      "text/plain": [
       "         accuracy ($p=0.500000$, L=12)             \n",
       "                                                   \n",
       "M                                   6            12\n",
       "strategy                                           \n",
       "oneshot                    34.08±nan\\%  33.30±nan\\%"
      ]
     },
     "execution_count": 294,
     "metadata": {},
     "output_type": "execute_result"
    }
   ],
   "source": [
    "print_table(df_mnist_2d_vib, 0.5, 12, should_print=True)"
   ]
  },
  {
   "cell_type": "markdown",
   "metadata": {},
   "source": [
    "# FashionMNIST"
   ]
  },
  {
   "cell_type": "markdown",
   "metadata": {},
   "source": [
    "## Resnet VDB"
   ]
  },
  {
   "cell_type": "code",
   "execution_count": 45,
   "metadata": {},
   "outputs": [
    {
     "name": "stdout",
     "output_type": "stream",
     "text": [
      "we have 36 analyses\n"
     ]
    },
    {
     "data": {
      "text/plain": [
       "strategy        M   p  \n",
       "algo1/d:10|e:1  1   0.0    8\n",
       "                    0.1    8\n",
       "                    0.2    8\n",
       "                    0.3    8\n",
       "                    0.4    8\n",
       "                    0.5    8\n",
       "                6   0.0    8\n",
       "                    0.1    8\n",
       "                    0.2    8\n",
       "                    0.3    8\n",
       "                    0.4    8\n",
       "                    0.5    8\n",
       "                12  0.0    8\n",
       "                    0.1    8\n",
       "                    0.2    8\n",
       "                    0.3    8\n",
       "                    0.4    8\n",
       "                    0.5    8\n",
       "algo2/k:10      1   0.0    8\n",
       "                    0.1    8\n",
       "                    0.2    8\n",
       "                    0.3    8\n",
       "                    0.4    8\n",
       "                    0.5    8\n",
       "                6   0.0    8\n",
       "                    0.1    8\n",
       "                    0.2    8\n",
       "                    0.3    8\n",
       "                    0.4    8\n",
       "                    0.5    8\n",
       "                12  0.0    8\n",
       "                    0.1    8\n",
       "                    0.2    8\n",
       "                    0.3    8\n",
       "                    0.4    8\n",
       "                    0.5    8\n",
       "oneshot         1   0.0    8\n",
       "                    0.1    8\n",
       "                    0.2    8\n",
       "                    0.3    8\n",
       "                    0.4    8\n",
       "                    0.5    8\n",
       "                6   0.0    8\n",
       "                    0.1    8\n",
       "                    0.2    8\n",
       "                    0.3    8\n",
       "                    0.4    8\n",
       "                    0.5    8\n",
       "                12  0.0    8\n",
       "                    0.1    8\n",
       "                    0.2    8\n",
       "                    0.3    8\n",
       "                    0.4    8\n",
       "                    0.5    8\n",
       "Name: M, dtype: int64"
      ]
     },
     "execution_count": 45,
     "metadata": {},
     "output_type": "execute_result"
    }
   ],
   "source": [
    "df_fashion_mnist_resnet = read_analysis_from_dir(\"../artifacts-server/mpg-server/experiment-robustness-fashion_mnist/*/resnet20-vdb*\")\n",
    "df_fashion_mnist_resnet.groupby([\"strategy\", \"M\", \"p\"])[\"M\"].count()"
   ]
  },
  {
   "cell_type": "code",
   "execution_count": 59,
   "metadata": {},
   "outputs": [
    {
     "name": "stderr",
     "output_type": "stream",
     "text": [
      "/Users/heytitle/projects/venv-python3/lib/python3.7/site-packages/ipykernel_launcher.py:5: FutureWarning: using a dict on a Series for aggregation\n",
      "is deprecated and will be removed in a future version\n",
      "  \"\"\"\n",
      "/Users/heytitle/projects/venv-python3/lib/python3.7/site-packages/pandas/core/generic.py:3111: PerformanceWarning: dropping on a non-lexsorted multi-index without a level parameter may impact performance.\n",
      "  obj = obj._drop_axis(labels, axis, level=level, errors=errors)\n"
     ]
    },
    {
     "data": {
      "text/html": [
       "<div>\n",
       "<style scoped>\n",
       "    .dataframe tbody tr th:only-of-type {\n",
       "        vertical-align: middle;\n",
       "    }\n",
       "\n",
       "    .dataframe tbody tr th {\n",
       "        vertical-align: top;\n",
       "    }\n",
       "\n",
       "    .dataframe thead tr th {\n",
       "        text-align: left;\n",
       "    }\n",
       "\n",
       "    .dataframe thead tr:last-of-type th {\n",
       "        text-align: right;\n",
       "    }\n",
       "</style>\n",
       "<table border=\"1\" class=\"dataframe\">\n",
       "  <thead>\n",
       "    <tr>\n",
       "      <th></th>\n",
       "      <th colspan=\"3\" halign=\"left\">accuracy ($p=0.300000$, L=12)</th>\n",
       "    </tr>\n",
       "    <tr>\n",
       "      <th></th>\n",
       "      <th colspan=\"3\" halign=\"left\"></th>\n",
       "    </tr>\n",
       "    <tr>\n",
       "      <th>M</th>\n",
       "      <th>1</th>\n",
       "      <th>6</th>\n",
       "      <th>12</th>\n",
       "    </tr>\n",
       "    <tr>\n",
       "      <th>strategy</th>\n",
       "      <th></th>\n",
       "      <th></th>\n",
       "      <th></th>\n",
       "    </tr>\n",
       "  </thead>\n",
       "  <tbody>\n",
       "    <tr>\n",
       "      <th>algo1/d:10|e:1</th>\n",
       "      <td>17.63±1.9634\\%</td>\n",
       "      <td>15.07±2.0919\\%</td>\n",
       "      <td>17.68±2.0679\\%</td>\n",
       "    </tr>\n",
       "    <tr>\n",
       "      <th>algo2/k:10</th>\n",
       "      <td>18.44±1.3849\\%</td>\n",
       "      <td>17.26±3.3846\\%</td>\n",
       "      <td>17.33±2.9685\\%</td>\n",
       "    </tr>\n",
       "    <tr>\n",
       "      <th>oneshot</th>\n",
       "      <td>14.82±2.1890\\%</td>\n",
       "      <td>15.40±2.9948\\%</td>\n",
       "      <td>18.96±0.7565\\%</td>\n",
       "    </tr>\n",
       "  </tbody>\n",
       "</table>\n",
       "</div>"
      ],
      "text/plain": [
       "               accuracy ($p=0.300000$, L=12)                                \n",
       "                                                                            \n",
       "M                                         1               6               12\n",
       "strategy                                                                    \n",
       "algo1/d:10|e:1                17.63±1.9634\\%  15.07±2.0919\\%  17.68±2.0679\\%\n",
       "algo2/k:10                    18.44±1.3849\\%  17.26±3.3846\\%  17.33±2.9685\\%\n",
       "oneshot                       14.82±2.1890\\%  15.40±2.9948\\%  18.96±0.7565\\%"
      ]
     },
     "execution_count": 59,
     "metadata": {},
     "output_type": "execute_result"
    }
   ],
   "source": [
    "print_table(df_fashion_mnist_resnet, 0.3, 12, should_print=False)"
   ]
  },
  {
   "cell_type": "code",
   "execution_count": 56,
   "metadata": {
    "solution2": "hidden",
    "solution2_first": true
   },
   "outputs": [
    {
     "name": "stdout",
     "output_type": "stream",
     "text": [
      "we have 8 analyses\n"
     ]
    },
    {
     "data": {
      "text/plain": [
       "strategy  M   p  \n",
       "oneshot   6   0.0    8\n",
       "              0.1    8\n",
       "              0.2    8\n",
       "              0.3    8\n",
       "              0.4    8\n",
       "              0.5    8\n",
       "          12  0.0    8\n",
       "              0.1    8\n",
       "              0.2    8\n",
       "              0.3    8\n",
       "              0.4    8\n",
       "              0.5    8\n",
       "Name: M, dtype: int64"
      ]
     },
     "execution_count": 56,
     "metadata": {},
     "output_type": "execute_result"
    }
   ],
   "source": [
    "df_fashion_mnist_resnet_vib = read_analysis_from_dir(\"../artifacts-server/mpg-server/experiment-robustness-fashion_mnist-vib/*/resnet20-vib*\")\n",
    "df_fashion_mnist_resnet_vib\n",
    "df_fashion_mnist_resnet_vib.groupby([\"strategy\", \"M\", \"p\"])[\"M\"].count()"
   ]
  },
  {
   "cell_type": "code",
   "execution_count": 423,
   "metadata": {
    "solution2": "hidden"
   },
   "outputs": [
    {
     "name": "stdout",
     "output_type": "stream",
     "text": [
      "\\begin{tabular}{rcccc}\n",
      "\\toprule\n",
      "{} & \\multicolumn{2}{l}{accuracy ($p=0.300000$, L=12)} \\\\\n",
      "{} \\\\\n",
      "M &                            6  &              12 \\\\\n",
      "strategy &                               &                 \\\\\n",
      "\\midrule\n",
      "oneshot  &                18.97±2.6524\\% &  15.92±1.7400\\% \\\\\n",
      "\\bottomrule\n",
      "\\end{tabular}\n",
      "\n"
     ]
    },
    {
     "name": "stderr",
     "output_type": "stream",
     "text": [
      "/Users/heytitle/projects/venv-python3/lib/python3.7/site-packages/ipykernel_launcher.py:5: FutureWarning: using a dict on a Series for aggregation\n",
      "is deprecated and will be removed in a future version\n",
      "  \"\"\"\n"
     ]
    },
    {
     "data": {
      "text/html": [
       "<div>\n",
       "<style scoped>\n",
       "    .dataframe tbody tr th:only-of-type {\n",
       "        vertical-align: middle;\n",
       "    }\n",
       "\n",
       "    .dataframe tbody tr th {\n",
       "        vertical-align: top;\n",
       "    }\n",
       "\n",
       "    .dataframe thead tr th {\n",
       "        text-align: left;\n",
       "    }\n",
       "\n",
       "    .dataframe thead tr:last-of-type th {\n",
       "        text-align: right;\n",
       "    }\n",
       "</style>\n",
       "<table border=\"1\" class=\"dataframe\">\n",
       "  <thead>\n",
       "    <tr>\n",
       "      <th></th>\n",
       "      <th colspan=\"2\" halign=\"left\">accuracy ($p=0.300000$, L=12)</th>\n",
       "    </tr>\n",
       "    <tr>\n",
       "      <th></th>\n",
       "      <th colspan=\"2\" halign=\"left\"></th>\n",
       "    </tr>\n",
       "    <tr>\n",
       "      <th>M</th>\n",
       "      <th>6</th>\n",
       "      <th>12</th>\n",
       "    </tr>\n",
       "    <tr>\n",
       "      <th>strategy</th>\n",
       "      <th></th>\n",
       "      <th></th>\n",
       "    </tr>\n",
       "  </thead>\n",
       "  <tbody>\n",
       "    <tr>\n",
       "      <th>oneshot</th>\n",
       "      <td>18.97±2.6524\\%</td>\n",
       "      <td>15.92±1.7400\\%</td>\n",
       "    </tr>\n",
       "  </tbody>\n",
       "</table>\n",
       "</div>"
      ],
      "text/plain": [
       "         accuracy ($p=0.300000$, L=12)                \n",
       "                                                      \n",
       "M                                   6               12\n",
       "strategy                                              \n",
       "oneshot                 18.97±2.6524\\%  15.92±1.7400\\%"
      ]
     },
     "execution_count": 423,
     "metadata": {},
     "output_type": "execute_result"
    }
   ],
   "source": [
    "print_table(df_fashion_mnist_resnet_vib, 0.3, 12, should_print=True)"
   ]
  },
  {
   "cell_type": "code",
   "execution_count": 79,
   "metadata": {},
   "outputs": [
    {
     "data": {
      "image/png": "[encoded data removed]",
      "text/plain": [
       "<Figure size 1080x288 with 3 Axes>"
      ]
     },
     "metadata": {
      "needs_background": "light"
     },
     "output_type": "display_data"
    }
   ],
   "source": [
    "plot_robust_curve(\n",
    "    df_fashion_mnist_resnet,\n",
    "    1,\n",
    "    [\"oneshot\", \"algo1/d:10|e:1\", \"algo2/k:10\"],\n",
    "    alpha=0.1,\n",
    "    df_vib=df_fashion_mnist_resnet_vib\n",
    ")\n",
    "plt.savefig(\"./figures/salt-pepper/fmnist-mnist-l1.pdf\")"
   ]
  },
  {
   "cell_type": "code",
   "execution_count": 80,
   "metadata": {},
   "outputs": [
    {
     "data": {
      "image/png": "[encoded data removed]",
      "text/plain": [
       "<Figure size 1080x288 with 3 Axes>"
      ]
     },
     "metadata": {
      "needs_background": "light"
     },
     "output_type": "display_data"
    }
   ],
   "source": [
    "plot_robust_curve(\n",
    "    df_fashion_mnist_resnet,\n",
    "    12,\n",
    "    [\"oneshot\", \"algo1/d:10|e:1\", \"algo2/k:10\"],\n",
    "    alpha=0.1,\n",
    "    df_vib=df_fashion_mnist_resnet_vib\n",
    ")\n",
    "plt.savefig(\"./figures/salt-pepper/fmnist-mnist-l12.pdf\")"
   ]
  },
  {
   "cell_type": "markdown",
   "metadata": {},
   "source": [
    "# CIFAR10"
   ]
  },
  {
   "cell_type": "code",
   "execution_count": 332,
   "metadata": {},
   "outputs": [],
   "source": [
    "\n",
    "# df_cifar10_resnet = read_analysis_from_dir(\"../artifacts-server/mpg-server/experiment-cifar-256d-test-robustness/*/*\")\n",
    "# df_cifar10_resnet.groupby([\"strategy\", \"M\", \"p\"])[\"M\"].count()"
   ]
  },
  {
   "cell_type": "code",
   "execution_count": 330,
   "metadata": {},
   "outputs": [
    {
     "ename": "AttributeError",
     "evalue": "'DataFrame' object has no attribute 'L'",
     "output_type": "error",
     "traceback": [
      "\u001b[0;31m----------------------------------------------------------------------\u001b[0m",
      "\u001b[0;31mAttributeError\u001b[0m                       Traceback (most recent call last)",
      "\u001b[0;32m<ipython-input-330-772d9da0b711>\u001b[0m in \u001b[0;36m<module>\u001b[0;34m\u001b[0m\n\u001b[0;32m----> 1\u001b[0;31m \u001b[0mprint_table\u001b[0m\u001b[0;34m(\u001b[0m\u001b[0mdf_cifar10_resnet\u001b[0m\u001b[0;34m,\u001b[0m \u001b[0;36m1\u001b[0m\u001b[0;34m,\u001b[0m \u001b[0;36m0.0\u001b[0m\u001b[0;34m,\u001b[0m \u001b[0mshould_print\u001b[0m\u001b[0;34m=\u001b[0m\u001b[0;32mFalse\u001b[0m\u001b[0;34m)\u001b[0m\u001b[0;34m\u001b[0m\u001b[0;34m\u001b[0m\u001b[0m\n\u001b[0m",
      "\u001b[0;32m<ipython-input-201-17e1f7772318>\u001b[0m in \u001b[0;36mprint_table\u001b[0;34m(df, p, L, should_print)\u001b[0m\n\u001b[1;32m      1\u001b[0m \u001b[0;32mdef\u001b[0m \u001b[0mprint_table\u001b[0m\u001b[0;34m(\u001b[0m\u001b[0mdf\u001b[0m\u001b[0;34m,\u001b[0m \u001b[0mp\u001b[0m\u001b[0;34m,\u001b[0m \u001b[0mL\u001b[0m\u001b[0;34m,\u001b[0m \u001b[0mshould_print\u001b[0m\u001b[0;34m=\u001b[0m\u001b[0;32mTrue\u001b[0m\u001b[0;34m)\u001b[0m\u001b[0;34m:\u001b[0m\u001b[0;34m\u001b[0m\u001b[0;34m\u001b[0m\u001b[0m\n\u001b[1;32m      2\u001b[0m     \u001b[0mmetric\u001b[0m \u001b[0;34m=\u001b[0m \u001b[0;34m\"accuracy\"\u001b[0m\u001b[0;34m\u001b[0m\u001b[0;34m\u001b[0m\u001b[0m\n\u001b[0;32m----> 3\u001b[0;31m     \u001b[0mdf\u001b[0m \u001b[0;34m=\u001b[0m \u001b[0mdf\u001b[0m\u001b[0;34m[\u001b[0m\u001b[0;34m(\u001b[0m\u001b[0mdf\u001b[0m\u001b[0;34m.\u001b[0m\u001b[0mp\u001b[0m \u001b[0;34m==\u001b[0m \u001b[0mp\u001b[0m\u001b[0;34m)\u001b[0m \u001b[0;34m&\u001b[0m \u001b[0;34m(\u001b[0m\u001b[0mdf\u001b[0m\u001b[0;34m.\u001b[0m\u001b[0mL\u001b[0m \u001b[0;34m==\u001b[0m \u001b[0mL\u001b[0m\u001b[0;34m)\u001b[0m\u001b[0;34m]\u001b[0m\u001b[0;31m\\\u001b[0m\u001b[0;34m\u001b[0m\u001b[0;34m\u001b[0m\u001b[0m\n\u001b[0m\u001b[1;32m      4\u001b[0m         \u001b[0;34m.\u001b[0m\u001b[0mgroupby\u001b[0m\u001b[0;34m(\u001b[0m\u001b[0;34m[\u001b[0m\u001b[0;34m\"strategy\"\u001b[0m\u001b[0;34m,\u001b[0m \u001b[0;34m\"M\"\u001b[0m\u001b[0;34m]\u001b[0m\u001b[0;34m)\u001b[0m\u001b[0;34m[\u001b[0m\u001b[0mmetric\u001b[0m\u001b[0;34m]\u001b[0m\u001b[0;31m\\\u001b[0m\u001b[0;34m\u001b[0m\u001b[0;34m\u001b[0m\u001b[0m\n\u001b[1;32m      5\u001b[0m         \u001b[0;34m.\u001b[0m\u001b[0magg\u001b[0m\u001b[0;34m(\u001b[0m\u001b[0;34m{\u001b[0m\u001b[0mmetric\u001b[0m\u001b[0;34m:\u001b[0m \u001b[0;34m[\u001b[0m\u001b[0;34m'mean'\u001b[0m\u001b[0;34m,\u001b[0m \u001b[0;34m'std'\u001b[0m\u001b[0;34m]\u001b[0m\u001b[0;34m}\u001b[0m\u001b[0;34m)\u001b[0m\u001b[0;31m\\\u001b[0m\u001b[0;34m\u001b[0m\u001b[0;34m\u001b[0m\u001b[0m\n",
      "\u001b[0;32m~/projects/venv-python3/lib/python3.7/site-packages/pandas/core/generic.py\u001b[0m in \u001b[0;36m__getattr__\u001b[0;34m(self, name)\u001b[0m\n\u001b[1;32m   4374\u001b[0m             \u001b[0;32mif\u001b[0m \u001b[0mself\u001b[0m\u001b[0;34m.\u001b[0m\u001b[0m_info_axis\u001b[0m\u001b[0;34m.\u001b[0m\u001b[0m_can_hold_identifiers_and_holds_name\u001b[0m\u001b[0;34m(\u001b[0m\u001b[0mname\u001b[0m\u001b[0;34m)\u001b[0m\u001b[0;34m:\u001b[0m\u001b[0;34m\u001b[0m\u001b[0;34m\u001b[0m\u001b[0m\n\u001b[1;32m   4375\u001b[0m                 \u001b[0;32mreturn\u001b[0m \u001b[0mself\u001b[0m\u001b[0;34m[\u001b[0m\u001b[0mname\u001b[0m\u001b[0;34m]\u001b[0m\u001b[0;34m\u001b[0m\u001b[0;34m\u001b[0m\u001b[0m\n\u001b[0;32m-> 4376\u001b[0;31m             \u001b[0;32mreturn\u001b[0m \u001b[0mobject\u001b[0m\u001b[0;34m.\u001b[0m\u001b[0m__getattribute__\u001b[0m\u001b[0;34m(\u001b[0m\u001b[0mself\u001b[0m\u001b[0;34m,\u001b[0m \u001b[0mname\u001b[0m\u001b[0;34m)\u001b[0m\u001b[0;34m\u001b[0m\u001b[0;34m\u001b[0m\u001b[0m\n\u001b[0m\u001b[1;32m   4377\u001b[0m \u001b[0;34m\u001b[0m\u001b[0m\n\u001b[1;32m   4378\u001b[0m     \u001b[0;32mdef\u001b[0m \u001b[0m__setattr__\u001b[0m\u001b[0;34m(\u001b[0m\u001b[0mself\u001b[0m\u001b[0;34m,\u001b[0m \u001b[0mname\u001b[0m\u001b[0;34m,\u001b[0m \u001b[0mvalue\u001b[0m\u001b[0;34m)\u001b[0m\u001b[0;34m:\u001b[0m\u001b[0;34m\u001b[0m\u001b[0;34m\u001b[0m\u001b[0m\n",
      "\u001b[0;31mAttributeError\u001b[0m: 'DataFrame' object has no attribute 'L'"
     ]
    }
   ],
   "source": [
    "print_table(df_cifar10_resnet, 1, 0.0, should_print=False)"
   ]
  },
  {
   "cell_type": "code",
   "execution_count": 328,
   "metadata": {},
   "outputs": [
    {
     "ename": "AttributeError",
     "evalue": "'DataFrame' object has no attribute 'L'",
     "output_type": "error",
     "traceback": [
      "\u001b[0;31m----------------------------------------------------------------------\u001b[0m",
      "\u001b[0;31mAttributeError\u001b[0m                       Traceback (most recent call last)",
      "\u001b[0;32m<ipython-input-328-5429c89adb6a>\u001b[0m in \u001b[0;36m<module>\u001b[0;34m\u001b[0m\n\u001b[0;32m----> 1\u001b[0;31m \u001b[0mprint_table\u001b[0m\u001b[0;34m(\u001b[0m\u001b[0mdf_cifar10_256d\u001b[0m\u001b[0;34m,\u001b[0m \u001b[0;36m0.01\u001b[0m\u001b[0;34m,\u001b[0m  \u001b[0;36m1\u001b[0m\u001b[0;34m,\u001b[0m \u001b[0mshould_print\u001b[0m\u001b[0;34m=\u001b[0m\u001b[0;32mFalse\u001b[0m\u001b[0;34m)\u001b[0m\u001b[0;34m\u001b[0m\u001b[0;34m\u001b[0m\u001b[0m\n\u001b[0m",
      "\u001b[0;32m<ipython-input-201-17e1f7772318>\u001b[0m in \u001b[0;36mprint_table\u001b[0;34m(df, p, L, should_print)\u001b[0m\n\u001b[1;32m      1\u001b[0m \u001b[0;32mdef\u001b[0m \u001b[0mprint_table\u001b[0m\u001b[0;34m(\u001b[0m\u001b[0mdf\u001b[0m\u001b[0;34m,\u001b[0m \u001b[0mp\u001b[0m\u001b[0;34m,\u001b[0m \u001b[0mL\u001b[0m\u001b[0;34m,\u001b[0m \u001b[0mshould_print\u001b[0m\u001b[0;34m=\u001b[0m\u001b[0;32mTrue\u001b[0m\u001b[0;34m)\u001b[0m\u001b[0;34m:\u001b[0m\u001b[0;34m\u001b[0m\u001b[0;34m\u001b[0m\u001b[0m\n\u001b[1;32m      2\u001b[0m     \u001b[0mmetric\u001b[0m \u001b[0;34m=\u001b[0m \u001b[0;34m\"accuracy\"\u001b[0m\u001b[0;34m\u001b[0m\u001b[0;34m\u001b[0m\u001b[0m\n\u001b[0;32m----> 3\u001b[0;31m     \u001b[0mdf\u001b[0m \u001b[0;34m=\u001b[0m \u001b[0mdf\u001b[0m\u001b[0;34m[\u001b[0m\u001b[0;34m(\u001b[0m\u001b[0mdf\u001b[0m\u001b[0;34m.\u001b[0m\u001b[0mp\u001b[0m \u001b[0;34m==\u001b[0m \u001b[0mp\u001b[0m\u001b[0;34m)\u001b[0m \u001b[0;34m&\u001b[0m \u001b[0;34m(\u001b[0m\u001b[0mdf\u001b[0m\u001b[0;34m.\u001b[0m\u001b[0mL\u001b[0m \u001b[0;34m==\u001b[0m \u001b[0mL\u001b[0m\u001b[0;34m)\u001b[0m\u001b[0;34m]\u001b[0m\u001b[0;31m\\\u001b[0m\u001b[0;34m\u001b[0m\u001b[0;34m\u001b[0m\u001b[0m\n\u001b[0m\u001b[1;32m      4\u001b[0m         \u001b[0;34m.\u001b[0m\u001b[0mgroupby\u001b[0m\u001b[0;34m(\u001b[0m\u001b[0;34m[\u001b[0m\u001b[0;34m\"strategy\"\u001b[0m\u001b[0;34m,\u001b[0m \u001b[0;34m\"M\"\u001b[0m\u001b[0;34m]\u001b[0m\u001b[0;34m)\u001b[0m\u001b[0;34m[\u001b[0m\u001b[0mmetric\u001b[0m\u001b[0;34m]\u001b[0m\u001b[0;31m\\\u001b[0m\u001b[0;34m\u001b[0m\u001b[0;34m\u001b[0m\u001b[0m\n\u001b[1;32m      5\u001b[0m         \u001b[0;34m.\u001b[0m\u001b[0magg\u001b[0m\u001b[0;34m(\u001b[0m\u001b[0;34m{\u001b[0m\u001b[0mmetric\u001b[0m\u001b[0;34m:\u001b[0m \u001b[0;34m[\u001b[0m\u001b[0;34m'mean'\u001b[0m\u001b[0;34m,\u001b[0m \u001b[0;34m'std'\u001b[0m\u001b[0;34m]\u001b[0m\u001b[0;34m}\u001b[0m\u001b[0;34m)\u001b[0m\u001b[0;31m\\\u001b[0m\u001b[0;34m\u001b[0m\u001b[0;34m\u001b[0m\u001b[0m\n",
      "\u001b[0;32m~/projects/venv-python3/lib/python3.7/site-packages/pandas/core/generic.py\u001b[0m in \u001b[0;36m__getattr__\u001b[0;34m(self, name)\u001b[0m\n\u001b[1;32m   4374\u001b[0m             \u001b[0;32mif\u001b[0m \u001b[0mself\u001b[0m\u001b[0;34m.\u001b[0m\u001b[0m_info_axis\u001b[0m\u001b[0;34m.\u001b[0m\u001b[0m_can_hold_identifiers_and_holds_name\u001b[0m\u001b[0;34m(\u001b[0m\u001b[0mname\u001b[0m\u001b[0;34m)\u001b[0m\u001b[0;34m:\u001b[0m\u001b[0;34m\u001b[0m\u001b[0;34m\u001b[0m\u001b[0m\n\u001b[1;32m   4375\u001b[0m                 \u001b[0;32mreturn\u001b[0m \u001b[0mself\u001b[0m\u001b[0;34m[\u001b[0m\u001b[0mname\u001b[0m\u001b[0;34m]\u001b[0m\u001b[0;34m\u001b[0m\u001b[0;34m\u001b[0m\u001b[0m\n\u001b[0;32m-> 4376\u001b[0;31m             \u001b[0;32mreturn\u001b[0m \u001b[0mobject\u001b[0m\u001b[0;34m.\u001b[0m\u001b[0m__getattribute__\u001b[0m\u001b[0;34m(\u001b[0m\u001b[0mself\u001b[0m\u001b[0;34m,\u001b[0m \u001b[0mname\u001b[0m\u001b[0;34m)\u001b[0m\u001b[0;34m\u001b[0m\u001b[0;34m\u001b[0m\u001b[0m\n\u001b[0m\u001b[1;32m   4377\u001b[0m \u001b[0;34m\u001b[0m\u001b[0m\n\u001b[1;32m   4378\u001b[0m     \u001b[0;32mdef\u001b[0m \u001b[0m__setattr__\u001b[0m\u001b[0;34m(\u001b[0m\u001b[0mself\u001b[0m\u001b[0;34m,\u001b[0m \u001b[0mname\u001b[0m\u001b[0;34m,\u001b[0m \u001b[0mvalue\u001b[0m\u001b[0;34m)\u001b[0m\u001b[0;34m:\u001b[0m\u001b[0;34m\u001b[0m\u001b[0;34m\u001b[0m\u001b[0m\n",
      "\u001b[0;31mAttributeError\u001b[0m: 'DataFrame' object has no attribute 'L'"
     ]
    }
   ],
   "source": [
    "print_table(df_cifar10_256d, 0.01,  1, should_print=False)"
   ]
  },
  {
   "cell_type": "code",
   "execution_count": 171,
   "metadata": {},
   "outputs": [
    {
     "name": "stderr",
     "output_type": "stream",
     "text": [
      "/Users/heytitle/projects/venv-python3/lib/python3.7/site-packages/ipykernel_launcher.py:5: FutureWarning: using a dict on a Series for aggregation\n",
      "is deprecated and will be removed in a future version\n",
      "  \"\"\"\n"
     ]
    },
    {
     "data": {
      "text/html": [
       "<div>\n",
       "<style scoped>\n",
       "    .dataframe tbody tr th:only-of-type {\n",
       "        vertical-align: middle;\n",
       "    }\n",
       "\n",
       "    .dataframe tbody tr th {\n",
       "        vertical-align: top;\n",
       "    }\n",
       "\n",
       "    .dataframe thead tr th {\n",
       "        text-align: left;\n",
       "    }\n",
       "\n",
       "    .dataframe thead tr:last-of-type th {\n",
       "        text-align: right;\n",
       "    }\n",
       "</style>\n",
       "<table border=\"1\" class=\"dataframe\">\n",
       "  <thead>\n",
       "    <tr>\n",
       "      <th></th>\n",
       "      <th colspan=\"3\" halign=\"left\">accuracy ($p=0.02$)</th>\n",
       "    </tr>\n",
       "    <tr>\n",
       "      <th></th>\n",
       "      <th colspan=\"3\" halign=\"left\"></th>\n",
       "    </tr>\n",
       "    <tr>\n",
       "      <th>M</th>\n",
       "      <th>1</th>\n",
       "      <th>6</th>\n",
       "      <th>12</th>\n",
       "    </tr>\n",
       "    <tr>\n",
       "      <th>strategy</th>\n",
       "      <th></th>\n",
       "      <th></th>\n",
       "      <th></th>\n",
       "    </tr>\n",
       "  </thead>\n",
       "  <tbody>\n",
       "    <tr>\n",
       "      <th>algo1/d:10|e:1</th>\n",
       "      <td>18.26±3.2386\\%</td>\n",
       "      <td>20.37±nan\\%</td>\n",
       "      <td>19.14±0.7582\\%</td>\n",
       "    </tr>\n",
       "    <tr>\n",
       "      <th>algo2/k:10</th>\n",
       "      <td>18.58±5.5854\\%</td>\n",
       "      <td>18.14±2.5313\\%</td>\n",
       "      <td>17.48±2.1879\\%</td>\n",
       "    </tr>\n",
       "    <tr>\n",
       "      <th>oneshot</th>\n",
       "      <td>17.90±2.8195\\%</td>\n",
       "      <td>18.58±2.4899\\%</td>\n",
       "      <td>17.85±2.8409\\%</td>\n",
       "    </tr>\n",
       "  </tbody>\n",
       "</table>\n",
       "</div>"
      ],
      "text/plain": [
       "               accuracy ($p=0.02$)                                \n",
       "                                                                  \n",
       "M                               1               6               12\n",
       "strategy                                                          \n",
       "algo1/d:10|e:1      18.26±3.2386\\%     20.37±nan\\%  19.14±0.7582\\%\n",
       "algo2/k:10          18.58±5.5854\\%  18.14±2.5313\\%  17.48±2.1879\\%\n",
       "oneshot             17.90±2.8195\\%  18.58±2.4899\\%  17.85±2.8409\\%"
      ]
     },
     "execution_count": 171,
     "metadata": {},
     "output_type": "execute_result"
    }
   ],
   "source": [
    "print_table(df_cifar10_256d, 0.02, should_print=False)"
   ]
  },
  {
   "cell_type": "code",
   "execution_count": 178,
   "metadata": {},
   "outputs": [
    {
     "name": "stderr",
     "output_type": "stream",
     "text": [
      "/Users/heytitle/projects/venv-python3/lib/python3.7/site-packages/ipykernel_launcher.py:5: FutureWarning: using a dict on a Series for aggregation\n",
      "is deprecated and will be removed in a future version\n",
      "  \"\"\"\n"
     ]
    },
    {
     "data": {
      "text/html": [
       "<div>\n",
       "<style scoped>\n",
       "    .dataframe tbody tr th:only-of-type {\n",
       "        vertical-align: middle;\n",
       "    }\n",
       "\n",
       "    .dataframe tbody tr th {\n",
       "        vertical-align: top;\n",
       "    }\n",
       "\n",
       "    .dataframe thead tr th {\n",
       "        text-align: left;\n",
       "    }\n",
       "\n",
       "    .dataframe thead tr:last-of-type th {\n",
       "        text-align: right;\n",
       "    }\n",
       "</style>\n",
       "<table border=\"1\" class=\"dataframe\">\n",
       "  <thead>\n",
       "    <tr>\n",
       "      <th></th>\n",
       "      <th colspan=\"3\" halign=\"left\">accuracy ($p=0.050000$)</th>\n",
       "    </tr>\n",
       "    <tr>\n",
       "      <th></th>\n",
       "      <th colspan=\"3\" halign=\"left\"></th>\n",
       "    </tr>\n",
       "    <tr>\n",
       "      <th>M</th>\n",
       "      <th>1</th>\n",
       "      <th>6</th>\n",
       "      <th>12</th>\n",
       "    </tr>\n",
       "    <tr>\n",
       "      <th>strategy</th>\n",
       "      <th></th>\n",
       "      <th></th>\n",
       "      <th></th>\n",
       "    </tr>\n",
       "  </thead>\n",
       "  <tbody>\n",
       "    <tr>\n",
       "      <th>algo1/d:10|e:1</th>\n",
       "      <td>11.61±0.9550\\%</td>\n",
       "      <td>11.81±nan\\%</td>\n",
       "      <td>11.42±0.7592\\%</td>\n",
       "    </tr>\n",
       "    <tr>\n",
       "      <th>algo2/k:10</th>\n",
       "      <td>11.76±1.2505\\%</td>\n",
       "      <td>11.68±0.7819\\%</td>\n",
       "      <td>11.06±0.5250\\%</td>\n",
       "    </tr>\n",
       "    <tr>\n",
       "      <th>oneshot</th>\n",
       "      <td>11.16±0.5499\\%</td>\n",
       "      <td>11.91±1.0109\\%</td>\n",
       "      <td>11.74±1.1096\\%</td>\n",
       "    </tr>\n",
       "  </tbody>\n",
       "</table>\n",
       "</div>"
      ],
      "text/plain": [
       "               accuracy ($p=0.050000$)                                \n",
       "                                                                      \n",
       "M                                   1               6               12\n",
       "strategy                                                              \n",
       "algo1/d:10|e:1          11.61±0.9550\\%     11.81±nan\\%  11.42±0.7592\\%\n",
       "algo2/k:10              11.76±1.2505\\%  11.68±0.7819\\%  11.06±0.5250\\%\n",
       "oneshot                 11.16±0.5499\\%  11.91±1.0109\\%  11.74±1.1096\\%"
      ]
     },
     "execution_count": 178,
     "metadata": {},
     "output_type": "execute_result"
    }
   ],
   "source": [
    "print_table(df_cifar10_256d, 0.05, should_print=False)"
   ]
  },
  {
   "cell_type": "code",
   "execution_count": 179,
   "metadata": {},
   "outputs": [
    {
     "name": "stderr",
     "output_type": "stream",
     "text": [
      "/Users/heytitle/projects/venv-python3/lib/python3.7/site-packages/ipykernel_launcher.py:5: FutureWarning: using a dict on a Series for aggregation\n",
      "is deprecated and will be removed in a future version\n",
      "  \"\"\"\n"
     ]
    },
    {
     "data": {
      "text/html": [
       "<div>\n",
       "<style scoped>\n",
       "    .dataframe tbody tr th:only-of-type {\n",
       "        vertical-align: middle;\n",
       "    }\n",
       "\n",
       "    .dataframe tbody tr th {\n",
       "        vertical-align: top;\n",
       "    }\n",
       "\n",
       "    .dataframe thead tr th {\n",
       "        text-align: left;\n",
       "    }\n",
       "\n",
       "    .dataframe thead tr:last-of-type th {\n",
       "        text-align: right;\n",
       "    }\n",
       "</style>\n",
       "<table border=\"1\" class=\"dataframe\">\n",
       "  <thead>\n",
       "    <tr>\n",
       "      <th></th>\n",
       "      <th colspan=\"3\" halign=\"left\">accuracy ($p=0.100000$)</th>\n",
       "    </tr>\n",
       "    <tr>\n",
       "      <th></th>\n",
       "      <th colspan=\"3\" halign=\"left\"></th>\n",
       "    </tr>\n",
       "    <tr>\n",
       "      <th>M</th>\n",
       "      <th>1</th>\n",
       "      <th>6</th>\n",
       "      <th>12</th>\n",
       "    </tr>\n",
       "    <tr>\n",
       "      <th>strategy</th>\n",
       "      <th></th>\n",
       "      <th></th>\n",
       "      <th></th>\n",
       "    </tr>\n",
       "  </thead>\n",
       "  <tbody>\n",
       "    <tr>\n",
       "      <th>algo1/d:10|e:1</th>\n",
       "      <td>10.73±0.4283\\%</td>\n",
       "      <td>11.01±nan\\%</td>\n",
       "      <td>10.59±0.4234\\%</td>\n",
       "    </tr>\n",
       "    <tr>\n",
       "      <th>algo2/k:10</th>\n",
       "      <td>10.64±0.3669\\%</td>\n",
       "      <td>10.65±0.3665\\%</td>\n",
       "      <td>10.52±0.3217\\%</td>\n",
       "    </tr>\n",
       "    <tr>\n",
       "      <th>oneshot</th>\n",
       "      <td>10.43±0.2512\\%</td>\n",
       "      <td>10.97±0.6971\\%</td>\n",
       "      <td>10.80±0.6355\\%</td>\n",
       "    </tr>\n",
       "  </tbody>\n",
       "</table>\n",
       "</div>"
      ],
      "text/plain": [
       "               accuracy ($p=0.100000$)                                \n",
       "                                                                      \n",
       "M                                   1               6               12\n",
       "strategy                                                              \n",
       "algo1/d:10|e:1          10.73±0.4283\\%     11.01±nan\\%  10.59±0.4234\\%\n",
       "algo2/k:10              10.64±0.3669\\%  10.65±0.3665\\%  10.52±0.3217\\%\n",
       "oneshot                 10.43±0.2512\\%  10.97±0.6971\\%  10.80±0.6355\\%"
      ]
     },
     "execution_count": 179,
     "metadata": {},
     "output_type": "execute_result"
    }
   ],
   "source": [
    "print_table(df_cifar10_256d, 0.1, should_print=False)"
   ]
  },
  {
   "cell_type": "code",
   "execution_count": 165,
   "metadata": {},
   "outputs": [
    {
     "data": {
      "image/png": "[encoded data removed]",
      "text/plain": [
       "<Figure size 1080x216 with 3 Axes>"
      ]
     },
     "metadata": {
      "needs_background": "light"
     },
     "output_type": "display_data"
    }
   ],
   "source": [
    "plot_robust_curve(df_cifar10_256d, [\"oneshot\", \"algo1/d:10|e:1\", \"algo2/k:10\"])"
   ]
  },
  {
   "cell_type": "code",
   "execution_count": null,
   "metadata": {},
   "outputs": [],
   "source": []
  }
 ],
 "metadata": {
  "kernelspec": {
   "display_name": "venv-python3-global",
   "language": "python",
   "name": "venv-python3-global"
  },
  "language_info": {
   "codemirror_mode": {
    "name": "ipython",
    "version": 3
   },
   "file_extension": ".py",
   "mimetype": "text/x-python",
   "name": "python",
   "nbconvert_exporter": "python",
   "pygments_lexer": "ipython3",
   "version": "3.7.3"
  },
  "toc": {
   "nav_menu": {},
   "number_sections": true,
   "sideBar": true,
   "skip_h1_title": false,
   "toc_cell": false,
   "toc_position": {
    "height": "673px",
    "left": "0px",
    "right": "1228px",
    "top": "110px",
    "width": "212px"
   },
   "toc_section_display": "block",
   "toc_window_display": true
  }
 },
 "nbformat": 4,
 "nbformat_minor": 2
}
