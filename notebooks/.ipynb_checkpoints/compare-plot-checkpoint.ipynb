{
 "cells": [
  {
   "cell_type": "code",
   "execution_count": 11,
   "metadata": {},
   "outputs": [],
   "source": [
    "import glob\n",
    "\n",
    "import tensorflow as tf\n",
    "\n",
    "from tensorflow.python.summary.summary_iterator import summary_iterator\n",
    "from tensorflow.python.framework import tensor_util\n",
    "\n",
    "from matplotlib import pyplot as plt"
   ]
  },
  {
   "cell_type": "code",
   "execution_count": 28,
   "metadata": {},
   "outputs": [],
   "source": [
    "metrics = ['accuracy', 'loss', \"I_XZ\", \"I_YZ\"]\n",
    "\n",
    "def event_file(path):\n",
    "    files = glob.glob(f\"{path}/*\")\n",
    "    return files[0]\n",
    "\n",
    "def read_metrics(path):\n",
    "    data = dict(zip(metrics,  [[] for x in range(len(metrics))]))\n",
    "    \n",
    "    for e in summary_iterator(event_file(path)):\n",
    "        for v in e.summary.value:\n",
    "            if v.tag in metrics:\n",
    "                t = tensor_util.MakeNdarray(v.tensor)\n",
    "                data[v.tag].append(float(t))\n",
    "    return data\n",
    "\n",
    "\n",
    "data = read_metrics(\"../artifacts-server/vdb-fashion_mnist--2019-11-21--11-16-05/logs/train\");"
   ]
  },
  {
   "cell_type": "code",
   "execution_count": 29,
   "metadata": {},
   "outputs": [],
   "source": [
    "def read_model_metrics(model_path):\n",
    "    return dict(\n",
    "        train=read_metrics(f\"{model_path}/logs/train\"),\n",
    "        test=read_metrics(f\"{model_path}/logs/test\")\n",
    "    )\n",
    "\n",
    "data = read_model_metrics(\"../artifacts-server/vdb-fashion_mnist--2019-11-21--11-16-05\")"
   ]
  },
  {
   "cell_type": "code",
   "execution_count": 85,
   "metadata": {},
   "outputs": [],
   "source": [
    "fmnist_experiments = (\n",
    "    (\"oneshot\",      \"../artifacts-server/vdb-fashion_mnist--2019-11-21--11-16-05\"),\n",
    "    (\"seq/d:1|e:5\",  \"../artifacts-server/vdb-fashion_mnist--2019-11-21--10-47-15\"),\n",
    "    (\"seq/d:1|e:10\", \"../artifacts-server/vdb-fashion_mnist--2019-11-21--11-40-09\"),\n",
    "    (\"seq/d:1|e:20\", \"../artifacts-server/vdb-fashion_mnist--2019-11-21--14-26-26\"),\n",
    ")"
   ]
  },
  {
   "cell_type": "code",
   "execution_count": null,
   "metadata": {},
   "outputs": [],
   "source": [
    "def plot_experiments(experiments, name, sets=['test']):\n",
    "    cm = plt.get_cmap('tab10')\n",
    "        \n",
    "    experiment_metrics = dict()\n",
    "    experiment_names = []\n",
    "    total_experiments = len(experiments)\n",
    "    \n",
    "    for k, v in experiments:\n",
    "        experiment_names.append(k)\n",
    "        experiment_metrics[k] = read_model_metrics(v)\n",
    "\n",
    "    plt.figure(figsize=(12, 8))\n",
    "    \n",
    "    for i, m in enumerate(metrics):\n",
    "        plt.subplot(2, 2, i+1)\n",
    "        for t in sets:\n",
    "            for j, n in enumerate(experiment_names):\n",
    "                color = cm.colors[j]\n",
    "                plt.plot(experiment_metrics[n][t][m], \"--\" if t == \"train\" else \"-\", color=color, label=f\"{t}:{n}\")\n",
    "        plt.ylabel(m)\n",
    "        plt.xlabel(\"Epoch\")\n",
    "        if i == 0:\n",
    "            plt.legend()\n",
    "    plt.suptitle(name)\n",
    "\n",
    "plot_experiments(fmnist_experiments, \"Fashion MNIST\", sets=[\"test\"])"
   ]
  },
  {
   "cell_type": "code",
   "execution_count": null,
   "metadata": {},
   "outputs": [],
   "source": []
  }
 ],
 "metadata": {
  "kernelspec": {
   "display_name": "venv-python3-global",
   "language": "python",
   "name": "venv-python3-global"
  },
  "language_info": {
   "codemirror_mode": {
    "name": "ipython",
    "version": 3
   },
   "file_extension": ".py",
   "mimetype": "text/x-python",
   "name": "python",
   "nbconvert_exporter": "python",
   "pygments_lexer": "ipython3",
   "version": "3.7.3"
  },
  "toc": {
   "nav_menu": {},
   "number_sections": true,
   "sideBar": true,
   "skip_h1_title": false,
   "toc_cell": false,
   "toc_position": {},
   "toc_section_display": "block",
   "toc_window_display": false
  }
 },
 "nbformat": 4,
 "nbformat_minor": 2
}
