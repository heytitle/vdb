{
 "cells": [
  {
   "cell_type": "code",
   "execution_count": 2,
   "metadata": {},
   "outputs": [],
   "source": [
    "import numpy as np\n",
    "from matplotlib import pyplot as plt\n",
    "\n",
    "from datasets import get_dataset"
   ]
  },
  {
   "cell_type": "code",
   "execution_count": 3,
   "metadata": {},
   "outputs": [],
   "source": []
  },
  {
   "cell_type": "code",
   "execution_count": 33,
   "metadata": {},
   "outputs": [],
   "source": [
    "def read_sample(dataset, N=1000):\n",
    "    _, test_set, _ = get_dataset(dataset)\n",
    "    indices = np.random.choice(10000, N).astype(int)\n",
    "    \n",
    "    plt.hist(mnist_test[1][indices])\n",
    "    np.savetxt(f\"../datasets/{dataset}_2d_samples\", indices)"
   ]
  },
  {
   "cell_type": "code",
   "execution_count": 34,
   "metadata": {},
   "outputs": [
    {
     "data": {
      "image/png": "[encoded data removed]",
      "text/plain": [
       "<Figure size 432x288 with 1 Axes>"
      ]
     },
     "metadata": {
      "needs_background": "light"
     },
     "output_type": "display_data"
    }
   ],
   "source": [
    "read_sample(\"mnist\")"
   ]
  },
  {
   "cell_type": "code",
   "execution_count": 23,
   "metadata": {},
   "outputs": [
    {
     "data": {
      "image/png": "[encoded data removed]",
      "text/plain": [
       "<Figure size 432x288 with 1 Axes>"
      ]
     },
     "metadata": {
      "needs_background": "light"
     },
     "output_type": "display_data"
    }
   ],
   "source": [
    "read_sample(\"fashion_mnist\")"
   ]
  },
  {
   "cell_type": "code",
   "execution_count": 24,
   "metadata": {},
   "outputs": [
    {
     "name": "stdout",
     "output_type": "stream",
     "text": [
      "WARNING:tensorflow:From /Users/heytitle/projects/vib-tensorflow2/venv/lib/python3.7/site-packages/tensorflow_core/python/ops/image_ops_impl.py:1518: div (from tensorflow.python.ops.math_ops) is deprecated and will be removed in a future version.\n",
      "Instructions for updating:\n",
      "Deprecated in favor of operator or tf.math.divide.\n"
     ]
    },
    {
     "data": {
      "image/png": "[encoded data removed]",
      "text/plain": [
       "<Figure size 432x288 with 1 Axes>"
      ]
     },
     "metadata": {
      "needs_background": "light"
     },
     "output_type": "display_data"
    }
   ],
   "source": [
    "read_sample(\"cifar10\")"
   ]
  },
  {
   "cell_type": "code",
   "execution_count": 27,
   "metadata": {},
   "outputs": [],
   "source": [
    "indices = np.loadtxt(\"../datasets/mnist_2d_samples\")"
   ]
  },
  {
   "cell_type": "code",
   "execution_count": 28,
   "metadata": {},
   "outputs": [
    {
     "data": {
      "text/plain": [
       "array([6967., 3662., 5123., 5100., 1983., 6569.,  431., 2342.,   82.,\n",
       "       7985., 1433.,  905., 8748., 1729., 2689., 2304., 7602., 6176.,\n",
       "       2835., 7424., 7881., 3070., 4317., 4846., 3741., 1744., 7977.,\n",
       "       9006., 8381., 7704.,  996., 9445., 2140., 4392., 4136., 7068.,\n",
       "       5871., 2308., 5150., 7623., 3191., 7334., 5382., 7594., 7218.,\n",
       "       5569., 5940., 7588., 2235., 8135., 7621., 3093., 3899., 2390.,\n",
       "       5694., 7492., 2862., 7701., 3068., 7839., 6523., 5123., 1654.,\n",
       "       8709., 2997., 3548., 1446., 8404.,   44.,  338., 4494., 6328.,\n",
       "       9091., 4139., 3935., 9352., 7955., 8712., 1004., 7375., 1251.,\n",
       "       4587., 2295., 4012., 9731., 4550., 3251., 9312., 5187.,   54.,\n",
       "       1963., 9513., 3682., 5256., 8967., 6725., 2118.,  332., 6810.,\n",
       "       4864., 9970., 4809., 8793., 3574., 2930., 4490.,   59., 7930.,\n",
       "       4672., 4644., 9706., 6320., 4416., 4922.,  639., 7362., 7021.,\n",
       "         69., 7935., 1811., 1693.,  346., 4404., 8641., 1371., 1619.,\n",
       "       4950., 6908., 4041., 2172., 2253., 8771., 8280., 5467., 4351.,\n",
       "       6850., 8158., 3710., 2970., 2681., 8641., 8994., 5502., 1700.,\n",
       "       8133., 3903., 6393., 1424., 4591., 5594.,  924., 5395., 8363.,\n",
       "       2362., 3036., 3221., 6860., 5016., 6862., 3541., 2674., 7700.,\n",
       "       7420., 4496., 2444., 1710.,  839., 8061., 3444., 7565., 1613.,\n",
       "       6130., 7334., 3552., 9023., 9375., 5206., 5160.,   54., 7622.,\n",
       "       3959., 1859.,  342., 1113., 7107., 2573., 9280., 2986., 4307.,\n",
       "       5058., 3213., 4532., 2353., 7500., 3076., 9762., 9604., 8509.,\n",
       "       6176., 9814., 1514., 5688., 7234., 7726., 7172., 4212., 4692.,\n",
       "       5795.,  179., 7193., 3590., 2900., 3743.,  224., 9542., 4868.,\n",
       "       7318.,  630., 7278., 1861.,  987., 2602., 7440., 4115.,  221.,\n",
       "       7246., 1149., 5825., 3181., 3820., 9055., 4951., 1861., 4806.,\n",
       "       8685., 3385., 9287., 3978., 1377., 9945., 2230., 4655., 2498.,\n",
       "       5521., 6717., 8329., 4297., 8462., 9145., 4348., 5358., 3063.,\n",
       "       1342., 8980.,  528., 4346., 1418.,  681., 5019., 1922., 3152.,\n",
       "       5613., 2877.,  985., 9098.,  769., 6715., 4294., 1928., 9824.,\n",
       "       9848., 8241., 5943., 3527., 5618., 1658., 9439., 2318., 1526.,\n",
       "       8733., 9286., 7652., 3053., 3062., 1197., 9147., 6817., 2827.,\n",
       "       8289., 9080., 2651., 4387., 9003., 5605., 1479.,  416., 8239.,\n",
       "       5379., 5784., 1527.,  239., 5976., 9799., 5613., 1258., 2144.,\n",
       "        661., 1929., 1578., 2214., 3885., 6620., 8660., 3501.,  287.,\n",
       "        346., 3872., 6868., 5383., 7719., 4337.,  689., 6271., 4305.,\n",
       "       2049., 6708., 3929., 4326., 4672., 9887., 7957., 7114., 7110.,\n",
       "       5039., 2595., 4484., 5023., 1282., 5303., 7015.,  563., 3282.,\n",
       "       1538., 6540., 7391., 8994., 6178., 7165., 4164., 1671., 5135.,\n",
       "         30., 5304., 6804., 9227., 8435., 2877., 3993.,  917., 1383.,\n",
       "       1293., 9340., 7169., 8889., 5034., 9749., 9744., 9379., 3753.,\n",
       "       7214., 5130.,  979.,  606., 1130., 4792., 9566.,  536., 7628.,\n",
       "       9326., 3381., 4045., 6514., 1180., 8451., 8486., 8964., 9918.,\n",
       "       5939.,  521., 2737., 1566.,  300., 7639., 2716., 1733., 4339.,\n",
       "       2589., 8251., 2545., 3738., 8131., 7135., 1732., 5013., 3830.,\n",
       "       6083., 2916., 9223., 9778., 7663., 2375., 5066., 9043., 6174.,\n",
       "       9931., 3915., 3204., 8773.,  312., 4655., 9386., 3933., 3036.,\n",
       "       7615., 4712., 6633., 7102., 6984., 9867., 4455., 6378., 9490.,\n",
       "       4550., 1259., 5677., 1642., 2035., 7795., 4408., 7854., 4111.,\n",
       "       7000., 2221., 2441., 7311., 1397., 1719., 8050., 9090., 7759.,\n",
       "       7797., 9103., 8108., 9417., 6328., 3366., 1540., 6397., 3144.,\n",
       "       7508., 6631., 2719., 2950., 6426., 4382.,   85., 9155., 8587.,\n",
       "       7946., 7863., 9024., 3116., 9344., 8299., 4061.,  584., 7713.,\n",
       "       1389., 9234., 1249., 7151., 9214., 8715., 9324., 2910., 2401.,\n",
       "       8061., 1088.,  596., 1388., 2262., 9916., 4042., 6437., 6037.,\n",
       "       7770., 1716., 6151., 4553., 6742.,  261., 6632., 2634., 8439.,\n",
       "       7687., 1554., 2418., 5565., 8662., 8096.,  834., 7066., 2098.,\n",
       "       1888., 3081., 8389., 8113., 6379., 6499., 4885., 6766., 1455.,\n",
       "       3227., 2368., 7730., 5725., 2870., 2784., 8194., 6295.,  267.,\n",
       "       8947.,  427., 4476., 6548., 1942., 7688., 5602., 4986., 2516.,\n",
       "       1700., 3217., 4039., 9268.,  976., 7379., 3359., 6435., 5678.,\n",
       "       1110., 2135., 1712., 6261., 5248., 9089., 2160., 7643., 3015.,\n",
       "       9924., 2939., 5221., 3136.,  734., 4748., 3264., 9904., 1355.,\n",
       "       8157., 1855.,  234., 8739., 6071., 1172., 7195., 1359., 9689.,\n",
       "       5049., 5772., 3289., 7848., 1301., 3573., 2212., 6054.,  147.,\n",
       "       4863., 2310., 1460., 7063., 7022., 6873., 9768., 8492., 2341.,\n",
       "       2867., 5273., 8781., 7106., 1448., 1689., 5458., 7649., 9044.,\n",
       "       8210., 9717., 9754., 9199., 2255., 9597., 5739., 1962., 3355.,\n",
       "       4816., 9373., 6206., 5132., 2237., 1212., 6610., 7307., 4867.,\n",
       "       8639., 6751., 7403., 8912., 6646., 3119., 5831., 9745., 1525.,\n",
       "        962., 5324., 5419., 4300., 6852., 4533., 8755., 3106., 3885.,\n",
       "       4874., 5540., 5438., 8026., 1510., 1898., 9247., 4765., 9813.,\n",
       "       2058., 6130., 8554.,  978., 5157., 4480., 9899., 9596., 8447.,\n",
       "         53., 6264., 5609., 9873., 1331., 1728., 4333.,  696., 4035.,\n",
       "       5761., 1638., 9645., 5179., 9292., 4879., 1728., 7441., 2326.,\n",
       "       6441., 7840., 1706., 7033., 5502., 1132., 2074., 8435., 9398.,\n",
       "       4194., 8687., 4368., 6580.,  924., 5743., 8757.,  756., 1668.,\n",
       "       7873., 8696., 1388., 5990.,   82., 8668., 2307.,  675., 7460.,\n",
       "       6133., 6267., 3877., 1830., 9368., 8366., 4640., 2194.,  329.,\n",
       "       1141., 7845., 7046., 4428., 8430., 3967., 1628., 8414., 3966.,\n",
       "       2510., 4081., 8823., 5269., 2103., 7997.,  427., 1002., 4698.,\n",
       "       5675., 7492., 2303., 6630., 1238., 9334., 6496., 1833., 6975.,\n",
       "       1055., 2068., 6794., 7222.,  818.,  689., 2018., 1153., 2915.,\n",
       "       4721., 4362., 8160.,  915.,  332., 8502., 4293., 5729., 4492.,\n",
       "       4100., 7564., 3564., 1274., 3667., 8271., 1131., 5435., 4570.,\n",
       "       1734., 2613., 4055., 3147., 7865., 3539., 8965., 4355., 3191.,\n",
       "       2930., 4859., 3801.,  855., 3432., 5615., 1865., 1358., 8931.,\n",
       "       4878., 8121., 5379., 8906., 1295., 1701., 4513., 3451., 4634.,\n",
       "       2418., 6212., 7931., 3244., 6315., 3184., 2302., 1262., 3416.,\n",
       "       3507.,  397., 7393., 9280.,  105.,  463., 7600., 4202., 1312.,\n",
       "       2897., 8867., 4908., 9945.,  966., 3103.,   82., 1292., 2924.,\n",
       "       9338., 4336., 6225., 5034., 6275.,  887., 3334.,  678., 6372.,\n",
       "       5307., 2813., 9748., 9385., 1881., 6838., 7831., 9174., 3100.,\n",
       "       7888., 5911., 7246., 8706., 9330., 3443., 9256., 8925., 5689.,\n",
       "       6229., 6399., 8467., 8397., 1580., 9094., 3629., 8772.,  514.,\n",
       "       9570.,  821., 3797., 8666., 4382., 1124., 4900., 3656., 2751.,\n",
       "       8111., 3740., 7145., 3573., 8843., 4283., 9514., 1805.,  398.,\n",
       "       6899., 2392., 8017., 5196.,  643., 8039., 9894., 3072., 3847.,\n",
       "       4796., 1128., 9659., 4564., 2183.,  614.,  496., 7374., 1623.,\n",
       "       5245., 7444., 9743.,  723., 5905., 7229.,  357., 4168., 8942.,\n",
       "       4320.,  752., 5958., 5989.,  397., 5540., 5403., 2284., 4830.,\n",
       "       5247., 8687., 5344., 8437., 1926., 8911., 2246., 3793., 6828.,\n",
       "       8750., 2902., 4649., 6252., 5695., 1289., 4543., 7308., 6751.,\n",
       "        742., 1591., 7311., 5895., 6855., 1422., 9843., 6370., 7753.,\n",
       "        627., 5481., 4590., 3539., 9836., 1458., 6514., 9999., 2516.,\n",
       "       8654.,  763., 3158., 2621.,  136., 8155., 5997., 2628., 7107.,\n",
       "       2927., 1908., 8316., 7250., 7510., 7833., 7762., 2783., 6584.,\n",
       "       1835., 3353., 4509., 5063., 1802., 7797., 6665., 4718., 6704.,\n",
       "       2604.,  439., 9025., 2899., 9065.,  554., 9256.,  944., 7904.,\n",
       "       6270., 3311., 5725., 5174., 5475., 7773., 6082., 6168., 9480.,\n",
       "        579., 7689., 7611.,  976., 7479., 8798., 7114., 3917., 9393.,\n",
       "       7365.])"
      ]
     },
     "execution_count": 28,
     "metadata": {},
     "output_type": "execute_result"
    }
   ],
   "source": [
    "indices"
   ]
  },
  {
   "cell_type": "code",
   "execution_count": null,
   "metadata": {},
   "outputs": [],
   "source": []
  }
 ],
 "metadata": {
  "kernelspec": {
   "display_name": "vdb",
   "language": "python",
   "name": "vdb"
  },
  "language_info": {
   "codemirror_mode": {
    "name": "ipython",
    "version": 3
   },
   "file_extension": ".py",
   "mimetype": "text/x-python",
   "name": "python",
   "nbconvert_exporter": "python",
   "pygments_lexer": "ipython3",
   "version": "3.7.4"
  },
  "toc": {
   "nav_menu": {},
   "number_sections": true,
   "sideBar": true,
   "skip_h1_title": false,
   "toc_cell": false,
   "toc_position": {},
   "toc_section_display": "block",
   "toc_window_display": false
  }
 },
 "nbformat": 4,
 "nbformat_minor": 2
}
